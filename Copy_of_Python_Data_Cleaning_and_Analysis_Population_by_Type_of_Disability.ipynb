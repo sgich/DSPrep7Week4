{
  "nbformat": 4,
  "nbformat_minor": 0,
  "metadata": {
    "colab": {
      "name": "Copy of Python Data Cleaning and Analysis - Population by Type of Disability",
      "provenance": [],
      "collapsed_sections": [
        "VSnOCZ5-IPCi",
        "HToJZ2gBPawZ",
        "IICLGbvBRYHq",
        "RAVzK5O6IR8v",
        "R9S2o1WXIhq1",
        "7CCgp2eguA3H",
        "eyKHF_ubujvV",
        "O2f0aJA4uwP1",
        "ZbjJzXhnuQox",
        "yup2hhMNvVed",
        "NicC8P9LMjvO"
      ],
      "toc_visible": true
    },
    "kernelspec": {
      "name": "python3",
      "display_name": "Python 3"
    }
  },
  "cells": [
    {
      "cell_type": "markdown",
      "metadata": {
        "id": "1-oGL1ftkRxZ"
      },
      "source": [
        "<font color=\"green\">*To start working on this notebook, or any other notebook that we will use in the Moringa Data Science Course, we will need to save our own copy of it. We can do this by clicking File > Save a Copy in Drive. We will then be able to make edits to our own copy of this notebook.*</font>"
      ]
    },
    {
      "cell_type": "markdown",
      "metadata": {
        "id": "m0tgCkvzPLEa"
      },
      "source": [
        "# Python Data Cleaning and Analysis - Population by Type of Disability"
      ]
    },
    {
      "cell_type": "markdown",
      "metadata": {
        "id": "VSnOCZ5-IPCi"
      },
      "source": [
        "## 1.0 Importing our Libraries"
      ]
    },
    {
      "cell_type": "code",
      "metadata": {
        "id": "3r-KDLvrO44a"
      },
      "source": [
        "# Importing the libraries we will need \n",
        "\n",
        "# Importing the pandas library\n",
        "# \n",
        "import pandas as pd\n",
        "\n",
        "# Importing the numpy library\n",
        "#\n",
        "import numpy as np"
      ],
      "execution_count": 77,
      "outputs": []
    },
    {
      "cell_type": "markdown",
      "metadata": {
        "id": "HToJZ2gBPawZ"
      },
      "source": [
        "## 1.1 Reading the Dataset from our CSV file\n",
        "\n"
      ]
    },
    {
      "cell_type": "markdown",
      "metadata": {
        "id": "LBUr8VUXQX-K"
      },
      "source": [
        "\n",
        "\n",
        "The dataset we will use contains the percentage distribution of population by type of disability for Kenyan counties. \n",
        "\n",
        "\n",
        "*   Dataset link for download or access: [Link](https://drive.google.com/a/moringaschool.com/file/d/13twDwhbJqBr1Dvmlwzv6Mou-irul77cS/view?usp=sharing)\n",
        "\n",
        "\n",
        "\n"
      ]
    },
    {
      "cell_type": "code",
      "metadata": {
        "id": "1acwmZanRNHs"
      },
      "source": [
        "# Let's read the data from the CSV file and create the dataframe to be used\n",
        "# \n",
        "\n",
        "f = 'Percentage_Distribution_of_Population_by_type_of_Disability_County_Estimates2005_6.csv'\n",
        "D = pd.read_csv(f)"
      ],
      "execution_count": 78,
      "outputs": []
    },
    {
      "cell_type": "markdown",
      "metadata": {
        "id": "IICLGbvBRYHq"
      },
      "source": [
        "## 1.2 Previewing our Dataset\n"
      ]
    },
    {
      "cell_type": "code",
      "metadata": {
        "id": "WrwHg-hzR5BY",
        "colab": {
          "base_uri": "https://localhost:8080/",
          "height": 549
        },
        "outputId": "801e4dc0-cbc7-47df-f563-ed9079b0dca9"
      },
      "source": [
        "# Let's preview the first 10 rows of our data\n",
        "# \n",
        "D.head(10)\n"
      ],
      "execution_count": 79,
      "outputs": [
        {
          "output_type": "execute_result",
          "data": {
            "text/html": [
              "<div>\n",
              "<style scoped>\n",
              "    .dataframe tbody tr th:only-of-type {\n",
              "        vertical-align: middle;\n",
              "    }\n",
              "\n",
              "    .dataframe tbody tr th {\n",
              "        vertical-align: top;\n",
              "    }\n",
              "\n",
              "    .dataframe thead th {\n",
              "        text-align: right;\n",
              "    }\n",
              "</style>\n",
              "<table border=\"1\" class=\"dataframe\">\n",
              "  <thead>\n",
              "    <tr style=\"text-align: right;\">\n",
              "      <th></th>\n",
              "      <th>County</th>\n",
              "      <th>Missing_Hand</th>\n",
              "      <th>Missing_Foot</th>\n",
              "      <th>Lame</th>\n",
              "      <th>Blind</th>\n",
              "      <th>Deaf</th>\n",
              "      <th>Dumb</th>\n",
              "      <th>Mental</th>\n",
              "      <th>Paralyzed</th>\n",
              "      <th>Other</th>\n",
              "      <th>Total_Count</th>\n",
              "      <th>Location_1</th>\n",
              "      <th>OBJECTID</th>\n",
              "    </tr>\n",
              "  </thead>\n",
              "  <tbody>\n",
              "    <tr>\n",
              "      <th>0</th>\n",
              "      <td>Baringo</td>\n",
              "      <td>10.9%</td>\n",
              "      <td>2.8%</td>\n",
              "      <td>30.9%</td>\n",
              "      <td>2.6%</td>\n",
              "      <td>1%</td>\n",
              "      <td>3.8%</td>\n",
              "      <td>12.4%</td>\n",
              "      <td>54.2%</td>\n",
              "      <td>10.9%</td>\n",
              "      <td>6512.1</td>\n",
              "      <td>(0.512912, 35.952537)</td>\n",
              "      <td>0</td>\n",
              "    </tr>\n",
              "    <tr>\n",
              "      <th>1</th>\n",
              "      <td>Bomet</td>\n",
              "      <td>0%</td>\n",
              "      <td>0%</td>\n",
              "      <td>29.2%</td>\n",
              "      <td>10%</td>\n",
              "      <td>8.1%</td>\n",
              "      <td>8.1%</td>\n",
              "      <td>14.2%</td>\n",
              "      <td>0.3%</td>\n",
              "      <td>38.7%</td>\n",
              "      <td>6538.0</td>\n",
              "      <td>(-0.690131, 35.278005)</td>\n",
              "      <td>1</td>\n",
              "    </tr>\n",
              "    <tr>\n",
              "      <th>2</th>\n",
              "      <td>Bungoma</td>\n",
              "      <td>12.3%</td>\n",
              "      <td>0%</td>\n",
              "      <td>49.2%</td>\n",
              "      <td>0%</td>\n",
              "      <td>2.3%</td>\n",
              "      <td>20.8%</td>\n",
              "      <td>12.7%</td>\n",
              "      <td>0%</td>\n",
              "      <td>21.9%</td>\n",
              "      <td>13170.6</td>\n",
              "      <td>(0.737046, 34.672536)</td>\n",
              "      <td>2</td>\n",
              "    </tr>\n",
              "    <tr>\n",
              "      <th>3</th>\n",
              "      <td>Busia</td>\n",
              "      <td>0%</td>\n",
              "      <td>0%</td>\n",
              "      <td>14.3%</td>\n",
              "      <td>12.3%</td>\n",
              "      <td>4.6%</td>\n",
              "      <td>35.5%</td>\n",
              "      <td>4.8%</td>\n",
              "      <td>14.8%</td>\n",
              "      <td>31.4%</td>\n",
              "      <td>6655.5</td>\n",
              "      <td>(0.428414, 34.210571)</td>\n",
              "      <td>3</td>\n",
              "    </tr>\n",
              "    <tr>\n",
              "      <th>4</th>\n",
              "      <td>Elgeyo Marakwet</td>\n",
              "      <td>0%</td>\n",
              "      <td>0%</td>\n",
              "      <td>31.7%</td>\n",
              "      <td>0%</td>\n",
              "      <td>35.7%</td>\n",
              "      <td>0%</td>\n",
              "      <td>20%</td>\n",
              "      <td>12.6%</td>\n",
              "      <td>7.4%</td>\n",
              "      <td>3599.9</td>\n",
              "      <td>(0.806011, 35.564093)</td>\n",
              "      <td>4</td>\n",
              "    </tr>\n",
              "    <tr>\n",
              "      <th>5</th>\n",
              "      <td>Embu</td>\n",
              "      <td>0%</td>\n",
              "      <td>0%</td>\n",
              "      <td>55.1%</td>\n",
              "      <td>0%</td>\n",
              "      <td>0%</td>\n",
              "      <td>3%</td>\n",
              "      <td>3%</td>\n",
              "      <td>2.5%</td>\n",
              "      <td>41.8%</td>\n",
              "      <td>6287.4</td>\n",
              "      <td>(-0.5982, 37.653906)</td>\n",
              "      <td>5</td>\n",
              "    </tr>\n",
              "    <tr>\n",
              "      <th>6</th>\n",
              "      <td>Garissa</td>\n",
              "      <td>0%</td>\n",
              "      <td>37.1%</td>\n",
              "      <td>0%</td>\n",
              "      <td>0%</td>\n",
              "      <td>0%</td>\n",
              "      <td>0%</td>\n",
              "      <td>11.3%</td>\n",
              "      <td>11.3%</td>\n",
              "      <td>51.6%</td>\n",
              "      <td>1864.1</td>\n",
              "      <td>(-0.564679, 40.408457)</td>\n",
              "      <td>6</td>\n",
              "    </tr>\n",
              "    <tr>\n",
              "      <th>7</th>\n",
              "      <td>Homa Bay</td>\n",
              "      <td>2.1%</td>\n",
              "      <td>0%</td>\n",
              "      <td>20.9%</td>\n",
              "      <td>6.7%</td>\n",
              "      <td>6.3%</td>\n",
              "      <td>5.2%</td>\n",
              "      <td>11.3%</td>\n",
              "      <td>9%</td>\n",
              "      <td>48.3%</td>\n",
              "      <td>23696.8</td>\n",
              "      <td>(-0.640985, 34.411083)</td>\n",
              "      <td>7</td>\n",
              "    </tr>\n",
              "    <tr>\n",
              "      <th>8</th>\n",
              "      <td>Isiolo</td>\n",
              "      <td>13.9%</td>\n",
              "      <td>3.3%</td>\n",
              "      <td>32.6%</td>\n",
              "      <td>38.6%</td>\n",
              "      <td>12.9%</td>\n",
              "      <td>0%</td>\n",
              "      <td>0%</td>\n",
              "      <td>2%</td>\n",
              "      <td>19.8%</td>\n",
              "      <td>2154.4</td>\n",
              "      <td>(0.949302, 38.614718)</td>\n",
              "      <td>8</td>\n",
              "    </tr>\n",
              "    <tr>\n",
              "      <th>9</th>\n",
              "      <td>Kajiado</td>\n",
              "      <td>0%</td>\n",
              "      <td>0%</td>\n",
              "      <td>26.9%</td>\n",
              "      <td>19%</td>\n",
              "      <td>0%</td>\n",
              "      <td>0%</td>\n",
              "      <td>27.6%</td>\n",
              "      <td>0%</td>\n",
              "      <td>45.5%</td>\n",
              "      <td>3250.3</td>\n",
              "      <td>(-2.221971, 36.980268)</td>\n",
              "      <td>9</td>\n",
              "    </tr>\n",
              "  </tbody>\n",
              "</table>\n",
              "</div>"
            ],
            "text/plain": [
              "            County Missing_Hand  ...              Location_1 OBJECTID\n",
              "0          Baringo        10.9%  ...   (0.512912, 35.952537)        0\n",
              "1            Bomet           0%  ...  (-0.690131, 35.278005)        1\n",
              "2          Bungoma        12.3%  ...   (0.737046, 34.672536)        2\n",
              "3            Busia           0%  ...   (0.428414, 34.210571)        3\n",
              "4  Elgeyo Marakwet           0%  ...   (0.806011, 35.564093)        4\n",
              "5             Embu           0%  ...    (-0.5982, 37.653906)        5\n",
              "6          Garissa           0%  ...  (-0.564679, 40.408457)        6\n",
              "7         Homa Bay         2.1%  ...  (-0.640985, 34.411083)        7\n",
              "8           Isiolo        13.9%  ...   (0.949302, 38.614718)        8\n",
              "9          Kajiado           0%  ...  (-2.221971, 36.980268)        9\n",
              "\n",
              "[10 rows x 13 columns]"
            ]
          },
          "metadata": {
            "tags": []
          },
          "execution_count": 79
        }
      ]
    },
    {
      "cell_type": "markdown",
      "metadata": {
        "id": "RAVzK5O6IR8v"
      },
      "source": [
        "## 1.3 Accessing Information about our Dataset"
      ]
    },
    {
      "cell_type": "code",
      "metadata": {
        "id": "0d2kfemDIYWI",
        "colab": {
          "base_uri": "https://localhost:8080/",
          "height": 297
        },
        "outputId": "8f3759ec-b28a-4673-de22-ff350a7e278a"
      },
      "source": [
        "# Getting to know more about the dataset by accessing its information\n",
        "# \n",
        "D.describe()\n",
        "#D['Total_Count'].corr()"
      ],
      "execution_count": 80,
      "outputs": [
        {
          "output_type": "execute_result",
          "data": {
            "text/html": [
              "<div>\n",
              "<style scoped>\n",
              "    .dataframe tbody tr th:only-of-type {\n",
              "        vertical-align: middle;\n",
              "    }\n",
              "\n",
              "    .dataframe tbody tr th {\n",
              "        vertical-align: top;\n",
              "    }\n",
              "\n",
              "    .dataframe thead th {\n",
              "        text-align: right;\n",
              "    }\n",
              "</style>\n",
              "<table border=\"1\" class=\"dataframe\">\n",
              "  <thead>\n",
              "    <tr style=\"text-align: right;\">\n",
              "      <th></th>\n",
              "      <th>Total_Count</th>\n",
              "      <th>OBJECTID</th>\n",
              "    </tr>\n",
              "  </thead>\n",
              "  <tbody>\n",
              "    <tr>\n",
              "      <th>count</th>\n",
              "      <td>48.000000</td>\n",
              "      <td>48.00</td>\n",
              "    </tr>\n",
              "    <tr>\n",
              "      <th>mean</th>\n",
              "      <td>16774.087500</td>\n",
              "      <td>23.50</td>\n",
              "    </tr>\n",
              "    <tr>\n",
              "      <th>std</th>\n",
              "      <td>57305.323515</td>\n",
              "      <td>14.00</td>\n",
              "    </tr>\n",
              "    <tr>\n",
              "      <th>min</th>\n",
              "      <td>420.100000</td>\n",
              "      <td>0.00</td>\n",
              "    </tr>\n",
              "    <tr>\n",
              "      <th>25%</th>\n",
              "      <td>3320.200000</td>\n",
              "      <td>11.75</td>\n",
              "    </tr>\n",
              "    <tr>\n",
              "      <th>50%</th>\n",
              "      <td>6525.050000</td>\n",
              "      <td>23.50</td>\n",
              "    </tr>\n",
              "    <tr>\n",
              "      <th>75%</th>\n",
              "      <td>11940.675000</td>\n",
              "      <td>35.25</td>\n",
              "    </tr>\n",
              "    <tr>\n",
              "      <th>max</th>\n",
              "      <td>402578.100000</td>\n",
              "      <td>47.00</td>\n",
              "    </tr>\n",
              "  </tbody>\n",
              "</table>\n",
              "</div>"
            ],
            "text/plain": [
              "         Total_Count  OBJECTID\n",
              "count      48.000000     48.00\n",
              "mean    16774.087500     23.50\n",
              "std     57305.323515     14.00\n",
              "min       420.100000      0.00\n",
              "25%      3320.200000     11.75\n",
              "50%      6525.050000     23.50\n",
              "75%     11940.675000     35.25\n",
              "max    402578.100000     47.00"
            ]
          },
          "metadata": {
            "tags": []
          },
          "execution_count": 80
        }
      ]
    },
    {
      "cell_type": "markdown",
      "metadata": {
        "id": "R9S2o1WXIhq1"
      },
      "source": [
        "## 1.4 Cleaning our Dataset"
      ]
    },
    {
      "cell_type": "markdown",
      "metadata": {
        "id": "eOpM51putz-A"
      },
      "source": [
        "Let us perform data cleaning procedures below providing a documentation for our actions and reasons. We will perform as many data cleaning procedures as we think suitable for the various dimensions of data."
      ]
    },
    {
      "cell_type": "markdown",
      "metadata": {
        "id": "7CCgp2eguA3H"
      },
      "source": [
        "### 1.41) Validity: <font color=\"green\">Challenges</font>"
      ]
    },
    {
      "cell_type": "code",
      "metadata": {
        "id": "TOyYIM4_tztJ",
        "colab": {
          "base_uri": "https://localhost:8080/",
          "height": 221
        },
        "outputId": "4a761027-a9ff-4aac-a14e-86b3f4e48618"
      },
      "source": [
        "# Procedure 1: Irrelevant Data Observation\n",
        "# Data Cleaning Action: Dropping Location_1 attribute\n",
        "# Explanation: We won't need it during Analysis. No question to be answered requires that column.\n",
        "#\n",
        "D.drop(['Location_1'], axis=1, inplace=True)\n",
        "D.head(5)"
      ],
      "execution_count": 81,
      "outputs": [
        {
          "output_type": "execute_result",
          "data": {
            "text/html": [
              "<div>\n",
              "<style scoped>\n",
              "    .dataframe tbody tr th:only-of-type {\n",
              "        vertical-align: middle;\n",
              "    }\n",
              "\n",
              "    .dataframe tbody tr th {\n",
              "        vertical-align: top;\n",
              "    }\n",
              "\n",
              "    .dataframe thead th {\n",
              "        text-align: right;\n",
              "    }\n",
              "</style>\n",
              "<table border=\"1\" class=\"dataframe\">\n",
              "  <thead>\n",
              "    <tr style=\"text-align: right;\">\n",
              "      <th></th>\n",
              "      <th>County</th>\n",
              "      <th>Missing_Hand</th>\n",
              "      <th>Missing_Foot</th>\n",
              "      <th>Lame</th>\n",
              "      <th>Blind</th>\n",
              "      <th>Deaf</th>\n",
              "      <th>Dumb</th>\n",
              "      <th>Mental</th>\n",
              "      <th>Paralyzed</th>\n",
              "      <th>Other</th>\n",
              "      <th>Total_Count</th>\n",
              "      <th>OBJECTID</th>\n",
              "    </tr>\n",
              "  </thead>\n",
              "  <tbody>\n",
              "    <tr>\n",
              "      <th>0</th>\n",
              "      <td>Baringo</td>\n",
              "      <td>10.9%</td>\n",
              "      <td>2.8%</td>\n",
              "      <td>30.9%</td>\n",
              "      <td>2.6%</td>\n",
              "      <td>1%</td>\n",
              "      <td>3.8%</td>\n",
              "      <td>12.4%</td>\n",
              "      <td>54.2%</td>\n",
              "      <td>10.9%</td>\n",
              "      <td>6512.1</td>\n",
              "      <td>0</td>\n",
              "    </tr>\n",
              "    <tr>\n",
              "      <th>1</th>\n",
              "      <td>Bomet</td>\n",
              "      <td>0%</td>\n",
              "      <td>0%</td>\n",
              "      <td>29.2%</td>\n",
              "      <td>10%</td>\n",
              "      <td>8.1%</td>\n",
              "      <td>8.1%</td>\n",
              "      <td>14.2%</td>\n",
              "      <td>0.3%</td>\n",
              "      <td>38.7%</td>\n",
              "      <td>6538.0</td>\n",
              "      <td>1</td>\n",
              "    </tr>\n",
              "    <tr>\n",
              "      <th>2</th>\n",
              "      <td>Bungoma</td>\n",
              "      <td>12.3%</td>\n",
              "      <td>0%</td>\n",
              "      <td>49.2%</td>\n",
              "      <td>0%</td>\n",
              "      <td>2.3%</td>\n",
              "      <td>20.8%</td>\n",
              "      <td>12.7%</td>\n",
              "      <td>0%</td>\n",
              "      <td>21.9%</td>\n",
              "      <td>13170.6</td>\n",
              "      <td>2</td>\n",
              "    </tr>\n",
              "    <tr>\n",
              "      <th>3</th>\n",
              "      <td>Busia</td>\n",
              "      <td>0%</td>\n",
              "      <td>0%</td>\n",
              "      <td>14.3%</td>\n",
              "      <td>12.3%</td>\n",
              "      <td>4.6%</td>\n",
              "      <td>35.5%</td>\n",
              "      <td>4.8%</td>\n",
              "      <td>14.8%</td>\n",
              "      <td>31.4%</td>\n",
              "      <td>6655.5</td>\n",
              "      <td>3</td>\n",
              "    </tr>\n",
              "    <tr>\n",
              "      <th>4</th>\n",
              "      <td>Elgeyo Marakwet</td>\n",
              "      <td>0%</td>\n",
              "      <td>0%</td>\n",
              "      <td>31.7%</td>\n",
              "      <td>0%</td>\n",
              "      <td>35.7%</td>\n",
              "      <td>0%</td>\n",
              "      <td>20%</td>\n",
              "      <td>12.6%</td>\n",
              "      <td>7.4%</td>\n",
              "      <td>3599.9</td>\n",
              "      <td>4</td>\n",
              "    </tr>\n",
              "  </tbody>\n",
              "</table>\n",
              "</div>"
            ],
            "text/plain": [
              "            County Missing_Hand Missing_Foot  ...  Other Total_Count OBJECTID\n",
              "0          Baringo        10.9%         2.8%  ...  10.9%      6512.1        0\n",
              "1            Bomet           0%           0%  ...  38.7%      6538.0        1\n",
              "2          Bungoma        12.3%           0%  ...  21.9%     13170.6        2\n",
              "3            Busia           0%           0%  ...  31.4%      6655.5        3\n",
              "4  Elgeyo Marakwet           0%           0%  ...   7.4%      3599.9        4\n",
              "\n",
              "[5 rows x 12 columns]"
            ]
          },
          "metadata": {
            "tags": []
          },
          "execution_count": 81
        }
      ]
    },
    {
      "cell_type": "code",
      "metadata": {
        "id": "9wFBDVC9twz9",
        "colab": {
          "base_uri": "https://localhost:8080/",
          "height": 204
        },
        "outputId": "a04199e6-b2f2-437f-9085-cc6cc6c580d5"
      },
      "source": [
        "# Procedure 2: Irrelevant Data Observation\n",
        "# Data Cleaning Action: Drop OBJECTID attribute\n",
        "# Explanation: Its irrelevant to our table i.e. attribute starts from 0 and ends of 48 i.e. No meaning at all.\n",
        "# \n",
        "D.drop(['OBJECTID'], axis=1, inplace=True)\n",
        "D.head(5)"
      ],
      "execution_count": 82,
      "outputs": [
        {
          "output_type": "execute_result",
          "data": {
            "text/html": [
              "<div>\n",
              "<style scoped>\n",
              "    .dataframe tbody tr th:only-of-type {\n",
              "        vertical-align: middle;\n",
              "    }\n",
              "\n",
              "    .dataframe tbody tr th {\n",
              "        vertical-align: top;\n",
              "    }\n",
              "\n",
              "    .dataframe thead th {\n",
              "        text-align: right;\n",
              "    }\n",
              "</style>\n",
              "<table border=\"1\" class=\"dataframe\">\n",
              "  <thead>\n",
              "    <tr style=\"text-align: right;\">\n",
              "      <th></th>\n",
              "      <th>County</th>\n",
              "      <th>Missing_Hand</th>\n",
              "      <th>Missing_Foot</th>\n",
              "      <th>Lame</th>\n",
              "      <th>Blind</th>\n",
              "      <th>Deaf</th>\n",
              "      <th>Dumb</th>\n",
              "      <th>Mental</th>\n",
              "      <th>Paralyzed</th>\n",
              "      <th>Other</th>\n",
              "      <th>Total_Count</th>\n",
              "    </tr>\n",
              "  </thead>\n",
              "  <tbody>\n",
              "    <tr>\n",
              "      <th>0</th>\n",
              "      <td>Baringo</td>\n",
              "      <td>10.9%</td>\n",
              "      <td>2.8%</td>\n",
              "      <td>30.9%</td>\n",
              "      <td>2.6%</td>\n",
              "      <td>1%</td>\n",
              "      <td>3.8%</td>\n",
              "      <td>12.4%</td>\n",
              "      <td>54.2%</td>\n",
              "      <td>10.9%</td>\n",
              "      <td>6512.1</td>\n",
              "    </tr>\n",
              "    <tr>\n",
              "      <th>1</th>\n",
              "      <td>Bomet</td>\n",
              "      <td>0%</td>\n",
              "      <td>0%</td>\n",
              "      <td>29.2%</td>\n",
              "      <td>10%</td>\n",
              "      <td>8.1%</td>\n",
              "      <td>8.1%</td>\n",
              "      <td>14.2%</td>\n",
              "      <td>0.3%</td>\n",
              "      <td>38.7%</td>\n",
              "      <td>6538.0</td>\n",
              "    </tr>\n",
              "    <tr>\n",
              "      <th>2</th>\n",
              "      <td>Bungoma</td>\n",
              "      <td>12.3%</td>\n",
              "      <td>0%</td>\n",
              "      <td>49.2%</td>\n",
              "      <td>0%</td>\n",
              "      <td>2.3%</td>\n",
              "      <td>20.8%</td>\n",
              "      <td>12.7%</td>\n",
              "      <td>0%</td>\n",
              "      <td>21.9%</td>\n",
              "      <td>13170.6</td>\n",
              "    </tr>\n",
              "    <tr>\n",
              "      <th>3</th>\n",
              "      <td>Busia</td>\n",
              "      <td>0%</td>\n",
              "      <td>0%</td>\n",
              "      <td>14.3%</td>\n",
              "      <td>12.3%</td>\n",
              "      <td>4.6%</td>\n",
              "      <td>35.5%</td>\n",
              "      <td>4.8%</td>\n",
              "      <td>14.8%</td>\n",
              "      <td>31.4%</td>\n",
              "      <td>6655.5</td>\n",
              "    </tr>\n",
              "    <tr>\n",
              "      <th>4</th>\n",
              "      <td>Elgeyo Marakwet</td>\n",
              "      <td>0%</td>\n",
              "      <td>0%</td>\n",
              "      <td>31.7%</td>\n",
              "      <td>0%</td>\n",
              "      <td>35.7%</td>\n",
              "      <td>0%</td>\n",
              "      <td>20%</td>\n",
              "      <td>12.6%</td>\n",
              "      <td>7.4%</td>\n",
              "      <td>3599.9</td>\n",
              "    </tr>\n",
              "  </tbody>\n",
              "</table>\n",
              "</div>"
            ],
            "text/plain": [
              "            County Missing_Hand Missing_Foot  ... Paralyzed  Other Total_Count\n",
              "0          Baringo        10.9%         2.8%  ...     54.2%  10.9%      6512.1\n",
              "1            Bomet           0%           0%  ...      0.3%  38.7%      6538.0\n",
              "2          Bungoma        12.3%           0%  ...        0%  21.9%     13170.6\n",
              "3            Busia           0%           0%  ...     14.8%  31.4%      6655.5\n",
              "4  Elgeyo Marakwet           0%           0%  ...     12.6%   7.4%      3599.9\n",
              "\n",
              "[5 rows x 11 columns]"
            ]
          },
          "metadata": {
            "tags": []
          },
          "execution_count": 82
        }
      ]
    },
    {
      "cell_type": "code",
      "metadata": {
        "id": "DFy7lo5iuIYc",
        "colab": {
          "base_uri": "https://localhost:8080/",
          "height": 204
        },
        "outputId": "80b5b1e1-9cce-4027-fe17-5749358cdcf2"
      },
      "source": [
        "# Procedure 3:\n",
        "# Data Cleaning Action:\n",
        "# Explanation:\n",
        "#\n",
        "# We can use the str.strip function on the respective column name to strip the leading and trailing spaces  \n",
        "\n",
        "D['County'] = D['County'].str.strip()\n",
        "\n",
        "# Displaying the resulting dataframe\n",
        "D['County'].head(5)\n",
        "\n",
        "#checking for errors/anomalies in records\n",
        "D['County'].unique()\n",
        "\n",
        "#dropping last record(not relevant)\n",
        "D.drop(47, inplace=True)\n",
        "D.tail(5)\n",
        "\n"
      ],
      "execution_count": 83,
      "outputs": [
        {
          "output_type": "execute_result",
          "data": {
            "text/html": [
              "<div>\n",
              "<style scoped>\n",
              "    .dataframe tbody tr th:only-of-type {\n",
              "        vertical-align: middle;\n",
              "    }\n",
              "\n",
              "    .dataframe tbody tr th {\n",
              "        vertical-align: top;\n",
              "    }\n",
              "\n",
              "    .dataframe thead th {\n",
              "        text-align: right;\n",
              "    }\n",
              "</style>\n",
              "<table border=\"1\" class=\"dataframe\">\n",
              "  <thead>\n",
              "    <tr style=\"text-align: right;\">\n",
              "      <th></th>\n",
              "      <th>County</th>\n",
              "      <th>Missing_Hand</th>\n",
              "      <th>Missing_Foot</th>\n",
              "      <th>Lame</th>\n",
              "      <th>Blind</th>\n",
              "      <th>Deaf</th>\n",
              "      <th>Dumb</th>\n",
              "      <th>Mental</th>\n",
              "      <th>Paralyzed</th>\n",
              "      <th>Other</th>\n",
              "      <th>Total_Count</th>\n",
              "    </tr>\n",
              "  </thead>\n",
              "  <tbody>\n",
              "    <tr>\n",
              "      <th>42</th>\n",
              "      <td>Turkana</td>\n",
              "      <td>0%</td>\n",
              "      <td>0%</td>\n",
              "      <td>0%</td>\n",
              "      <td>35.5%</td>\n",
              "      <td>7.8%</td>\n",
              "      <td>0%</td>\n",
              "      <td>0%</td>\n",
              "      <td>92.2%</td>\n",
              "      <td>0%</td>\n",
              "      <td>1733.1</td>\n",
              "    </tr>\n",
              "    <tr>\n",
              "      <th>43</th>\n",
              "      <td>Uasin Gishu</td>\n",
              "      <td>0%</td>\n",
              "      <td>0%</td>\n",
              "      <td>18.6%</td>\n",
              "      <td>0%</td>\n",
              "      <td>0%</td>\n",
              "      <td>0%</td>\n",
              "      <td>27.3%</td>\n",
              "      <td>7.2%</td>\n",
              "      <td>58.1%</td>\n",
              "      <td>9281.6</td>\n",
              "    </tr>\n",
              "    <tr>\n",
              "      <th>44</th>\n",
              "      <td>Vihiga</td>\n",
              "      <td>0%</td>\n",
              "      <td>0%</td>\n",
              "      <td>30.2%</td>\n",
              "      <td>19.7%</td>\n",
              "      <td>12.7%</td>\n",
              "      <td>1.1%</td>\n",
              "      <td>8%</td>\n",
              "      <td>0%</td>\n",
              "      <td>26.9%</td>\n",
              "      <td>23490.6</td>\n",
              "    </tr>\n",
              "    <tr>\n",
              "      <th>45</th>\n",
              "      <td>Wajir</td>\n",
              "      <td>1.3%</td>\n",
              "      <td>5.2%</td>\n",
              "      <td>50.5%</td>\n",
              "      <td>8%</td>\n",
              "      <td>8%</td>\n",
              "      <td>17.8%</td>\n",
              "      <td>12.7%</td>\n",
              "      <td>15.8%</td>\n",
              "      <td>0%</td>\n",
              "      <td>9276.5</td>\n",
              "    </tr>\n",
              "    <tr>\n",
              "      <th>46</th>\n",
              "      <td>West Pokot</td>\n",
              "      <td>0%</td>\n",
              "      <td>14%</td>\n",
              "      <td>29.5%</td>\n",
              "      <td>21.1%</td>\n",
              "      <td>0%</td>\n",
              "      <td>0%</td>\n",
              "      <td>0%</td>\n",
              "      <td>30.9%</td>\n",
              "      <td>12.6%</td>\n",
              "      <td>4874.2</td>\n",
              "    </tr>\n",
              "  </tbody>\n",
              "</table>\n",
              "</div>"
            ],
            "text/plain": [
              "         County Missing_Hand Missing_Foot  ... Paralyzed  Other Total_Count\n",
              "42      Turkana           0%           0%  ...     92.2%     0%      1733.1\n",
              "43  Uasin Gishu           0%           0%  ...      7.2%  58.1%      9281.6\n",
              "44       Vihiga           0%           0%  ...        0%  26.9%     23490.6\n",
              "45        Wajir         1.3%         5.2%  ...     15.8%     0%      9276.5\n",
              "46   West Pokot           0%          14%  ...     30.9%  12.6%      4874.2\n",
              "\n",
              "[5 rows x 11 columns]"
            ]
          },
          "metadata": {
            "tags": []
          },
          "execution_count": 83
        }
      ]
    },
    {
      "cell_type": "code",
      "metadata": {
        "id": "-gTVN-CMusVR"
      },
      "source": [
        "# Procedure 4:\n",
        "# Data Cleaning Action:\n",
        "# Explanation:\n",
        "#\n",
        "OUR CODE GOES HERE"
      ],
      "execution_count": null,
      "outputs": []
    },
    {
      "cell_type": "markdown",
      "metadata": {
        "id": "eyKHF_ubujvV"
      },
      "source": [
        "### 1.42) Accuracy <font color=\"green\">Challenges</font>"
      ]
    },
    {
      "cell_type": "code",
      "metadata": {
        "id": "9ZsKlZrQulto",
        "colab": {
          "base_uri": "https://localhost:8080/",
          "height": 204
        },
        "outputId": "c41056c2-e2b2-4e7f-c209-d519cea611d0"
      },
      "source": [
        "# Procedure 1:\n",
        "# Data Cleaning Action:\n",
        "# Explanation:\n",
        "#\n",
        "tp = D['Missing_Foot'] + D['Missing_Hand'] + D['Lame'] + D['Blind'] + D['Deaf'] + D['Dumb'] + D['Mental'] + D['Other']\n",
        "D[D['Paralyzed'] != tp]\n",
        "\n",
        "#paralyzed column does not add up, so dropping it\n",
        "D.drop(['Paralyzed'], axis=1, inplace=True)\n",
        "D.head(5)\n"
      ],
      "execution_count": 84,
      "outputs": [
        {
          "output_type": "execute_result",
          "data": {
            "text/html": [
              "<div>\n",
              "<style scoped>\n",
              "    .dataframe tbody tr th:only-of-type {\n",
              "        vertical-align: middle;\n",
              "    }\n",
              "\n",
              "    .dataframe tbody tr th {\n",
              "        vertical-align: top;\n",
              "    }\n",
              "\n",
              "    .dataframe thead th {\n",
              "        text-align: right;\n",
              "    }\n",
              "</style>\n",
              "<table border=\"1\" class=\"dataframe\">\n",
              "  <thead>\n",
              "    <tr style=\"text-align: right;\">\n",
              "      <th></th>\n",
              "      <th>County</th>\n",
              "      <th>Missing_Hand</th>\n",
              "      <th>Missing_Foot</th>\n",
              "      <th>Lame</th>\n",
              "      <th>Blind</th>\n",
              "      <th>Deaf</th>\n",
              "      <th>Dumb</th>\n",
              "      <th>Mental</th>\n",
              "      <th>Other</th>\n",
              "      <th>Total_Count</th>\n",
              "    </tr>\n",
              "  </thead>\n",
              "  <tbody>\n",
              "    <tr>\n",
              "      <th>0</th>\n",
              "      <td>Baringo</td>\n",
              "      <td>10.9%</td>\n",
              "      <td>2.8%</td>\n",
              "      <td>30.9%</td>\n",
              "      <td>2.6%</td>\n",
              "      <td>1%</td>\n",
              "      <td>3.8%</td>\n",
              "      <td>12.4%</td>\n",
              "      <td>10.9%</td>\n",
              "      <td>6512.1</td>\n",
              "    </tr>\n",
              "    <tr>\n",
              "      <th>1</th>\n",
              "      <td>Bomet</td>\n",
              "      <td>0%</td>\n",
              "      <td>0%</td>\n",
              "      <td>29.2%</td>\n",
              "      <td>10%</td>\n",
              "      <td>8.1%</td>\n",
              "      <td>8.1%</td>\n",
              "      <td>14.2%</td>\n",
              "      <td>38.7%</td>\n",
              "      <td>6538.0</td>\n",
              "    </tr>\n",
              "    <tr>\n",
              "      <th>2</th>\n",
              "      <td>Bungoma</td>\n",
              "      <td>12.3%</td>\n",
              "      <td>0%</td>\n",
              "      <td>49.2%</td>\n",
              "      <td>0%</td>\n",
              "      <td>2.3%</td>\n",
              "      <td>20.8%</td>\n",
              "      <td>12.7%</td>\n",
              "      <td>21.9%</td>\n",
              "      <td>13170.6</td>\n",
              "    </tr>\n",
              "    <tr>\n",
              "      <th>3</th>\n",
              "      <td>Busia</td>\n",
              "      <td>0%</td>\n",
              "      <td>0%</td>\n",
              "      <td>14.3%</td>\n",
              "      <td>12.3%</td>\n",
              "      <td>4.6%</td>\n",
              "      <td>35.5%</td>\n",
              "      <td>4.8%</td>\n",
              "      <td>31.4%</td>\n",
              "      <td>6655.5</td>\n",
              "    </tr>\n",
              "    <tr>\n",
              "      <th>4</th>\n",
              "      <td>Elgeyo Marakwet</td>\n",
              "      <td>0%</td>\n",
              "      <td>0%</td>\n",
              "      <td>31.7%</td>\n",
              "      <td>0%</td>\n",
              "      <td>35.7%</td>\n",
              "      <td>0%</td>\n",
              "      <td>20%</td>\n",
              "      <td>7.4%</td>\n",
              "      <td>3599.9</td>\n",
              "    </tr>\n",
              "  </tbody>\n",
              "</table>\n",
              "</div>"
            ],
            "text/plain": [
              "            County Missing_Hand Missing_Foot  ... Mental  Other Total_Count\n",
              "0          Baringo        10.9%         2.8%  ...  12.4%  10.9%      6512.1\n",
              "1            Bomet           0%           0%  ...  14.2%  38.7%      6538.0\n",
              "2          Bungoma        12.3%           0%  ...  12.7%  21.9%     13170.6\n",
              "3            Busia           0%           0%  ...   4.8%  31.4%      6655.5\n",
              "4  Elgeyo Marakwet           0%           0%  ...    20%   7.4%      3599.9\n",
              "\n",
              "[5 rows x 10 columns]"
            ]
          },
          "metadata": {
            "tags": []
          },
          "execution_count": 84
        }
      ]
    },
    {
      "cell_type": "markdown",
      "metadata": {
        "id": "O2f0aJA4uwP1"
      },
      "source": [
        "### 1.43) Completeness <font color=\"green\">Challenges</font>"
      ]
    },
    {
      "cell_type": "code",
      "metadata": {
        "id": "z2_4QmGPuzNF",
        "colab": {
          "base_uri": "https://localhost:8080/"
        },
        "outputId": "f7507683-a5dd-4e2e-e268-cf1ae1342ecc"
      },
      "source": [
        "# Procedure 1:\n",
        "# Data Cleaning Action:\n",
        "# Explanation:\n",
        "#\n",
        "#check for any missing values(by column)\n",
        "D.isnull().any()\n",
        "\n",
        "D.isnull().values.any() #all records aggregated"
      ],
      "execution_count": 85,
      "outputs": [
        {
          "output_type": "execute_result",
          "data": {
            "text/plain": [
              "False"
            ]
          },
          "metadata": {
            "tags": []
          },
          "execution_count": 85
        }
      ]
    },
    {
      "cell_type": "code",
      "metadata": {
        "id": "X-Dhg5qJvNRM",
        "colab": {
          "base_uri": "https://localhost:8080/",
          "height": 204
        },
        "outputId": "3e6c5eed-c1dc-40a8-aa42-88fa3ef478ea"
      },
      "source": [
        "# Procedure 2:\n",
        "# Data Cleaning Action:\n",
        "# Explanation:\n",
        "#if there were any nulls\n",
        "D.dropna(inplace=True)\n",
        "D.head(5)"
      ],
      "execution_count": 86,
      "outputs": [
        {
          "output_type": "execute_result",
          "data": {
            "text/html": [
              "<div>\n",
              "<style scoped>\n",
              "    .dataframe tbody tr th:only-of-type {\n",
              "        vertical-align: middle;\n",
              "    }\n",
              "\n",
              "    .dataframe tbody tr th {\n",
              "        vertical-align: top;\n",
              "    }\n",
              "\n",
              "    .dataframe thead th {\n",
              "        text-align: right;\n",
              "    }\n",
              "</style>\n",
              "<table border=\"1\" class=\"dataframe\">\n",
              "  <thead>\n",
              "    <tr style=\"text-align: right;\">\n",
              "      <th></th>\n",
              "      <th>County</th>\n",
              "      <th>Missing_Hand</th>\n",
              "      <th>Missing_Foot</th>\n",
              "      <th>Lame</th>\n",
              "      <th>Blind</th>\n",
              "      <th>Deaf</th>\n",
              "      <th>Dumb</th>\n",
              "      <th>Mental</th>\n",
              "      <th>Other</th>\n",
              "      <th>Total_Count</th>\n",
              "    </tr>\n",
              "  </thead>\n",
              "  <tbody>\n",
              "    <tr>\n",
              "      <th>0</th>\n",
              "      <td>Baringo</td>\n",
              "      <td>10.9%</td>\n",
              "      <td>2.8%</td>\n",
              "      <td>30.9%</td>\n",
              "      <td>2.6%</td>\n",
              "      <td>1%</td>\n",
              "      <td>3.8%</td>\n",
              "      <td>12.4%</td>\n",
              "      <td>10.9%</td>\n",
              "      <td>6512.1</td>\n",
              "    </tr>\n",
              "    <tr>\n",
              "      <th>1</th>\n",
              "      <td>Bomet</td>\n",
              "      <td>0%</td>\n",
              "      <td>0%</td>\n",
              "      <td>29.2%</td>\n",
              "      <td>10%</td>\n",
              "      <td>8.1%</td>\n",
              "      <td>8.1%</td>\n",
              "      <td>14.2%</td>\n",
              "      <td>38.7%</td>\n",
              "      <td>6538.0</td>\n",
              "    </tr>\n",
              "    <tr>\n",
              "      <th>2</th>\n",
              "      <td>Bungoma</td>\n",
              "      <td>12.3%</td>\n",
              "      <td>0%</td>\n",
              "      <td>49.2%</td>\n",
              "      <td>0%</td>\n",
              "      <td>2.3%</td>\n",
              "      <td>20.8%</td>\n",
              "      <td>12.7%</td>\n",
              "      <td>21.9%</td>\n",
              "      <td>13170.6</td>\n",
              "    </tr>\n",
              "    <tr>\n",
              "      <th>3</th>\n",
              "      <td>Busia</td>\n",
              "      <td>0%</td>\n",
              "      <td>0%</td>\n",
              "      <td>14.3%</td>\n",
              "      <td>12.3%</td>\n",
              "      <td>4.6%</td>\n",
              "      <td>35.5%</td>\n",
              "      <td>4.8%</td>\n",
              "      <td>31.4%</td>\n",
              "      <td>6655.5</td>\n",
              "    </tr>\n",
              "    <tr>\n",
              "      <th>4</th>\n",
              "      <td>Elgeyo Marakwet</td>\n",
              "      <td>0%</td>\n",
              "      <td>0%</td>\n",
              "      <td>31.7%</td>\n",
              "      <td>0%</td>\n",
              "      <td>35.7%</td>\n",
              "      <td>0%</td>\n",
              "      <td>20%</td>\n",
              "      <td>7.4%</td>\n",
              "      <td>3599.9</td>\n",
              "    </tr>\n",
              "  </tbody>\n",
              "</table>\n",
              "</div>"
            ],
            "text/plain": [
              "            County Missing_Hand Missing_Foot  ... Mental  Other Total_Count\n",
              "0          Baringo        10.9%         2.8%  ...  12.4%  10.9%      6512.1\n",
              "1            Bomet           0%           0%  ...  14.2%  38.7%      6538.0\n",
              "2          Bungoma        12.3%           0%  ...  12.7%  21.9%     13170.6\n",
              "3            Busia           0%           0%  ...   4.8%  31.4%      6655.5\n",
              "4  Elgeyo Marakwet           0%           0%  ...    20%   7.4%      3599.9\n",
              "\n",
              "[5 rows x 10 columns]"
            ]
          },
          "metadata": {
            "tags": []
          },
          "execution_count": 86
        }
      ]
    },
    {
      "cell_type": "markdown",
      "metadata": {
        "id": "ZbjJzXhnuQox"
      },
      "source": [
        "### 1.44) Consitency: <font color=\"green\">Challenges</font>"
      ]
    },
    {
      "cell_type": "code",
      "metadata": {
        "id": "CUN5YcwQMihS",
        "colab": {
          "base_uri": "https://localhost:8080/"
        },
        "outputId": "6876dce1-103a-40c7-dd43-63f18c32bf24"
      },
      "source": [
        "# Procedure 1: Duplicates\n",
        "# Data Cleaning Action: No action taken\n",
        "# Explanation: There were no duplicate instances\n",
        "#\n",
        "D.duplicated\n",
        "D['County'].value_counts()"
      ],
      "execution_count": 87,
      "outputs": [
        {
          "output_type": "execute_result",
          "data": {
            "text/plain": [
              "Lamu               1\n",
              "Kisii              1\n",
              "Laikipia           1\n",
              "Kiambu             1\n",
              "Kakamega           1\n",
              "Siaya              1\n",
              "Nyandarua          1\n",
              "Nakuru             1\n",
              "Isiolo             1\n",
              "Makueni            1\n",
              "Samburu            1\n",
              "West Pokot         1\n",
              "Kisumu             1\n",
              "Narok              1\n",
              "Migori             1\n",
              "Mandera            1\n",
              "Bomet              1\n",
              "Taita Taveta       1\n",
              "Busia              1\n",
              "Uasin Gishu        1\n",
              "Nairobi            1\n",
              "Tana River         1\n",
              "Murang'a           1\n",
              "Tharaka Nithi      1\n",
              "Trans Nzoia        1\n",
              "Kitui              1\n",
              "Bungoma            1\n",
              "Homa Bay           1\n",
              "Nandi              1\n",
              "Kirinyaga          1\n",
              "Mombasa            1\n",
              "Elgeyo Marakwet    1\n",
              "Garissa            1\n",
              "Vihiga             1\n",
              "Meru               1\n",
              "Wajir              1\n",
              "Nyamira            1\n",
              "Kwale              1\n",
              "Machakos           1\n",
              "Baringo            1\n",
              "Turkana            1\n",
              "Nyeri              1\n",
              "Marsabit           1\n",
              "Kilifi             1\n",
              "Kajiado            1\n",
              "Embu               1\n",
              "Kericho            1\n",
              "Name: County, dtype: int64"
            ]
          },
          "metadata": {
            "tags": []
          },
          "execution_count": 87
        }
      ]
    },
    {
      "cell_type": "markdown",
      "metadata": {
        "id": "yup2hhMNvVed"
      },
      "source": [
        "### 1.45) Uniformity: <font color=\"green\">Challenges<font/>"
      ]
    },
    {
      "cell_type": "code",
      "metadata": {
        "id": "qcuXOaeivb3e",
        "colab": {
          "base_uri": "https://localhost:8080/",
          "height": 204
        },
        "outputId": "57dc8a22-caa8-4806-df7e-1945c5547825"
      },
      "source": [
        "# Procedure 1: \n",
        "# Data Cleaning Action:\n",
        "# Explanation:\n",
        "#\n",
        "D.head(5)\n",
        "#standardize column names\n",
        "D.columns = D.columns.str.strip().str.lower()\n",
        "#changing dataframe name to indicate it shows %\n",
        "D_pct = D\n",
        "D_pct.head(5)"
      ],
      "execution_count": 88,
      "outputs": [
        {
          "output_type": "execute_result",
          "data": {
            "text/html": [
              "<div>\n",
              "<style scoped>\n",
              "    .dataframe tbody tr th:only-of-type {\n",
              "        vertical-align: middle;\n",
              "    }\n",
              "\n",
              "    .dataframe tbody tr th {\n",
              "        vertical-align: top;\n",
              "    }\n",
              "\n",
              "    .dataframe thead th {\n",
              "        text-align: right;\n",
              "    }\n",
              "</style>\n",
              "<table border=\"1\" class=\"dataframe\">\n",
              "  <thead>\n",
              "    <tr style=\"text-align: right;\">\n",
              "      <th></th>\n",
              "      <th>county</th>\n",
              "      <th>missing_hand</th>\n",
              "      <th>missing_foot</th>\n",
              "      <th>lame</th>\n",
              "      <th>blind</th>\n",
              "      <th>deaf</th>\n",
              "      <th>dumb</th>\n",
              "      <th>mental</th>\n",
              "      <th>other</th>\n",
              "      <th>total_count</th>\n",
              "    </tr>\n",
              "  </thead>\n",
              "  <tbody>\n",
              "    <tr>\n",
              "      <th>0</th>\n",
              "      <td>Baringo</td>\n",
              "      <td>10.9%</td>\n",
              "      <td>2.8%</td>\n",
              "      <td>30.9%</td>\n",
              "      <td>2.6%</td>\n",
              "      <td>1%</td>\n",
              "      <td>3.8%</td>\n",
              "      <td>12.4%</td>\n",
              "      <td>10.9%</td>\n",
              "      <td>6512.1</td>\n",
              "    </tr>\n",
              "    <tr>\n",
              "      <th>1</th>\n",
              "      <td>Bomet</td>\n",
              "      <td>0%</td>\n",
              "      <td>0%</td>\n",
              "      <td>29.2%</td>\n",
              "      <td>10%</td>\n",
              "      <td>8.1%</td>\n",
              "      <td>8.1%</td>\n",
              "      <td>14.2%</td>\n",
              "      <td>38.7%</td>\n",
              "      <td>6538.0</td>\n",
              "    </tr>\n",
              "    <tr>\n",
              "      <th>2</th>\n",
              "      <td>Bungoma</td>\n",
              "      <td>12.3%</td>\n",
              "      <td>0%</td>\n",
              "      <td>49.2%</td>\n",
              "      <td>0%</td>\n",
              "      <td>2.3%</td>\n",
              "      <td>20.8%</td>\n",
              "      <td>12.7%</td>\n",
              "      <td>21.9%</td>\n",
              "      <td>13170.6</td>\n",
              "    </tr>\n",
              "    <tr>\n",
              "      <th>3</th>\n",
              "      <td>Busia</td>\n",
              "      <td>0%</td>\n",
              "      <td>0%</td>\n",
              "      <td>14.3%</td>\n",
              "      <td>12.3%</td>\n",
              "      <td>4.6%</td>\n",
              "      <td>35.5%</td>\n",
              "      <td>4.8%</td>\n",
              "      <td>31.4%</td>\n",
              "      <td>6655.5</td>\n",
              "    </tr>\n",
              "    <tr>\n",
              "      <th>4</th>\n",
              "      <td>Elgeyo Marakwet</td>\n",
              "      <td>0%</td>\n",
              "      <td>0%</td>\n",
              "      <td>31.7%</td>\n",
              "      <td>0%</td>\n",
              "      <td>35.7%</td>\n",
              "      <td>0%</td>\n",
              "      <td>20%</td>\n",
              "      <td>7.4%</td>\n",
              "      <td>3599.9</td>\n",
              "    </tr>\n",
              "  </tbody>\n",
              "</table>\n",
              "</div>"
            ],
            "text/plain": [
              "            county missing_hand missing_foot  ... mental  other total_count\n",
              "0          Baringo        10.9%         2.8%  ...  12.4%  10.9%      6512.1\n",
              "1            Bomet           0%           0%  ...  14.2%  38.7%      6538.0\n",
              "2          Bungoma        12.3%           0%  ...  12.7%  21.9%     13170.6\n",
              "3            Busia           0%           0%  ...   4.8%  31.4%      6655.5\n",
              "4  Elgeyo Marakwet           0%           0%  ...    20%   7.4%      3599.9\n",
              "\n",
              "[5 rows x 10 columns]"
            ]
          },
          "metadata": {
            "tags": []
          },
          "execution_count": 88
        }
      ]
    },
    {
      "cell_type": "code",
      "metadata": {
        "id": "yKTtLTTQvnJn",
        "colab": {
          "base_uri": "https://localhost:8080/"
        },
        "outputId": "9ceb1b23-2b89-4a46-d143-3202cf556c66"
      },
      "source": [
        "# Procedure 2:\n",
        "# Data Cleaning Action:\n",
        "# Explanation:\n",
        "\n",
        "#check the data types\n",
        "D_pct.dtypes\n",
        "\n",
        "#drop % signs in the data and convert the columns with numbers to float\n",
        "def p_drop(vals):\n",
        "  return float(vals.replace(\"%\",\"\"))\n",
        "\n",
        "#missing hand column\n",
        "D_pct['missing_hand'] = D_pct['missing_hand'].map(p_drop)\n",
        "\n",
        "#missing foot column\n",
        "D_pct['missing_foot'] = D_pct['missing_foot'].map(p_drop)\n",
        "\n",
        "#lame column\n",
        "D_pct['lame'] = D_pct['lame'].map(p_drop)\n",
        "\n",
        "#blind column\n",
        "D_pct['blind'] = D_pct['blind'].map(p_drop)\n",
        "\n",
        "#deaf column\n",
        "D_pct['deaf'] = D_pct['deaf'].map(p_drop)\n",
        "\n",
        "#dumb column\n",
        "D_pct['dumb'] = D_pct['dumb'].map(p_drop)\n",
        "\n",
        "#mental column\n",
        "D_pct['mental'] = D_pct['mental'].map(p_drop)\n",
        "\n",
        "#other column\n",
        "D_pct['other'] = D_pct['other'].map(p_drop)\n",
        "D_pct.head(5)\n",
        "D_pct.info()\n"
      ],
      "execution_count": 89,
      "outputs": [
        {
          "output_type": "stream",
          "text": [
            "<class 'pandas.core.frame.DataFrame'>\n",
            "Int64Index: 47 entries, 0 to 46\n",
            "Data columns (total 10 columns):\n",
            " #   Column        Non-Null Count  Dtype  \n",
            "---  ------        --------------  -----  \n",
            " 0   county        47 non-null     object \n",
            " 1   missing_hand  47 non-null     float64\n",
            " 2   missing_foot  47 non-null     float64\n",
            " 3   lame          47 non-null     float64\n",
            " 4   blind         47 non-null     float64\n",
            " 5   deaf          47 non-null     float64\n",
            " 6   dumb          47 non-null     float64\n",
            " 7   mental        47 non-null     float64\n",
            " 8   other         47 non-null     float64\n",
            " 9   total_count   47 non-null     float64\n",
            "dtypes: float64(9), object(1)\n",
            "memory usage: 4.0+ KB\n"
          ],
          "name": "stdout"
        }
      ]
    },
    {
      "cell_type": "markdown",
      "metadata": {
        "id": "-mQqTilAaZeO"
      },
      "source": [
        "### Exporting the Cleaned Dataset"
      ]
    },
    {
      "cell_type": "code",
      "metadata": {
        "id": "1h7kChQDaYA4"
      },
      "source": [
        "# Let's export our dataframe into a csv file as shown \n",
        "# in the example given in the following line;\n",
        "# daframe.to_csv('example.csv')\n",
        "# In the above case daframe is the dataframe which would like to export.\n",
        "# we use the to_csv function to create a csv file with the name example \n",
        "# and export it\n",
        "#\n",
        "\n",
        "D_pct.to_csv('disability.csv')"
      ],
      "execution_count": 90,
      "outputs": []
    },
    {
      "cell_type": "markdown",
      "metadata": {
        "id": "NicC8P9LMjvO"
      },
      "source": [
        "## 1.5 Answering Questions"
      ]
    },
    {
      "cell_type": "markdown",
      "metadata": {
        "id": "8izhaW7UNYGJ"
      },
      "source": [
        "Let's answer the following questions with our dataset using python."
      ]
    },
    {
      "cell_type": "code",
      "metadata": {
        "id": "tTOgnXvuMxcn",
        "colab": {
          "base_uri": "https://localhost:8080/"
        },
        "outputId": "312df5aa-1500-47b8-d728-cf5412196e92"
      },
      "source": [
        "# Challenge 1\n",
        "# Which county had the highest no. of registered deaf persons?\n",
        "# \n",
        "D_pct.head(5)\n",
        "y = D_pct.groupby('county')['deaf'].sum()\n",
        "y.sort_values(ascending=False).head(1)\n",
        "\n",
        "\n",
        "#y = df[df['Year_Text'] > '2007']\n",
        "#df.dtypes\n",
        "#y.loc[:,['No_of_Visitors_to_Kenya', 'Year_Text']].max()\n",
        "#y_list = list(y)"
      ],
      "execution_count": 104,
      "outputs": [
        {
          "output_type": "execute_result",
          "data": {
            "text/plain": [
              "county\n",
              "Nyamira    50.2\n",
              "Name: deaf, dtype: float64"
            ]
          },
          "metadata": {
            "tags": []
          },
          "execution_count": 104
        }
      ]
    },
    {
      "cell_type": "code",
      "metadata": {
        "id": "BNegesaWNvQs",
        "colab": {
          "base_uri": "https://localhost:8080/"
        },
        "outputId": "9f817e83-d819-4e90-dbee-1a7ad839d7b1"
      },
      "source": [
        "# Challenge 2\n",
        "# Which county had the highest no. of registered persons with a missing hand?\n",
        "#\n",
        "mh = D_pct.groupby('county')['missing_hand'].sum()\n",
        "mh.sort_values(ascending=False).head(1)"
      ],
      "execution_count": 105,
      "outputs": [
        {
          "output_type": "execute_result",
          "data": {
            "text/plain": [
              "county\n",
              "Nyandarua    21.2\n",
              "Name: missing_hand, dtype: float64"
            ]
          },
          "metadata": {
            "tags": []
          },
          "execution_count": 105
        }
      ]
    },
    {
      "cell_type": "code",
      "metadata": {
        "id": "7tilTerhNyiP",
        "colab": {
          "base_uri": "https://localhost:8080/"
        },
        "outputId": "19a04ca3-fed2-4881-b641-ab1e9a76bc2a"
      },
      "source": [
        "# Challenge 3\n",
        "# Which county had the highest no. of registered persons with a missing foot?\n",
        "# \n",
        "mf = D_pct.groupby('county')['missing_foot'].sum()\n",
        "mf.sort_values(ascending=False).head(1)"
      ],
      "execution_count": 106,
      "outputs": [
        {
          "output_type": "execute_result",
          "data": {
            "text/plain": [
              "county\n",
              "Garissa    37.1\n",
              "Name: missing_foot, dtype: float64"
            ]
          },
          "metadata": {
            "tags": []
          },
          "execution_count": 106
        }
      ]
    },
    {
      "cell_type": "code",
      "metadata": {
        "id": "rhXeHa6IOBsq",
        "colab": {
          "base_uri": "https://localhost:8080/"
        },
        "outputId": "2a618b8c-d480-4ec0-9e53-864827b6bf7d"
      },
      "source": [
        "# Challenge 4\n",
        "# Which county had the highest no. of registered lame persons?\n",
        "# \n",
        "l = D_pct.groupby('county')['lame'].sum()\n",
        "l.sort_values(ascending=False).head(1)"
      ],
      "execution_count": 107,
      "outputs": [
        {
          "output_type": "execute_result",
          "data": {
            "text/plain": [
              "county\n",
              "Embu    55.1\n",
              "Name: lame, dtype: float64"
            ]
          },
          "metadata": {
            "tags": []
          },
          "execution_count": 107
        }
      ]
    },
    {
      "cell_type": "code",
      "metadata": {
        "id": "wddDP6yCOD_F",
        "colab": {
          "base_uri": "https://localhost:8080/"
        },
        "outputId": "de212330-efbe-4f4b-c585-218c57a39e8e"
      },
      "source": [
        "# Challenge 5\n",
        "# Which county had the lowest no. of registered blind persons?\n",
        "# \n",
        "b = D_pct.groupby('county')['blind'].sum()\n",
        "b.sort_values(ascending=True).head(1)"
      ],
      "execution_count": 108,
      "outputs": [
        {
          "output_type": "execute_result",
          "data": {
            "text/plain": [
              "county\n",
              "Kisumu    0.0\n",
              "Name: blind, dtype: float64"
            ]
          },
          "metadata": {
            "tags": []
          },
          "execution_count": 108
        }
      ]
    },
    {
      "cell_type": "code",
      "metadata": {
        "id": "OemJ0HDYOHCq",
        "colab": {
          "base_uri": "https://localhost:8080/"
        },
        "outputId": "bc026041-9e2d-4b1b-ee8a-ee9cbb45b888"
      },
      "source": [
        "# Challenge 6\n",
        "# Which county had the highest third no. of registered deaf persons?\n",
        "# \n",
        "dfp = D_pct.groupby('county')['deaf'].sum()\n",
        "#(dfp.sort_values(ascending=False).head(3)).min()\n",
        "dfp.sort_values(ascending=False).head(3)"
      ],
      "execution_count": 119,
      "outputs": [
        {
          "output_type": "execute_result",
          "data": {
            "text/plain": [
              "county\n",
              "Nyamira            50.2\n",
              "Elgeyo Marakwet    35.7\n",
              "Tharaka Nithi      29.3\n",
              "Name: deaf, dtype: float64"
            ]
          },
          "metadata": {
            "tags": []
          },
          "execution_count": 119
        }
      ]
    },
    {
      "cell_type": "code",
      "metadata": {
        "id": "CIxC5arSOLak",
        "colab": {
          "base_uri": "https://localhost:8080/"
        },
        "outputId": "fb7a6386-baa5-4343-ca1a-b47654fca4dc"
      },
      "source": [
        "# Challenge 7\n",
        "# In descending order, which top 5 counties had the highest no. of registered dumb persons?\n",
        "# \n",
        "d = D_pct.groupby('county')['dumb'].sum()\n",
        "d.sort_values(ascending=False).head(5)"
      ],
      "execution_count": 120,
      "outputs": [
        {
          "output_type": "execute_result",
          "data": {
            "text/plain": [
              "county\n",
              "Laikipia    54.8\n",
              "Nyamira     54.5\n",
              "Murang'a    41.4\n",
              "Kitui       36.4\n",
              "Busia       35.5\n",
              "Name: dumb, dtype: float64"
            ]
          },
          "metadata": {
            "tags": []
          },
          "execution_count": 120
        }
      ]
    },
    {
      "cell_type": "code",
      "metadata": {
        "id": "gSjjnw56OP8O",
        "colab": {
          "base_uri": "https://localhost:8080/"
        },
        "outputId": "a3e74862-a983-4dea-ab5f-675cb50cd210"
      },
      "source": [
        "# Challenge 8\n",
        "# In ascending order, which top 5 counties had the highest no. of registered persons with a mental disability? \n",
        "# \n",
        "m = D_pct.groupby('county')['mental'].sum()\n",
        "m.sort_values(ascending=False).head(5)"
      ],
      "execution_count": 123,
      "outputs": [
        {
          "output_type": "execute_result",
          "data": {
            "text/plain": [
              "county\n",
              "Taita Taveta     83.1\n",
              "Kiambu           70.7\n",
              "Kirinyaga        66.4\n",
              "Kwale            50.5\n",
              "Tharaka Nithi    41.4\n",
              "Name: mental, dtype: float64"
            ]
          },
          "metadata": {
            "tags": []
          },
          "execution_count": 123
        }
      ]
    },
    {
      "cell_type": "code",
      "metadata": {
        "id": "UZLYqF7UOTtu",
        "colab": {
          "base_uri": "https://localhost:8080/",
          "height": 390
        },
        "outputId": "f2380d56-02ed-4469-979d-2e272e00f290"
      },
      "source": [
        "# Challenge 9\n",
        "# Which counties had no registerd blind persons nor deaf persons?\n",
        "# \n",
        "b = D_pct[D_pct['blind'] == 0]\n",
        "d = b[b['deaf'] == 0]\n",
        "d"
      ],
      "execution_count": 127,
      "outputs": [
        {
          "output_type": "execute_result",
          "data": {
            "text/html": [
              "<div>\n",
              "<style scoped>\n",
              "    .dataframe tbody tr th:only-of-type {\n",
              "        vertical-align: middle;\n",
              "    }\n",
              "\n",
              "    .dataframe tbody tr th {\n",
              "        vertical-align: top;\n",
              "    }\n",
              "\n",
              "    .dataframe thead th {\n",
              "        text-align: right;\n",
              "    }\n",
              "</style>\n",
              "<table border=\"1\" class=\"dataframe\">\n",
              "  <thead>\n",
              "    <tr style=\"text-align: right;\">\n",
              "      <th></th>\n",
              "      <th>county</th>\n",
              "      <th>missing_hand</th>\n",
              "      <th>missing_foot</th>\n",
              "      <th>lame</th>\n",
              "      <th>blind</th>\n",
              "      <th>deaf</th>\n",
              "      <th>dumb</th>\n",
              "      <th>mental</th>\n",
              "      <th>other</th>\n",
              "      <th>total_count</th>\n",
              "    </tr>\n",
              "  </thead>\n",
              "  <tbody>\n",
              "    <tr>\n",
              "      <th>5</th>\n",
              "      <td>Embu</td>\n",
              "      <td>0.0</td>\n",
              "      <td>0.0</td>\n",
              "      <td>55.1</td>\n",
              "      <td>0.0</td>\n",
              "      <td>0.0</td>\n",
              "      <td>3.0</td>\n",
              "      <td>3.0</td>\n",
              "      <td>41.8</td>\n",
              "      <td>6287.4</td>\n",
              "    </tr>\n",
              "    <tr>\n",
              "      <th>6</th>\n",
              "      <td>Garissa</td>\n",
              "      <td>0.0</td>\n",
              "      <td>37.1</td>\n",
              "      <td>0.0</td>\n",
              "      <td>0.0</td>\n",
              "      <td>0.0</td>\n",
              "      <td>0.0</td>\n",
              "      <td>11.3</td>\n",
              "      <td>51.6</td>\n",
              "      <td>1864.1</td>\n",
              "    </tr>\n",
              "    <tr>\n",
              "      <th>14</th>\n",
              "      <td>Kirinyaga</td>\n",
              "      <td>0.0</td>\n",
              "      <td>0.0</td>\n",
              "      <td>4.2</td>\n",
              "      <td>0.0</td>\n",
              "      <td>0.0</td>\n",
              "      <td>0.0</td>\n",
              "      <td>66.4</td>\n",
              "      <td>0.0</td>\n",
              "      <td>2522.8</td>\n",
              "    </tr>\n",
              "    <tr>\n",
              "      <th>16</th>\n",
              "      <td>Kisumu</td>\n",
              "      <td>7.6</td>\n",
              "      <td>0.0</td>\n",
              "      <td>32.7</td>\n",
              "      <td>0.0</td>\n",
              "      <td>0.0</td>\n",
              "      <td>4.5</td>\n",
              "      <td>17.7</td>\n",
              "      <td>41.4</td>\n",
              "      <td>20026.3</td>\n",
              "    </tr>\n",
              "    <tr>\n",
              "      <th>19</th>\n",
              "      <td>Laikipia</td>\n",
              "      <td>0.0</td>\n",
              "      <td>0.0</td>\n",
              "      <td>45.2</td>\n",
              "      <td>0.0</td>\n",
              "      <td>0.0</td>\n",
              "      <td>54.8</td>\n",
              "      <td>0.0</td>\n",
              "      <td>0.0</td>\n",
              "      <td>1825.7</td>\n",
              "    </tr>\n",
              "    <tr>\n",
              "      <th>20</th>\n",
              "      <td>Lamu</td>\n",
              "      <td>0.0</td>\n",
              "      <td>0.0</td>\n",
              "      <td>0.0</td>\n",
              "      <td>0.0</td>\n",
              "      <td>0.0</td>\n",
              "      <td>26.1</td>\n",
              "      <td>8.6</td>\n",
              "      <td>65.3</td>\n",
              "      <td>524.9</td>\n",
              "    </tr>\n",
              "    <tr>\n",
              "      <th>21</th>\n",
              "      <td>Machakos</td>\n",
              "      <td>0.0</td>\n",
              "      <td>0.0</td>\n",
              "      <td>12.6</td>\n",
              "      <td>0.0</td>\n",
              "      <td>0.0</td>\n",
              "      <td>10.3</td>\n",
              "      <td>18.8</td>\n",
              "      <td>58.9</td>\n",
              "      <td>23460.4</td>\n",
              "    </tr>\n",
              "    <tr>\n",
              "      <th>25</th>\n",
              "      <td>Meru</td>\n",
              "      <td>0.0</td>\n",
              "      <td>0.0</td>\n",
              "      <td>34.7</td>\n",
              "      <td>0.0</td>\n",
              "      <td>0.0</td>\n",
              "      <td>11.6</td>\n",
              "      <td>12.3</td>\n",
              "      <td>57.2</td>\n",
              "      <td>19166.3</td>\n",
              "    </tr>\n",
              "    <tr>\n",
              "      <th>30</th>\n",
              "      <td>Nakuru</td>\n",
              "      <td>0.4</td>\n",
              "      <td>0.0</td>\n",
              "      <td>55.0</td>\n",
              "      <td>0.0</td>\n",
              "      <td>0.0</td>\n",
              "      <td>8.4</td>\n",
              "      <td>33.6</td>\n",
              "      <td>15.7</td>\n",
              "      <td>21598.0</td>\n",
              "    </tr>\n",
              "    <tr>\n",
              "      <th>38</th>\n",
              "      <td>Taita Taveta</td>\n",
              "      <td>0.0</td>\n",
              "      <td>3.7</td>\n",
              "      <td>15.4</td>\n",
              "      <td>0.0</td>\n",
              "      <td>0.0</td>\n",
              "      <td>13.3</td>\n",
              "      <td>83.1</td>\n",
              "      <td>5.9</td>\n",
              "      <td>3709.8</td>\n",
              "    </tr>\n",
              "    <tr>\n",
              "      <th>43</th>\n",
              "      <td>Uasin Gishu</td>\n",
              "      <td>0.0</td>\n",
              "      <td>0.0</td>\n",
              "      <td>18.6</td>\n",
              "      <td>0.0</td>\n",
              "      <td>0.0</td>\n",
              "      <td>0.0</td>\n",
              "      <td>27.3</td>\n",
              "      <td>58.1</td>\n",
              "      <td>9281.6</td>\n",
              "    </tr>\n",
              "  </tbody>\n",
              "</table>\n",
              "</div>"
            ],
            "text/plain": [
              "          county  missing_hand  missing_foot  ...  mental  other  total_count\n",
              "5           Embu           0.0           0.0  ...     3.0   41.8       6287.4\n",
              "6        Garissa           0.0          37.1  ...    11.3   51.6       1864.1\n",
              "14     Kirinyaga           0.0           0.0  ...    66.4    0.0       2522.8\n",
              "16        Kisumu           7.6           0.0  ...    17.7   41.4      20026.3\n",
              "19      Laikipia           0.0           0.0  ...     0.0    0.0       1825.7\n",
              "20          Lamu           0.0           0.0  ...     8.6   65.3        524.9\n",
              "21      Machakos           0.0           0.0  ...    18.8   58.9      23460.4\n",
              "25          Meru           0.0           0.0  ...    12.3   57.2      19166.3\n",
              "30        Nakuru           0.4           0.0  ...    33.6   15.7      21598.0\n",
              "38  Taita Taveta           0.0           3.7  ...    83.1    5.9       3709.8\n",
              "43   Uasin Gishu           0.0           0.0  ...    27.3   58.1       9281.6\n",
              "\n",
              "[11 rows x 10 columns]"
            ]
          },
          "metadata": {
            "tags": []
          },
          "execution_count": 127
        }
      ]
    },
    {
      "cell_type": "code",
      "metadata": {
        "id": "1qk8wF3MOXDu",
        "colab": {
          "base_uri": "https://localhost:8080/"
        },
        "outputId": "d3fe3ff7-95b7-4fa5-e7e7-87169cfa2e40"
      },
      "source": [
        "# Challenge 10\n",
        "# Which disability was the most registered across all the counties?\n",
        "# \n",
        "ad = D_pct[['missing_hand','missing_foot','lame','blind','deaf','dumb','mental','other']].max()\n",
        "ad.sort_values(ascending=False).head(1)"
      ],
      "execution_count": 133,
      "outputs": [
        {
          "output_type": "execute_result",
          "data": {
            "text/plain": [
              "mental    83.1\n",
              "dtype: float64"
            ]
          },
          "metadata": {
            "tags": []
          },
          "execution_count": 133
        }
      ]
    },
    {
      "cell_type": "code",
      "metadata": {
        "id": "8xkStdjdXS3w",
        "colab": {
          "base_uri": "https://localhost:8080/"
        },
        "outputId": "b1e4af80-b5c2-4ec4-f325-56b22ea112cf"
      },
      "source": [
        "# Challenge 11\n",
        "# Which disability was the least registered across all the counties?\n",
        "#\n",
        "ad1 = D_pct[['missing_hand','missing_foot','lame','blind','deaf','dumb','mental','other']].max()\n",
        "ad1.sort_values(ascending=True).head(1)"
      ],
      "execution_count": 135,
      "outputs": [
        {
          "output_type": "execute_result",
          "data": {
            "text/plain": [
              "missing_hand    21.2\n",
              "dtype: float64"
            ]
          },
          "metadata": {
            "tags": []
          },
          "execution_count": 135
        }
      ]
    },
    {
      "cell_type": "code",
      "metadata": {
        "id": "rgVsXH_5XVCh",
        "colab": {
          "base_uri": "https://localhost:8080/"
        },
        "outputId": "2828c087-feef-40e7-f734-a8c2b3276ee5"
      },
      "source": [
        "# Challenge 12\n",
        "# What was the average no. of registered persons with a disability?\n",
        "#\n",
        "D_pct['total_count'].mean()\n"
      ],
      "execution_count": 138,
      "outputs": [
        {
          "output_type": "execute_result",
          "data": {
            "text/plain": [
              "8565.491489361699"
            ]
          },
          "metadata": {
            "tags": []
          },
          "execution_count": 138
        }
      ]
    },
    {
      "cell_type": "code",
      "metadata": {
        "id": "XvvFWhuDXXeP",
        "colab": {
          "base_uri": "https://localhost:8080/"
        },
        "outputId": "0ae66e78-1e6a-4b4f-955a-88ec788098a0"
      },
      "source": [
        "# Challenge 13\n",
        "# Which three counties had least registered persons with disabilities?\n",
        "#\n",
        "lr = D_pct.groupby('county')['total_count'].sum()\n",
        "lr.sort_values(ascending=True).head(3)"
      ],
      "execution_count": 140,
      "outputs": [
        {
          "output_type": "execute_result",
          "data": {
            "text/plain": [
              "county\n",
              "Tharaka Nithi     420.1\n",
              "Lamu              524.9\n",
              "Turkana          1733.1\n",
              "Name: total_count, dtype: float64"
            ]
          },
          "metadata": {
            "tags": []
          },
          "execution_count": 140
        }
      ]
    },
    {
      "cell_type": "code",
      "metadata": {
        "id": "q1iq02FuXc2R",
        "colab": {
          "base_uri": "https://localhost:8080/"
        },
        "outputId": "bcd652cb-ee77-400b-ab0d-85e2aa0626e8"
      },
      "source": [
        "# Challenge 14\n",
        "# What was the total no of registered persons with a disability across all counties?\n",
        "#\n",
        "D_pct['total_count'].sum()"
      ],
      "execution_count": 141,
      "outputs": [
        {
          "output_type": "execute_result",
          "data": {
            "text/plain": [
              "402578.1"
            ]
          },
          "metadata": {
            "tags": []
          },
          "execution_count": 141
        }
      ]
    },
    {
      "cell_type": "code",
      "metadata": {
        "id": "drAWpxBZXhcF",
        "colab": {
          "base_uri": "https://localhost:8080/"
        },
        "outputId": "2d12fc10-abc5-4390-bcf4-ee2654f98ae6"
      },
      "source": [
        "# Challenge 15 \n",
        "# Which top 3 counties has the highest no. of registered persons with a disability?\n",
        "# \n",
        "mr = D_pct.groupby('county')['total_count'].sum()\n",
        "mr.sort_values(ascending=False).head(3)"
      ],
      "execution_count": 142,
      "outputs": [
        {
          "output_type": "execute_result",
          "data": {
            "text/plain": [
              "county\n",
              "Kakamega    27468.9\n",
              "Homa Bay    23696.8\n",
              "Vihiga      23490.6\n",
              "Name: total_count, dtype: float64"
            ]
          },
          "metadata": {
            "tags": []
          },
          "execution_count": 142
        }
      ]
    },
    {
      "cell_type": "code",
      "metadata": {
        "id": "QgS_BLcjdE5s"
      },
      "source": [
        ""
      ],
      "execution_count": null,
      "outputs": []
    }
  ]
}
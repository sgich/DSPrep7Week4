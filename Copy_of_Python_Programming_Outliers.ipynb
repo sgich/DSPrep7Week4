{
  "nbformat": 4,
  "nbformat_minor": 0,
  "metadata": {
    "colab": {
      "name": "Copy of Python Programming: Outliers",
      "provenance": [],
      "collapsed_sections": [
        "DwM2aK5gVHO6",
        "ncXu-6kgOVgS",
        "Vd-48O6POQaL",
        "gxED3bY8OQrx",
        "6XEIOnysU89y",
        "sjLMkyDqVWGH",
        "A7q6gzTGVWGn",
        "Yw8GEqngOeb1",
        "HYEHQfxxOeb2",
        "X1x1v181Oeb6",
        "JpEQ5XMpOeb-"
      ],
      "toc_visible": true
    },
    "kernelspec": {
      "name": "python3",
      "display_name": "Python 3"
    }
  },
  "cells": [
    {
      "cell_type": "markdown",
      "metadata": {
        "id": "4z4R6KDEOBu1"
      },
      "source": [
        "<font color=\"green\">*To start working on this notebook, or any other notebook that we will use in the Moringa Data Science Course, we will need to save our own copy of it. We can do this by clicking File > Save a Copy in Drive. We will then be able to make edits to our own copy of this notebook.*</font>"
      ]
    },
    {
      "cell_type": "markdown",
      "metadata": {
        "id": "jdpKPwMLOFq2"
      },
      "source": [
        "# Python Programming: Outliers"
      ]
    },
    {
      "cell_type": "markdown",
      "metadata": {
        "id": "PmZdYSeHOVN2"
      },
      "source": [
        "## Examples"
      ]
    },
    {
      "cell_type": "markdown",
      "metadata": {
        "id": "DwM2aK5gVHO6"
      },
      "source": [
        "### 1. Finding Outliers"
      ]
    },
    {
      "cell_type": "markdown",
      "metadata": {
        "id": "ncXu-6kgOVgS"
      },
      "source": [
        "#### Example 1: Box Plot"
      ]
    },
    {
      "cell_type": "code",
      "metadata": {
        "id": "24XfAfBcOVgT",
        "colab": {
          "base_uri": "https://localhost:8080/",
          "height": 204
        },
        "outputId": "6f5975ba-db6c-4f88-8b23-0b771cd0ff3a"
      },
      "source": [
        "# Example 1 \n",
        "# ---\n",
        "# Visualising outliers using box plot.\n",
        "# ---\n",
        "# A boxplot is a method for graphically depicting groups of numerical data \n",
        "# through their quantiles or the five-number summary \n",
        "# (minimum, first quartile (Q1), median, third quartile (Q3), and maximum). \n",
        "# This method is normally used to detect outliers. \n",
        "# ---\n",
        "# Dataset url = http://bit.ly/OutlierDataset\n",
        "#\n",
        "\n",
        "# Importing the required libraries\n",
        "# \n",
        "import numpy as np \n",
        "import pandas as pd \n",
        "import matplotlib.pyplot as plt \n",
        "% matplotlib inline \n",
        "\n",
        "# Loading the dataset \n",
        "# \n",
        "df = pd.read_csv(\"http://bit.ly/OutlierDataset\") \n",
        "\n",
        "# Display 5 rows of dataset \n",
        "# \n",
        "df.head()"
      ],
      "execution_count": 3,
      "outputs": [
        {
          "output_type": "execute_result",
          "data": {
            "text/html": [
              "<div>\n",
              "<style scoped>\n",
              "    .dataframe tbody tr th:only-of-type {\n",
              "        vertical-align: middle;\n",
              "    }\n",
              "\n",
              "    .dataframe tbody tr th {\n",
              "        vertical-align: top;\n",
              "    }\n",
              "\n",
              "    .dataframe thead th {\n",
              "        text-align: right;\n",
              "    }\n",
              "</style>\n",
              "<table border=\"1\" class=\"dataframe\">\n",
              "  <thead>\n",
              "    <tr style=\"text-align: right;\">\n",
              "      <th></th>\n",
              "      <th>total_bill</th>\n",
              "      <th>tip</th>\n",
              "      <th>sex</th>\n",
              "      <th>smoker</th>\n",
              "      <th>day</th>\n",
              "      <th>time</th>\n",
              "      <th>size</th>\n",
              "    </tr>\n",
              "  </thead>\n",
              "  <tbody>\n",
              "    <tr>\n",
              "      <th>0</th>\n",
              "      <td>16.99</td>\n",
              "      <td>1.01</td>\n",
              "      <td>Female</td>\n",
              "      <td>No</td>\n",
              "      <td>Sun</td>\n",
              "      <td>Dinner</td>\n",
              "      <td>2</td>\n",
              "    </tr>\n",
              "    <tr>\n",
              "      <th>1</th>\n",
              "      <td>10.34</td>\n",
              "      <td>1.66</td>\n",
              "      <td>Male</td>\n",
              "      <td>No</td>\n",
              "      <td>Sun</td>\n",
              "      <td>Dinner</td>\n",
              "      <td>3</td>\n",
              "    </tr>\n",
              "    <tr>\n",
              "      <th>2</th>\n",
              "      <td>21.01</td>\n",
              "      <td>3.50</td>\n",
              "      <td>Male</td>\n",
              "      <td>No</td>\n",
              "      <td>Sun</td>\n",
              "      <td>Dinner</td>\n",
              "      <td>3</td>\n",
              "    </tr>\n",
              "    <tr>\n",
              "      <th>3</th>\n",
              "      <td>23.68</td>\n",
              "      <td>3.31</td>\n",
              "      <td>Male</td>\n",
              "      <td>No</td>\n",
              "      <td>Sun</td>\n",
              "      <td>Dinner</td>\n",
              "      <td>2</td>\n",
              "    </tr>\n",
              "    <tr>\n",
              "      <th>4</th>\n",
              "      <td>24.59</td>\n",
              "      <td>3.61</td>\n",
              "      <td>Female</td>\n",
              "      <td>No</td>\n",
              "      <td>Sun</td>\n",
              "      <td>Dinner</td>\n",
              "      <td>4</td>\n",
              "    </tr>\n",
              "  </tbody>\n",
              "</table>\n",
              "</div>"
            ],
            "text/plain": [
              "   total_bill   tip     sex smoker  day    time  size\n",
              "0       16.99  1.01  Female     No  Sun  Dinner     2\n",
              "1       10.34  1.66    Male     No  Sun  Dinner     3\n",
              "2       21.01  3.50    Male     No  Sun  Dinner     3\n",
              "3       23.68  3.31    Male     No  Sun  Dinner     2\n",
              "4       24.59  3.61  Female     No  Sun  Dinner     4"
            ]
          },
          "metadata": {
            "tags": []
          },
          "execution_count": 3
        }
      ]
    },
    {
      "cell_type": "code",
      "metadata": {
        "id": "4h9DfLYp8IN9",
        "colab": {
          "base_uri": "https://localhost:8080/",
          "height": 283
        },
        "outputId": "a8a322a8-79fb-4599-a4ce-eff5d9d99b48"
      },
      "source": [
        "# Creating a box plot of the variable 'total_bill'\n",
        "# ---\n",
        "# \n",
        "df.boxplot(column =['total_bill'], grid = False) \n",
        "\n",
        "# NB:\n",
        "# The circles in the plot indicate outliers and there are many."
      ],
      "execution_count": 4,
      "outputs": [
        {
          "output_type": "execute_result",
          "data": {
            "text/plain": [
              "<matplotlib.axes._subplots.AxesSubplot at 0x7fa77a638550>"
            ]
          },
          "metadata": {
            "tags": []
          },
          "execution_count": 4
        },
        {
          "output_type": "display_data",
          "data": {
            "image/png": "[encoded data removed]",
            "text/plain": [
              "<Figure size 432x288 with 1 Axes>"
            ]
          },
          "metadata": {
            "tags": [],
            "needs_background": "light"
          }
        }
      ]
    },
    {
      "cell_type": "code",
      "metadata": {
        "id": "6NgrHUi0-xMu",
        "colab": {
          "base_uri": "https://localhost:8080/",
          "height": 318
        },
        "outputId": "334aee94-1e5b-4b0b-c350-e01a38a7f36e"
      },
      "source": [
        "# It is also possible to identify outliers using more than one variables as shown\n",
        "# ---\n",
        "#  \n",
        "df.boxplot(column =['total_bill'], by ='day', grid = False)"
      ],
      "execution_count": 5,
      "outputs": [
        {
          "output_type": "execute_result",
          "data": {
            "text/plain": [
              "<matplotlib.axes._subplots.AxesSubplot at 0x7fa77a149390>"
            ]
          },
          "metadata": {
            "tags": []
          },
          "execution_count": 5
        },
        {
          "output_type": "display_data",
          "data": {
            "image/png": "[encoded data removed]",
            "text/plain": [
              "<Figure size 432x288 with 1 Axes>"
            ]
          },
          "metadata": {
            "tags": [],
            "needs_background": "light"
          }
        }
      ]
    },
    {
      "cell_type": "code",
      "metadata": {
        "id": "P1ACyJO01BRv",
        "colab": {
          "base_uri": "https://localhost:8080/",
          "height": 316
        },
        "outputId": "002dcb82-fb38-4efb-d5b5-82c1b062bd45"
      },
      "source": [
        "# Example 1-2: Outliers - Box plot (Multiple variables)\n",
        "# ---\n",
        "# Another way of finding outliers of multiple variables is by creating a box plot as shown below\n",
        "# ---\n",
        "# \n",
        "\n",
        "# Importing the seaborn library\n",
        "# ---\n",
        "#\n",
        "import seaborn as sns\n",
        "\n",
        "# Reading data from url as dataframe\n",
        "# ---\n",
        "# \n",
        "gapminder = pd.read_csv(\"http://bit.ly/FiveYearData\") \n",
        "gapminder\n",
        "\n",
        "# Filtering the data such that we will keep data from all countries for the year 2007\n",
        "gapminder_2007 = gapminder[gapminder['year']==2007] \n",
        "gapminder_2007\n",
        "\n",
        "# We then specify from the multiple options to customize the boxplot with Seaborn.\n",
        "# We choose color palette scheme for the boxplot with Seaborn. \n",
        "# Here, we chose colorblind friendly palette “colorblind”. \n",
        "# Other color palette options available in Seaborn include deep, muted, bright, pastel, and dark.\n",
        "# Uncomment the line below after running the previous lines\n",
        "bplot = sns.boxplot(y='lifeExp', x='continent', data=gapminder_2007, width=0.5, palette=\"colorblind\")\n",
        "\n",
        "# Boxplot alone is extremely useful in getting the summary of data within and between groups. \n",
        "# However, often, it is a good practice to overlay the actual data points on the boxplot.\n",
        "# We use jitter = True option to spread the data points horizontally and also \n",
        "# make boxplot with data points using stripplot.\n",
        "# Uncomment the line below after running the previous lines\n",
        "bplot=sns.stripplot(y='lifeExp', x='continent',  data=gapminder_2007, jitter=True, marker='o', alpha=0.5, color='red')\n",
        "\n",
        "# We then name and size our graph and axis\n",
        "# Uncomment the lines below after running the previous lines\n",
        "bplot.axes.set_title(\"2007: Life Expectancy Vs Continent\", fontsize=14)\n",
        "bplot.set_xlabel(\"Continent\", fontsize=12)\n",
        "bplot.set_ylabel(\"Life Expectancy\", fontsize=12)"
      ],
      "execution_count": 6,
      "outputs": [
        {
          "output_type": "execute_result",
          "data": {
            "text/plain": [
              "Text(0, 0.5, 'Life Expectancy')"
            ]
          },
          "metadata": {
            "tags": []
          },
          "execution_count": 6
        },
        {
          "output_type": "display_data",
          "data": {
            "image/png": "[encoded data removed]",
            "text/plain": [
              "<Figure size 432x288 with 1 Axes>"
            ]
          },
          "metadata": {
            "tags": [],
            "needs_background": "light"
          }
        }
      ]
    },
    {
      "cell_type": "markdown",
      "metadata": {
        "id": "Vd-48O6POQaL"
      },
      "source": [
        "#### Example 2: Histogram"
      ]
    },
    {
      "cell_type": "code",
      "metadata": {
        "id": "Dy-FNfkSOR8A",
        "colab": {
          "base_uri": "https://localhost:8080/",
          "height": 282
        },
        "outputId": "fb5e1a85-2857-451f-f8fe-297125ac6738"
      },
      "source": [
        "# Example 2\n",
        "# ---\n",
        "# We use a histogram to visualize the distibution of a numerical variable.\n",
        "# The created histogram shows that the distribution is right-skewed \n",
        "# and there are extreme higher values at the right of the histogram.\n",
        "# ---\n",
        "# \n",
        "df.total_bill.hist()"
      ],
      "execution_count": 7,
      "outputs": [
        {
          "output_type": "execute_result",
          "data": {
            "text/plain": [
              "<matplotlib.axes._subplots.AxesSubplot at 0x7fa77a067198>"
            ]
          },
          "metadata": {
            "tags": []
          },
          "execution_count": 7
        },
        {
          "output_type": "display_data",
          "data": {
            "image/png": "[encoded data removed]",
            "text/plain": [
              "<Figure size 432x288 with 1 Axes>"
            ]
          },
          "metadata": {
            "tags": [],
            "needs_background": "light"
          }
        }
      ]
    },
    {
      "cell_type": "markdown",
      "metadata": {
        "id": "gxED3bY8OQrx"
      },
      "source": [
        "#### Example 3: Scatter Plot"
      ]
    },
    {
      "cell_type": "code",
      "metadata": {
        "id": "YKFv1b5TOQrz",
        "colab": {
          "base_uri": "https://localhost:8080/",
          "height": 388
        },
        "outputId": "abcbc16e-9f1b-482e-8995-fc5fb3279d99"
      },
      "source": [
        "# Example 3\n",
        "# ---\n",
        "# The scatterplot will visualize the relationship between two quantitative variables. \n",
        "# The data points will be displayed as a collection of points. \n",
        "# Data points outside the general clustering of the two variables can be indicated as outliers.\n",
        "# ---\n",
        "# \n",
        "fig, ax = plt.subplots(figsize=(12,6))\n",
        "ax.scatter(df['total_bill'], df['tip'])\n",
        "ax.set_xlabel('Total Bill')\n",
        "ax.set_ylabel('Tip')\n",
        "plt.show()"
      ],
      "execution_count": 8,
      "outputs": [
        {
          "output_type": "display_data",
          "data": {
            "image/png": "[encoded data removed]",
            "text/plain": [
              "<Figure size 864x432 with 1 Axes>"
            ]
          },
          "metadata": {
            "tags": [],
            "needs_background": "light"
          }
        }
      ]
    },
    {
      "cell_type": "markdown",
      "metadata": {
        "id": "6XEIOnysU89y"
      },
      "source": [
        "#### Example 4: Z-Score"
      ]
    },
    {
      "cell_type": "code",
      "metadata": {
        "id": "gXqBA9rbiI0_",
        "colab": {
          "base_uri": "https://localhost:8080/"
        },
        "outputId": "94a4114e-f186-4bb6-d3fc-c64a2511331b"
      },
      "source": [
        "# Example 4: Outliers - Mathematical Function (Z-Score-)\n",
        "# ---\n",
        "# The Z-score is the signed number of standard deviations by which the value of an observation \n",
        "# or data point is above the mean value of what is being observed or measured.\n",
        "# The intuition behind Z-score is to describe any data point by finding their \n",
        "# relationship with the Standard Deviation and Mean of the group of data points. \n",
        "# Z-score is finding the distribution of data where mean is 0 \n",
        "# and standard deviation is 1 i.e. normal distribution.\n",
        "# You must be wondering that, how does this help in identifying the outliers? \n",
        "# Well, while calculating the Z-score we re-scale and center the data \n",
        "# and look for data points which are too far from zero. \n",
        "# These data points which are way too far from zero will be treated as the outliers. \n",
        "# In most of the cases a threshold of 3 or -3 is used i.e \n",
        "# if the Z-score value is greater than or less than 3 or -3 respectively, \n",
        "# that data point will be identified as an outlier.\n",
        "# ---\n",
        "# We will create the following function to calculate our z-scores and detect our outliers\n",
        "# ---\n",
        "# \n",
        "outliers=[]\n",
        "\n",
        "def detect_outlier(data_1):\n",
        "    \n",
        "    threshold=3\n",
        "    mean_1 = np.mean(data_1)\n",
        "    std_1 =np.std(data_1)\n",
        "    \n",
        "    for y in data_1:\n",
        "        z_score= (y - mean_1)/std_1 \n",
        "        if np.abs(z_score) > threshold:\n",
        "            outliers.append(y)\n",
        "    return outliers\n",
        "\n",
        "detect_outlier(df['total_bill'])"
      ],
      "execution_count": 9,
      "outputs": [
        {
          "output_type": "execute_result",
          "data": {
            "text/plain": [
              "[48.27, 48.17, 50.81, 48.33]"
            ]
          },
          "metadata": {
            "tags": []
          },
          "execution_count": 9
        }
      ]
    },
    {
      "cell_type": "code",
      "metadata": {
        "id": "YKW1NPzouW1x",
        "colab": {
          "base_uri": "https://localhost:8080/",
          "height": 231
        },
        "outputId": "3bb14914-ec14-4483-bd6a-3c94d05b4499"
      },
      "source": [
        "# we want to use a copy of boston_df \n",
        "\n",
        "# removing the outliers\n",
        "boston_df = df['total_bill'] [(z < 3).all(axis=1)]\n",
        "\n",
        "boston_df"
      ],
      "execution_count": 41,
      "outputs": [
        {
          "output_type": "error",
          "ename": "NameError",
          "evalue": "ignored",
          "traceback": [
            "\u001b[0;31m---------------------------------------------------------------------------\u001b[0m",
            "\u001b[0;31mNameError\u001b[0m                                 Traceback (most recent call last)",
            "\u001b[0;32m<ipython-input-41-14ebbc9cb097>\u001b[0m in \u001b[0;36m<module>\u001b[0;34m()\u001b[0m\n\u001b[1;32m      2\u001b[0m \u001b[0;34m\u001b[0m\u001b[0m\n\u001b[1;32m      3\u001b[0m \u001b[0;31m# removing the outliers\u001b[0m\u001b[0;34m\u001b[0m\u001b[0;34m\u001b[0m\u001b[0;34m\u001b[0m\u001b[0m\n\u001b[0;32m----> 4\u001b[0;31m \u001b[0mboston_df\u001b[0m \u001b[0;34m=\u001b[0m \u001b[0mdf\u001b[0m\u001b[0;34m[\u001b[0m\u001b[0;34m'total_bill'\u001b[0m\u001b[0;34m]\u001b[0m \u001b[0;34m[\u001b[0m\u001b[0;34m(\u001b[0m\u001b[0mz\u001b[0m \u001b[0;34m<\u001b[0m \u001b[0;36m3\u001b[0m\u001b[0;34m)\u001b[0m\u001b[0;34m.\u001b[0m\u001b[0mall\u001b[0m\u001b[0;34m(\u001b[0m\u001b[0maxis\u001b[0m\u001b[0;34m=\u001b[0m\u001b[0;36m1\u001b[0m\u001b[0;34m)\u001b[0m\u001b[0;34m]\u001b[0m\u001b[0;34m\u001b[0m\u001b[0;34m\u001b[0m\u001b[0m\n\u001b[0m\u001b[1;32m      5\u001b[0m \u001b[0;34m\u001b[0m\u001b[0m\n\u001b[1;32m      6\u001b[0m \u001b[0mboston_df\u001b[0m\u001b[0;34m\u001b[0m\u001b[0;34m\u001b[0m\u001b[0m\n",
            "\u001b[0;31mNameError\u001b[0m: name 'z' is not defined"
          ]
        }
      ]
    },
    {
      "cell_type": "markdown",
      "metadata": {
        "id": "sjLMkyDqVWGH"
      },
      "source": [
        "### 2. Dealing with Outliers"
      ]
    },
    {
      "cell_type": "markdown",
      "metadata": {
        "id": "A7q6gzTGVWGn"
      },
      "source": [
        "#### Example 1: Dropping outliers"
      ]
    },
    {
      "cell_type": "code",
      "metadata": {
        "id": "L_9_WcO_VWGo",
        "colab": {
          "base_uri": "https://localhost:8080/"
        },
        "outputId": "8eaa2f3d-d27e-47a3-fd6c-501719c70023"
      },
      "source": [
        "# Example 2: \n",
        "# ---\n",
        "# IQR Score \n",
        "# ---\n",
        "# The IQR score uses the IQR scores to remove the outliers. \n",
        "# The rule of thumb is that anything not in the range of \n",
        "# (Q1 - 1.5 IQR) and (Q3 + 1.5 IQR) is an outlier, and can be removed.\n",
        "# ---\n",
        "# Something to note about outlier methods is that they are likely to yield \n",
        "# different results due to the fact that they use different techniques (criteria) \n",
        "# for outlier detection\n",
        "# ---\n",
        "#\n",
        "\n",
        "# Calculating our first, third quantiles and then later our IQR\n",
        "# ---\n",
        "Q1 = df.quantile(0.25)\n",
        "Q3 = df.quantile(0.75)\n",
        "IQR = Q3 - Q1\n",
        "\n",
        "# Removing outliers based on the IQR range and stores the result in the data frame 'df_out'\n",
        "# ---\n",
        "# \n",
        "df_out = df[~((df < (Q1 - 1.5 * IQR)) | (df > (Q3 + 1.5 * IQR))).any(axis=1)]\n",
        "\n",
        "# Printing the shape of our new dataset\n",
        "# ---\n",
        "# \n",
        "print(df_out.shape)\n",
        "\n",
        "# Printing the shape of our old dataset\n",
        "# ---\n",
        "#\n",
        "print(df.shape)"
      ],
      "execution_count": 10,
      "outputs": [
        {
          "output_type": "stream",
          "text": [
            "(223, 7)\n",
            "(244, 7)\n"
          ],
          "name": "stdout"
        }
      ]
    },
    {
      "cell_type": "markdown",
      "metadata": {
        "id": "Yw8GEqngOeb1"
      },
      "source": [
        "## <font color=\"green\">Challenges</font>"
      ]
    },
    {
      "cell_type": "markdown",
      "metadata": {
        "id": "HYEHQfxxOeb2"
      },
      "source": [
        "#### <font color=\"green\">Challenge 1</font>"
      ]
    },
    {
      "cell_type": "code",
      "metadata": {
        "id": "dinMCd53Oeb3",
        "colab": {
          "base_uri": "https://localhost:8080/",
          "height": 316
        },
        "outputId": "268c32e1-9bdc-43d4-e511-d0d295230bfd"
      },
      "source": [
        "# Challenge 1\n",
        "# ---\n",
        "# Using a Box - Plot determine and remove the outliers in the following dataset \n",
        "# ---\n",
        "# Dataset url = http://bit.ly/MSClimateDataset\n",
        "# ---\n",
        "# \n",
        "\n",
        "url = 'http://bit.ly/MSClimateDataset'\n",
        "msc = pd.read_csv(url)\n",
        "msc.head()\n",
        "\n",
        "#import seaborn as sns\n",
        "# Filtering the data such that we will keep data from all countries for the year 2017\n",
        "msc_2017 = msc[msc['year']==2017] \n",
        "msc_2017\n",
        "mbplot = sns.boxplot(y='ave_wind_speed', x='month', data = msc_2017, width=0.5, palette=\"colorblind\")\n",
        "mbplot=sns.stripplot(y='ave_wind_speed', x='month', data = msc_2017, jitter=True, marker='o', alpha=0.5, color='black')\n",
        "# We then name and size our graph and axis\n",
        "mbplot.axes.set_title(\"2017: Average Wind Speed Every Month\", fontsize=14)\n",
        "mbplot.set_xlabel(\"month\", fontsize=12)\n",
        "mbplot.set_ylabel(\"Average Wind Speed\", fontsize=12)"
      ],
      "execution_count": 38,
      "outputs": [
        {
          "output_type": "execute_result",
          "data": {
            "text/plain": [
              "Text(0, 0.5, 'Average Wind Speed')"
            ]
          },
          "metadata": {
            "tags": []
          },
          "execution_count": 38
        },
        {
          "output_type": "display_data",
          "data": {
            "image/png": "[encoded data removed]",
            "text/plain": [
              "<Figure size 432x288 with 1 Axes>"
            ]
          },
          "metadata": {
            "tags": [],
            "needs_background": "light"
          }
        }
      ]
    },
    {
      "cell_type": "code",
      "metadata": {
        "colab": {
          "base_uri": "https://localhost:8080/",
          "height": 473
        },
        "id": "fvAXEIfkL8F2",
        "outputId": "edc73346-9146-4d3b-f062-f9fdfa26f8c9"
      },
      "source": [
        "# Calculating our first, third quantiles and then later our IQR\n",
        "Q1 = msc_2017.quantile(0.25)\n",
        "Q3 = msc_2017.quantile(0.75)\n",
        "IQR = Q3 - Q1\n",
        "\n",
        "# Removing outliers based on the IQR range and stores the result in the data frame 'msc_out'\n",
        "\n",
        "msc_out = msc_2017[~((msc_2017 < (Q1 - 1.5 * IQR)) | (msc_2017 > (Q3 + 1.5 * IQR))).any(axis=1)]\n",
        "\n",
        "# Printing the shape of our new dataset\n",
        "print(msc_out.shape)\n",
        "\n",
        "# Printing the shape of our old dataset\n",
        "print(msc_2017.shape)\n",
        "msc_out"
      ],
      "execution_count": 35,
      "outputs": [
        {
          "output_type": "stream",
          "text": [
            "(276, 13)\n",
            "(365, 13)\n"
          ],
          "name": "stdout"
        },
        {
          "output_type": "execute_result",
          "data": {
            "text/html": [
              "<div>\n",
              "<style scoped>\n",
              "    .dataframe tbody tr th:only-of-type {\n",
              "        vertical-align: middle;\n",
              "    }\n",
              "\n",
              "    .dataframe tbody tr th {\n",
              "        vertical-align: top;\n",
              "    }\n",
              "\n",
              "    .dataframe thead th {\n",
              "        text-align: right;\n",
              "    }\n",
              "</style>\n",
              "<table border=\"1\" class=\"dataframe\">\n",
              "  <thead>\n",
              "    <tr style=\"text-align: right;\">\n",
              "      <th></th>\n",
              "      <th>yyyy/mm/dd</th>\n",
              "      <th>year</th>\n",
              "      <th>month</th>\n",
              "      <th>day</th>\n",
              "      <th>ave_temp</th>\n",
              "      <th>high_temp</th>\n",
              "      <th>low_temp</th>\n",
              "      <th>precip</th>\n",
              "      <th>daylight</th>\n",
              "      <th>snowfall</th>\n",
              "      <th>ave_wind_speed</th>\n",
              "      <th>high_wind_speed</th>\n",
              "      <th>high_wind_direc</th>\n",
              "    </tr>\n",
              "  </thead>\n",
              "  <tbody>\n",
              "    <tr>\n",
              "      <th>10958</th>\n",
              "      <td>2017/1/1</td>\n",
              "      <td>2017</td>\n",
              "      <td>1</td>\n",
              "      <td>1</td>\n",
              "      <td>7.4</td>\n",
              "      <td>13.8</td>\n",
              "      <td>2.0</td>\n",
              "      <td>0.0</td>\n",
              "      <td>8.9</td>\n",
              "      <td>0</td>\n",
              "      <td>2.0</td>\n",
              "      <td>4.0</td>\n",
              "      <td>NW</td>\n",
              "    </tr>\n",
              "    <tr>\n",
              "      <th>10959</th>\n",
              "      <td>2017/1/2</td>\n",
              "      <td>2017</td>\n",
              "      <td>1</td>\n",
              "      <td>2</td>\n",
              "      <td>7.2</td>\n",
              "      <td>13.3</td>\n",
              "      <td>3.8</td>\n",
              "      <td>0.0</td>\n",
              "      <td>6.5</td>\n",
              "      <td>0</td>\n",
              "      <td>1.4</td>\n",
              "      <td>3.4</td>\n",
              "      <td>NW</td>\n",
              "    </tr>\n",
              "    <tr>\n",
              "      <th>10960</th>\n",
              "      <td>2017/1/3</td>\n",
              "      <td>2017</td>\n",
              "      <td>1</td>\n",
              "      <td>3</td>\n",
              "      <td>8.0</td>\n",
              "      <td>13.7</td>\n",
              "      <td>3.5</td>\n",
              "      <td>0.0</td>\n",
              "      <td>8.2</td>\n",
              "      <td>0</td>\n",
              "      <td>2.2</td>\n",
              "      <td>5.4</td>\n",
              "      <td>NNW</td>\n",
              "    </tr>\n",
              "    <tr>\n",
              "      <th>10961</th>\n",
              "      <td>2017/1/4</td>\n",
              "      <td>2017</td>\n",
              "      <td>1</td>\n",
              "      <td>4</td>\n",
              "      <td>8.5</td>\n",
              "      <td>14.0</td>\n",
              "      <td>3.6</td>\n",
              "      <td>0.0</td>\n",
              "      <td>8.7</td>\n",
              "      <td>0</td>\n",
              "      <td>2.6</td>\n",
              "      <td>5.9</td>\n",
              "      <td>NNW</td>\n",
              "    </tr>\n",
              "    <tr>\n",
              "      <th>10962</th>\n",
              "      <td>2017/1/5</td>\n",
              "      <td>2017</td>\n",
              "      <td>1</td>\n",
              "      <td>5</td>\n",
              "      <td>6.7</td>\n",
              "      <td>10.4</td>\n",
              "      <td>3.7</td>\n",
              "      <td>0.0</td>\n",
              "      <td>9.0</td>\n",
              "      <td>0</td>\n",
              "      <td>4.9</td>\n",
              "      <td>9.0</td>\n",
              "      <td>NW</td>\n",
              "    </tr>\n",
              "    <tr>\n",
              "      <th>...</th>\n",
              "      <td>...</td>\n",
              "      <td>...</td>\n",
              "      <td>...</td>\n",
              "      <td>...</td>\n",
              "      <td>...</td>\n",
              "      <td>...</td>\n",
              "      <td>...</td>\n",
              "      <td>...</td>\n",
              "      <td>...</td>\n",
              "      <td>...</td>\n",
              "      <td>...</td>\n",
              "      <td>...</td>\n",
              "      <td>...</td>\n",
              "    </tr>\n",
              "    <tr>\n",
              "      <th>11318</th>\n",
              "      <td>2017/12/27</td>\n",
              "      <td>2017</td>\n",
              "      <td>12</td>\n",
              "      <td>27</td>\n",
              "      <td>4.5</td>\n",
              "      <td>9.2</td>\n",
              "      <td>1.0</td>\n",
              "      <td>0.0</td>\n",
              "      <td>9.0</td>\n",
              "      <td>0</td>\n",
              "      <td>3.1</td>\n",
              "      <td>5.6</td>\n",
              "      <td>NNW</td>\n",
              "    </tr>\n",
              "    <tr>\n",
              "      <th>11319</th>\n",
              "      <td>2017/12/28</td>\n",
              "      <td>2017</td>\n",
              "      <td>12</td>\n",
              "      <td>28</td>\n",
              "      <td>4.8</td>\n",
              "      <td>9.8</td>\n",
              "      <td>1.1</td>\n",
              "      <td>0.0</td>\n",
              "      <td>9.0</td>\n",
              "      <td>0</td>\n",
              "      <td>3.3</td>\n",
              "      <td>6.0</td>\n",
              "      <td>NW</td>\n",
              "    </tr>\n",
              "    <tr>\n",
              "      <th>11320</th>\n",
              "      <td>2017/12/29</td>\n",
              "      <td>2017</td>\n",
              "      <td>12</td>\n",
              "      <td>29</td>\n",
              "      <td>6.1</td>\n",
              "      <td>10.5</td>\n",
              "      <td>2.3</td>\n",
              "      <td>0.0</td>\n",
              "      <td>8.6</td>\n",
              "      <td>0</td>\n",
              "      <td>3.4</td>\n",
              "      <td>6.7</td>\n",
              "      <td>NW</td>\n",
              "    </tr>\n",
              "    <tr>\n",
              "      <th>11321</th>\n",
              "      <td>2017/12/30</td>\n",
              "      <td>2017</td>\n",
              "      <td>12</td>\n",
              "      <td>30</td>\n",
              "      <td>6.2</td>\n",
              "      <td>11.1</td>\n",
              "      <td>1.0</td>\n",
              "      <td>0.0</td>\n",
              "      <td>8.9</td>\n",
              "      <td>0</td>\n",
              "      <td>2.8</td>\n",
              "      <td>5.8</td>\n",
              "      <td>NW</td>\n",
              "    </tr>\n",
              "    <tr>\n",
              "      <th>11322</th>\n",
              "      <td>2017/12/31</td>\n",
              "      <td>2017</td>\n",
              "      <td>12</td>\n",
              "      <td>31</td>\n",
              "      <td>3.8</td>\n",
              "      <td>5.4</td>\n",
              "      <td>2.2</td>\n",
              "      <td>0.0</td>\n",
              "      <td>0.4</td>\n",
              "      <td>0</td>\n",
              "      <td>2.1</td>\n",
              "      <td>4.3</td>\n",
              "      <td>NW</td>\n",
              "    </tr>\n",
              "  </tbody>\n",
              "</table>\n",
              "<p>276 rows × 13 columns</p>\n",
              "</div>"
            ],
            "text/plain": [
              "       yyyy/mm/dd  year  month  ...  ave_wind_speed  high_wind_speed  high_wind_direc\n",
              "10958    2017/1/1  2017      1  ...             2.0              4.0               NW\n",
              "10959    2017/1/2  2017      1  ...             1.4              3.4               NW\n",
              "10960    2017/1/3  2017      1  ...             2.2              5.4              NNW\n",
              "10961    2017/1/4  2017      1  ...             2.6              5.9              NNW\n",
              "10962    2017/1/5  2017      1  ...             4.9              9.0               NW\n",
              "...           ...   ...    ...  ...             ...              ...              ...\n",
              "11318  2017/12/27  2017     12  ...             3.1              5.6              NNW\n",
              "11319  2017/12/28  2017     12  ...             3.3              6.0               NW\n",
              "11320  2017/12/29  2017     12  ...             3.4              6.7               NW\n",
              "11321  2017/12/30  2017     12  ...             2.8              5.8               NW\n",
              "11322  2017/12/31  2017     12  ...             2.1              4.3               NW\n",
              "\n",
              "[276 rows x 13 columns]"
            ]
          },
          "metadata": {
            "tags": []
          },
          "execution_count": 35
        }
      ]
    },
    {
      "cell_type": "markdown",
      "metadata": {
        "id": "X1x1v181Oeb6"
      },
      "source": [
        "#### <font color=\"green\">Challenge 2</font>"
      ]
    },
    {
      "cell_type": "code",
      "metadata": {
        "id": "4gJCCP64Oeb7",
        "colab": {
          "base_uri": "https://localhost:8080/",
          "height": 282
        },
        "outputId": "2ae0bf6b-fc62-47c9-f488-683a8d601a69"
      },
      "source": [
        "# Challenge 2\n",
        "# ---\n",
        "# Attached is a set of products in which a sales and marketing team are trying to determine \n",
        "# which products we should continue to sell, and which products to remove from our inventory. \n",
        "# The file contains BOTH historical sales data AND active inventory, \n",
        "# which can be discerned with the column titled \"File Type\".\n",
        "# Find and deal with outliers in this dataset;\n",
        "# ---\n",
        "# Dataset url = http://bit.ly/MSProductSales\n",
        "# ---\n",
        "# \n",
        "url = 'http://bit.ly/MSProductSales'\n",
        "psm = pd.read_csv(url)\n",
        "psm\n",
        "\n",
        "psmh = psm[psm['File_Type'] == 'Historical']\n",
        "psmh\n",
        "\n",
        "psm.SoldCount.hist()"
      ],
      "execution_count": 44,
      "outputs": [
        {
          "output_type": "execute_result",
          "data": {
            "text/plain": [
              "<matplotlib.axes._subplots.AxesSubplot at 0x7fa769a56940>"
            ]
          },
          "metadata": {
            "tags": []
          },
          "execution_count": 44
        },
        {
          "output_type": "display_data",
          "data": {
            "image/png": "[encoded data removed]",
            "text/plain": [
              "<Figure size 432x288 with 1 Axes>"
            ]
          },
          "metadata": {
            "tags": [],
            "needs_background": "light"
          }
        }
      ]
    },
    {
      "cell_type": "code",
      "metadata": {
        "colab": {
          "base_uri": "https://localhost:8080/",
          "height": 473
        },
        "id": "n4kTsxZnODj4",
        "outputId": "444f26fb-6d85-4ee1-e0f6-89f4837d60a1"
      },
      "source": [
        "# Calculating our first, third quantiles and then later our IQR\n",
        "Q1 = psmh.quantile(0.25)\n",
        "Q3 = psmh.quantile(0.75)\n",
        "IQR = Q3 - Q1\n",
        "\n",
        "# Removing outliers based on the IQR range and stores the result in the data frame 'msc_out'\n",
        "\n",
        "psmh_out = psmh[~((psmh < (Q1 - 1.5 * IQR)) | (psmh > (Q3 + 1.5 * IQR))).any(axis=1)]\n",
        "\n",
        "# Printing the shape of our new dataset\n",
        "print(psmh_out.shape)\n",
        "\n",
        "# Printing the shape of our old dataset\n",
        "print(psmh.shape)\n",
        "psmh_out"
      ],
      "execution_count": 46,
      "outputs": [
        {
          "output_type": "stream",
          "text": [
            "(34496, 14)\n",
            "(75996, 14)\n"
          ],
          "name": "stdout"
        },
        {
          "output_type": "execute_result",
          "data": {
            "text/html": [
              "<div>\n",
              "<style scoped>\n",
              "    .dataframe tbody tr th:only-of-type {\n",
              "        vertical-align: middle;\n",
              "    }\n",
              "\n",
              "    .dataframe tbody tr th {\n",
              "        vertical-align: top;\n",
              "    }\n",
              "\n",
              "    .dataframe thead th {\n",
              "        text-align: right;\n",
              "    }\n",
              "</style>\n",
              "<table border=\"1\" class=\"dataframe\">\n",
              "  <thead>\n",
              "    <tr style=\"text-align: right;\">\n",
              "      <th></th>\n",
              "      <th>Order</th>\n",
              "      <th>File_Type</th>\n",
              "      <th>SKU_number</th>\n",
              "      <th>SoldFlag</th>\n",
              "      <th>SoldCount</th>\n",
              "      <th>MarketingType</th>\n",
              "      <th>ReleaseNumber</th>\n",
              "      <th>New_Release_Flag</th>\n",
              "      <th>StrengthFactor</th>\n",
              "      <th>PriceReg</th>\n",
              "      <th>ReleaseYear</th>\n",
              "      <th>ItemCount</th>\n",
              "      <th>LowUserPrice</th>\n",
              "      <th>LowNetPrice</th>\n",
              "    </tr>\n",
              "  </thead>\n",
              "  <tbody>\n",
              "    <tr>\n",
              "      <th>8</th>\n",
              "      <td>11</td>\n",
              "      <td>Historical</td>\n",
              "      <td>110568</td>\n",
              "      <td>0.0</td>\n",
              "      <td>0.0</td>\n",
              "      <td>D</td>\n",
              "      <td>11</td>\n",
              "      <td>1</td>\n",
              "      <td>436667.0</td>\n",
              "      <td>119.81</td>\n",
              "      <td>2008</td>\n",
              "      <td>36</td>\n",
              "      <td>63.99</td>\n",
              "      <td>96.92</td>\n",
              "    </tr>\n",
              "    <tr>\n",
              "      <th>10</th>\n",
              "      <td>13</td>\n",
              "      <td>Historical</td>\n",
              "      <td>1597828</td>\n",
              "      <td>0.0</td>\n",
              "      <td>0.0</td>\n",
              "      <td>D</td>\n",
              "      <td>9</td>\n",
              "      <td>1</td>\n",
              "      <td>161348.0</td>\n",
              "      <td>36.95</td>\n",
              "      <td>2008</td>\n",
              "      <td>21</td>\n",
              "      <td>0.00</td>\n",
              "      <td>27.98</td>\n",
              "    </tr>\n",
              "    <tr>\n",
              "      <th>11</th>\n",
              "      <td>14</td>\n",
              "      <td>Historical</td>\n",
              "      <td>178736</td>\n",
              "      <td>0.0</td>\n",
              "      <td>0.0</td>\n",
              "      <td>D</td>\n",
              "      <td>4</td>\n",
              "      <td>1</td>\n",
              "      <td>3005118.0</td>\n",
              "      <td>55.95</td>\n",
              "      <td>2010</td>\n",
              "      <td>16</td>\n",
              "      <td>34.51</td>\n",
              "      <td>11.52</td>\n",
              "    </tr>\n",
              "    <tr>\n",
              "      <th>12</th>\n",
              "      <td>15</td>\n",
              "      <td>Historical</td>\n",
              "      <td>525904</td>\n",
              "      <td>0.0</td>\n",
              "      <td>0.0</td>\n",
              "      <td>D</td>\n",
              "      <td>10</td>\n",
              "      <td>1</td>\n",
              "      <td>1785056.0</td>\n",
              "      <td>104.99</td>\n",
              "      <td>2010</td>\n",
              "      <td>15</td>\n",
              "      <td>4.39</td>\n",
              "      <td>73.89</td>\n",
              "    </tr>\n",
              "    <tr>\n",
              "      <th>14</th>\n",
              "      <td>17</td>\n",
              "      <td>Historical</td>\n",
              "      <td>169222</td>\n",
              "      <td>0.0</td>\n",
              "      <td>0.0</td>\n",
              "      <td>D</td>\n",
              "      <td>8</td>\n",
              "      <td>1</td>\n",
              "      <td>2352021.0</td>\n",
              "      <td>129.95</td>\n",
              "      <td>2006</td>\n",
              "      <td>22</td>\n",
              "      <td>75.84</td>\n",
              "      <td>8.97</td>\n",
              "    </tr>\n",
              "    <tr>\n",
              "      <th>...</th>\n",
              "      <td>...</td>\n",
              "      <td>...</td>\n",
              "      <td>...</td>\n",
              "      <td>...</td>\n",
              "      <td>...</td>\n",
              "      <td>...</td>\n",
              "      <td>...</td>\n",
              "      <td>...</td>\n",
              "      <td>...</td>\n",
              "      <td>...</td>\n",
              "      <td>...</td>\n",
              "      <td>...</td>\n",
              "      <td>...</td>\n",
              "      <td>...</td>\n",
              "    </tr>\n",
              "    <tr>\n",
              "      <th>75990</th>\n",
              "      <td>85101</td>\n",
              "      <td>Historical</td>\n",
              "      <td>861845</td>\n",
              "      <td>0.0</td>\n",
              "      <td>0.0</td>\n",
              "      <td>S</td>\n",
              "      <td>2</td>\n",
              "      <td>1</td>\n",
              "      <td>402851.0</td>\n",
              "      <td>59.95</td>\n",
              "      <td>2013</td>\n",
              "      <td>17</td>\n",
              "      <td>30.91</td>\n",
              "      <td>44.03</td>\n",
              "    </tr>\n",
              "    <tr>\n",
              "      <th>75991</th>\n",
              "      <td>85102</td>\n",
              "      <td>Historical</td>\n",
              "      <td>863599</td>\n",
              "      <td>0.0</td>\n",
              "      <td>0.0</td>\n",
              "      <td>S</td>\n",
              "      <td>2</td>\n",
              "      <td>1</td>\n",
              "      <td>119056.0</td>\n",
              "      <td>64.99</td>\n",
              "      <td>2008</td>\n",
              "      <td>34</td>\n",
              "      <td>32.49</td>\n",
              "      <td>53.00</td>\n",
              "    </tr>\n",
              "    <tr>\n",
              "      <th>75992</th>\n",
              "      <td>85103</td>\n",
              "      <td>Historical</td>\n",
              "      <td>614304</td>\n",
              "      <td>0.0</td>\n",
              "      <td>0.0</td>\n",
              "      <td>S</td>\n",
              "      <td>6</td>\n",
              "      <td>1</td>\n",
              "      <td>1115312.0</td>\n",
              "      <td>21.50</td>\n",
              "      <td>2004</td>\n",
              "      <td>53</td>\n",
              "      <td>47.99</td>\n",
              "      <td>21.97</td>\n",
              "    </tr>\n",
              "    <tr>\n",
              "      <th>75993</th>\n",
              "      <td>85104</td>\n",
              "      <td>Historical</td>\n",
              "      <td>109021</td>\n",
              "      <td>0.0</td>\n",
              "      <td>0.0</td>\n",
              "      <td>S</td>\n",
              "      <td>7</td>\n",
              "      <td>1</td>\n",
              "      <td>1315446.0</td>\n",
              "      <td>142.75</td>\n",
              "      <td>2006</td>\n",
              "      <td>19</td>\n",
              "      <td>47.99</td>\n",
              "      <td>53.99</td>\n",
              "    </tr>\n",
              "    <tr>\n",
              "      <th>75994</th>\n",
              "      <td>85105</td>\n",
              "      <td>Historical</td>\n",
              "      <td>658242</td>\n",
              "      <td>0.0</td>\n",
              "      <td>0.0</td>\n",
              "      <td>S</td>\n",
              "      <td>2</td>\n",
              "      <td>1</td>\n",
              "      <td>877788.0</td>\n",
              "      <td>50.00</td>\n",
              "      <td>2012</td>\n",
              "      <td>21</td>\n",
              "      <td>27.07</td>\n",
              "      <td>32.62</td>\n",
              "    </tr>\n",
              "  </tbody>\n",
              "</table>\n",
              "<p>34496 rows × 14 columns</p>\n",
              "</div>"
            ],
            "text/plain": [
              "       Order   File_Type  SKU_number  ...  ItemCount  LowUserPrice LowNetPrice\n",
              "8         11  Historical      110568  ...         36         63.99       96.92\n",
              "10        13  Historical     1597828  ...         21          0.00       27.98\n",
              "11        14  Historical      178736  ...         16         34.51       11.52\n",
              "12        15  Historical      525904  ...         15          4.39       73.89\n",
              "14        17  Historical      169222  ...         22         75.84        8.97\n",
              "...      ...         ...         ...  ...        ...           ...         ...\n",
              "75990  85101  Historical      861845  ...         17         30.91       44.03\n",
              "75991  85102  Historical      863599  ...         34         32.49       53.00\n",
              "75992  85103  Historical      614304  ...         53         47.99       21.97\n",
              "75993  85104  Historical      109021  ...         19         47.99       53.99\n",
              "75994  85105  Historical      658242  ...         21         27.07       32.62\n",
              "\n",
              "[34496 rows x 14 columns]"
            ]
          },
          "metadata": {
            "tags": []
          },
          "execution_count": 46
        }
      ]
    },
    {
      "cell_type": "markdown",
      "metadata": {
        "id": "JpEQ5XMpOeb-"
      },
      "source": [
        "#### <font color=\"green\">Challenge 3</font>"
      ]
    },
    {
      "cell_type": "code",
      "metadata": {
        "id": "AHJPx7SqOecA",
        "colab": {
          "base_uri": "https://localhost:8080/",
          "height": 351
        },
        "outputId": "c2a22dae-cf29-475a-a2b0-ac2dc3aa6441"
      },
      "source": [
        "# Challenge 3\n",
        "# ---\n",
        "# Brazilian politicians are entitled to refunds if they spend any of their money \n",
        "# on an activity that is enabling them to \"better serve the people\".\n",
        "# Those expenses are public data, however, there is little monitoring/data analysis of it. \n",
        "# A quick look at it shows a deputy with over 800 flights in one year. \n",
        "# Another deputy has over 140.000R$ expenses on mailing (old fashion mail) in one year.\n",
        "# There are a lot of very suspicious data regarding the deputies expending behavior. \n",
        "# Can you help spot outliers and companies charging unusual amounts of money for a service?\n",
        "# ---\n",
        "# Dataset url = http://bit.ly/MSBrazilPoliticians\n",
        "# ---\n",
        "# \n",
        "url = 'http://bit.ly/MSBrazilPoliticians'\n",
        "brp = pd.read_csv(url)\n",
        "brp\n",
        "\n",
        "#brp['refund_description'].unique()\n",
        "brd = brp[brp['refund_description'] == 'CONSULTING, RESEARCH AND TECHNICAL WORK COSTS']\n",
        "brd.dtypes\n",
        "\n",
        "#brd['party_members'] = pd.to_numeric(brd['party_members'])\n",
        "#brd.dtypes\n",
        "\n",
        "#fig, ax = plt.subplots(figsize=(12,6))\n",
        "#ax.scatter(brd['party_nmembers'], brd['refund_value'])\n",
        "#ax.set_xlabel('refund_value')\n",
        "#ax.set_ylabel('party_nmembers')\n",
        "#plt.show()\n",
        "\n",
        "bdplot = sns.boxplot(y='refund_value', x='party_nmembers', data = brd, width=0.5, palette=\"colorblind\")\n",
        "bdplot=sns.stripplot(y='refund_value', x='party_nmembers', data = brd, jitter=True, marker='o', alpha=0.5, color='black')\n",
        "# We then name and size our graph and axis\n",
        "mbplot.axes.set_title(\"Service Charges: Refund Vs Size of Party\", fontsize=14)\n",
        "mbplot.set_xlabel(\"Size of Party\", fontsize=12)\n",
        "mbplot.set_ylabel(\"Refund Value\", fontsize=12)\n"
      ],
      "execution_count": 61,
      "outputs": [
        {
          "output_type": "stream",
          "text": [
            "/usr/local/lib/python3.6/dist-packages/IPython/core/interactiveshell.py:2718: DtypeWarning: Columns (10,12,14,15,16) have mixed types.Specify dtype option on import or set low_memory=False.\n",
            "  interactivity=interactivity, compiler=compiler, result=result)\n"
          ],
          "name": "stderr"
        },
        {
          "output_type": "execute_result",
          "data": {
            "text/plain": [
              "Text(20.200000000000003, 0.5, 'Refund Value')"
            ]
          },
          "metadata": {
            "tags": []
          },
          "execution_count": 61
        },
        {
          "output_type": "display_data",
          "data": {
            "image/png": "[encoded data removed]",
            "text/plain": [
              "<Figure size 432x288 with 1 Axes>"
            ]
          },
          "metadata": {
            "tags": [],
            "needs_background": "light"
          }
        }
      ]
    },
    {
      "cell_type": "code",
      "metadata": {
        "colab": {
          "base_uri": "https://localhost:8080/",
          "height": 1000
        },
        "id": "g9-nEJouOzhi",
        "outputId": "2182f01f-a90a-49ba-e408-dfc357983e65"
      },
      "source": [
        "# Calculating our first, third quantiles and then later our IQR\n",
        "Q1 = brd.quantile(0.25)\n",
        "Q3 = brd.quantile(0.75)\n",
        "IQR = Q3 - Q1\n",
        "\n",
        "# Removing outliers based on the IQR range and stores the result in the data frame 'msc_out'\n",
        "\n",
        "brd_out = brd[~((brd < (Q1 - 1.5 * IQR)) | (brd > (Q3 + 1.5 * IQR))).any(axis=1)]\n",
        "\n",
        "# Printing the shape of our new dataset\n",
        "print(brd_out.shape)\n",
        "\n",
        "# Printing the shape of our old dataset\n",
        "print(brd.shape)\n",
        "brd_out"
      ],
      "execution_count": 63,
      "outputs": [
        {
          "output_type": "stream",
          "text": [
            "(2751, 18)\n",
            "(2898, 18)\n"
          ],
          "name": "stdout"
        },
        {
          "output_type": "execute_result",
          "data": {
            "text/html": [
              "<div>\n",
              "<style scoped>\n",
              "    .dataframe tbody tr th:only-of-type {\n",
              "        vertical-align: middle;\n",
              "    }\n",
              "\n",
              "    .dataframe tbody tr th {\n",
              "        vertical-align: top;\n",
              "    }\n",
              "\n",
              "    .dataframe thead th {\n",
              "        text-align: right;\n",
              "    }\n",
              "</style>\n",
              "<table border=\"1\" class=\"dataframe\">\n",
              "  <thead>\n",
              "    <tr style=\"text-align: right;\">\n",
              "      <th></th>\n",
              "      <th>deputy_name</th>\n",
              "      <th>deputy_state</th>\n",
              "      <th>political_party</th>\n",
              "      <th>refund_description</th>\n",
              "      <th>company_name</th>\n",
              "      <th>company_id</th>\n",
              "      <th>refund_date</th>\n",
              "      <th>refund_value</th>\n",
              "      <th>party_pg</th>\n",
              "      <th>party_en</th>\n",
              "      <th>party_tse</th>\n",
              "      <th>party_regdate</th>\n",
              "      <th>party_nmembers</th>\n",
              "      <th>party_ideology1</th>\n",
              "      <th>party_ideology2</th>\n",
              "      <th>party_ideology3</th>\n",
              "      <th>party_ideology4</th>\n",
              "      <th>party_position</th>\n",
              "    </tr>\n",
              "  </thead>\n",
              "  <tbody>\n",
              "    <tr>\n",
              "      <th>543</th>\n",
              "      <td>JOSÉ CARLOS ALELUIA</td>\n",
              "      <td>BA</td>\n",
              "      <td>DEM</td>\n",
              "      <td>CONSULTING, RESEARCH AND TECHNICAL WORK COSTS</td>\n",
              "      <td>CARVALHO &amp; CARDOSO ADVOGADOS ASSOCIADOS</td>\n",
              "      <td>2.179307e+13</td>\n",
              "      <td>2016-07-13T00:00:00</td>\n",
              "      <td>18000.0</td>\n",
              "      <td>Democratas</td>\n",
              "      <td>Democrats</td>\n",
              "      <td>25</td>\n",
              "      <td>11-09-86</td>\n",
              "      <td>1095712</td>\n",
              "      <td>Economic liberalism</td>\n",
              "      <td>Liberal conservatism</td>\n",
              "      <td>Christian democracy</td>\n",
              "      <td>NaN</td>\n",
              "      <td>Rightwing</td>\n",
              "    </tr>\n",
              "    <tr>\n",
              "      <th>544</th>\n",
              "      <td>JOSÉ CARLOS ALELUIA</td>\n",
              "      <td>BA</td>\n",
              "      <td>DEM</td>\n",
              "      <td>CONSULTING, RESEARCH AND TECHNICAL WORK COSTS</td>\n",
              "      <td>CARVALHO &amp; CARDOSO ADVOGADOS ASSOCIADOS</td>\n",
              "      <td>2.179307e+13</td>\n",
              "      <td>2016-10-26T00:00:00</td>\n",
              "      <td>10000.0</td>\n",
              "      <td>Democratas</td>\n",
              "      <td>Democrats</td>\n",
              "      <td>25</td>\n",
              "      <td>11-09-86</td>\n",
              "      <td>1095712</td>\n",
              "      <td>Economic liberalism</td>\n",
              "      <td>Liberal conservatism</td>\n",
              "      <td>Christian democracy</td>\n",
              "      <td>NaN</td>\n",
              "      <td>Rightwing</td>\n",
              "    </tr>\n",
              "    <tr>\n",
              "      <th>546</th>\n",
              "      <td>JOSÉ CARLOS ALELUIA</td>\n",
              "      <td>BA</td>\n",
              "      <td>DEM</td>\n",
              "      <td>CONSULTING, RESEARCH AND TECHNICAL WORK COSTS</td>\n",
              "      <td>CARVALHO DA SILVA ADVOGADOS</td>\n",
              "      <td>2.179307e+13</td>\n",
              "      <td>2016-12-14T00:00:00</td>\n",
              "      <td>12000.0</td>\n",
              "      <td>Democratas</td>\n",
              "      <td>Democrats</td>\n",
              "      <td>25</td>\n",
              "      <td>11-09-86</td>\n",
              "      <td>1095712</td>\n",
              "      <td>Economic liberalism</td>\n",
              "      <td>Liberal conservatism</td>\n",
              "      <td>Christian democracy</td>\n",
              "      <td>NaN</td>\n",
              "      <td>Rightwing</td>\n",
              "    </tr>\n",
              "    <tr>\n",
              "      <th>599</th>\n",
              "      <td>JOSÉ CARLOS ALELUIA</td>\n",
              "      <td>BA</td>\n",
              "      <td>DEM</td>\n",
              "      <td>CONSULTING, RESEARCH AND TECHNICAL WORK COSTS</td>\n",
              "      <td>CARVALHO &amp; CARDOSO ADVOGADOS ASSOCIADOS</td>\n",
              "      <td>2.179307e+13</td>\n",
              "      <td>2016-08-12T00:00:00</td>\n",
              "      <td>15000.0</td>\n",
              "      <td>Democratas</td>\n",
              "      <td>Democrats</td>\n",
              "      <td>25</td>\n",
              "      <td>11-09-86</td>\n",
              "      <td>1095712</td>\n",
              "      <td>Economic liberalism</td>\n",
              "      <td>Liberal conservatism</td>\n",
              "      <td>Christian democracy</td>\n",
              "      <td>NaN</td>\n",
              "      <td>Rightwing</td>\n",
              "    </tr>\n",
              "    <tr>\n",
              "      <th>604</th>\n",
              "      <td>JOSÉ CARLOS ALELUIA</td>\n",
              "      <td>BA</td>\n",
              "      <td>DEM</td>\n",
              "      <td>CONSULTING, RESEARCH AND TECHNICAL WORK COSTS</td>\n",
              "      <td>CARVALHO &amp; CARDOSO ADVOGADOS ASSOCIADOS</td>\n",
              "      <td>2.179307e+13</td>\n",
              "      <td>2016-05-02T00:00:00</td>\n",
              "      <td>15000.0</td>\n",
              "      <td>Democratas</td>\n",
              "      <td>Democrats</td>\n",
              "      <td>25</td>\n",
              "      <td>11-09-86</td>\n",
              "      <td>1095712</td>\n",
              "      <td>Economic liberalism</td>\n",
              "      <td>Liberal conservatism</td>\n",
              "      <td>Christian democracy</td>\n",
              "      <td>NaN</td>\n",
              "      <td>Rightwing</td>\n",
              "    </tr>\n",
              "    <tr>\n",
              "      <th>...</th>\n",
              "      <td>...</td>\n",
              "      <td>...</td>\n",
              "      <td>...</td>\n",
              "      <td>...</td>\n",
              "      <td>...</td>\n",
              "      <td>...</td>\n",
              "      <td>...</td>\n",
              "      <td>...</td>\n",
              "      <td>...</td>\n",
              "      <td>...</td>\n",
              "      <td>...</td>\n",
              "      <td>...</td>\n",
              "      <td>...</td>\n",
              "      <td>...</td>\n",
              "      <td>...</td>\n",
              "      <td>...</td>\n",
              "      <td>...</td>\n",
              "      <td>...</td>\n",
              "    </tr>\n",
              "    <tr>\n",
              "      <th>335627</th>\n",
              "      <td>BENJAMIN MARANHÃO</td>\n",
              "      <td>PB</td>\n",
              "      <td>SD</td>\n",
              "      <td>CONSULTING, RESEARCH AND TECHNICAL WORK COSTS</td>\n",
              "      <td>Gomes de Almeida Advogacia e Consultoria Jurídica</td>\n",
              "      <td>9.281587e+12</td>\n",
              "      <td>2016-02-15T00:00:00</td>\n",
              "      <td>10000.0</td>\n",
              "      <td>Solidariedade</td>\n",
              "      <td>Solidarity</td>\n",
              "      <td>77</td>\n",
              "      <td>24-09-13</td>\n",
              "      <td>161914</td>\n",
              "      <td>Labour movement</td>\n",
              "      <td>Humanist Movement</td>\n",
              "      <td>NaN</td>\n",
              "      <td>NaN</td>\n",
              "      <td>Centre</td>\n",
              "    </tr>\n",
              "    <tr>\n",
              "      <th>335628</th>\n",
              "      <td>BENJAMIN MARANHÃO</td>\n",
              "      <td>PB</td>\n",
              "      <td>SD</td>\n",
              "      <td>CONSULTING, RESEARCH AND TECHNICAL WORK COSTS</td>\n",
              "      <td>Gomes de Almeida Advogacia e Consultoria Jurídica</td>\n",
              "      <td>9.281587e+12</td>\n",
              "      <td>2016-04-18T00:00:00</td>\n",
              "      <td>10000.0</td>\n",
              "      <td>Solidariedade</td>\n",
              "      <td>Solidarity</td>\n",
              "      <td>77</td>\n",
              "      <td>24-09-13</td>\n",
              "      <td>161914</td>\n",
              "      <td>Labour movement</td>\n",
              "      <td>Humanist Movement</td>\n",
              "      <td>NaN</td>\n",
              "      <td>NaN</td>\n",
              "      <td>Centre</td>\n",
              "    </tr>\n",
              "    <tr>\n",
              "      <th>335629</th>\n",
              "      <td>BENJAMIN MARANHÃO</td>\n",
              "      <td>PB</td>\n",
              "      <td>SD</td>\n",
              "      <td>CONSULTING, RESEARCH AND TECHNICAL WORK COSTS</td>\n",
              "      <td>Gomes de Almeida Advogacia e Consultoria Jurídica</td>\n",
              "      <td>9.281587e+12</td>\n",
              "      <td>2016-04-18T00:00:00</td>\n",
              "      <td>10000.0</td>\n",
              "      <td>Solidariedade</td>\n",
              "      <td>Solidarity</td>\n",
              "      <td>77</td>\n",
              "      <td>24-09-13</td>\n",
              "      <td>161914</td>\n",
              "      <td>Labour movement</td>\n",
              "      <td>Humanist Movement</td>\n",
              "      <td>NaN</td>\n",
              "      <td>NaN</td>\n",
              "      <td>Centre</td>\n",
              "    </tr>\n",
              "    <tr>\n",
              "      <th>335818</th>\n",
              "      <td>LAERCIO OLIVEIRA</td>\n",
              "      <td>SE</td>\n",
              "      <td>SD</td>\n",
              "      <td>CONSULTING, RESEARCH AND TECHNICAL WORK COSTS</td>\n",
              "      <td>Paulo Ernani Advogados Associados</td>\n",
              "      <td>9.364966e+12</td>\n",
              "      <td>2016-12-14T00:00:00</td>\n",
              "      <td>2120.0</td>\n",
              "      <td>Solidariedade</td>\n",
              "      <td>Solidarity</td>\n",
              "      <td>77</td>\n",
              "      <td>24-09-13</td>\n",
              "      <td>161914</td>\n",
              "      <td>Labour movement</td>\n",
              "      <td>Humanist Movement</td>\n",
              "      <td>NaN</td>\n",
              "      <td>NaN</td>\n",
              "      <td>Centre</td>\n",
              "    </tr>\n",
              "    <tr>\n",
              "      <th>338057</th>\n",
              "      <td>LAUDIVIO CARVALHO</td>\n",
              "      <td>MG</td>\n",
              "      <td>SD</td>\n",
              "      <td>CONSULTING, RESEARCH AND TECHNICAL WORK COSTS</td>\n",
              "      <td>Conde &amp; Dell Aringa - Desenvolvimento de Softw...</td>\n",
              "      <td>9.613772e+12</td>\n",
              "      <td>2016-09-02T00:00:00</td>\n",
              "      <td>500.0</td>\n",
              "      <td>Solidariedade</td>\n",
              "      <td>Solidarity</td>\n",
              "      <td>77</td>\n",
              "      <td>24-09-13</td>\n",
              "      <td>161914</td>\n",
              "      <td>Labour movement</td>\n",
              "      <td>Humanist Movement</td>\n",
              "      <td>NaN</td>\n",
              "      <td>NaN</td>\n",
              "      <td>Centre</td>\n",
              "    </tr>\n",
              "  </tbody>\n",
              "</table>\n",
              "<p>2751 rows × 18 columns</p>\n",
              "</div>"
            ],
            "text/plain": [
              "                deputy_name deputy_state  ... party_ideology4 party_position\n",
              "543     JOSÉ CARLOS ALELUIA           BA  ...             NaN      Rightwing\n",
              "544     JOSÉ CARLOS ALELUIA           BA  ...             NaN      Rightwing\n",
              "546     JOSÉ CARLOS ALELUIA           BA  ...             NaN      Rightwing\n",
              "599     JOSÉ CARLOS ALELUIA           BA  ...             NaN      Rightwing\n",
              "604     JOSÉ CARLOS ALELUIA           BA  ...             NaN      Rightwing\n",
              "...                     ...          ...  ...             ...            ...\n",
              "335627    BENJAMIN MARANHÃO           PB  ...             NaN         Centre\n",
              "335628    BENJAMIN MARANHÃO           PB  ...             NaN         Centre\n",
              "335629    BENJAMIN MARANHÃO           PB  ...             NaN         Centre\n",
              "335818     LAERCIO OLIVEIRA           SE  ...             NaN         Centre\n",
              "338057    LAUDIVIO CARVALHO           MG  ...             NaN         Centre\n",
              "\n",
              "[2751 rows x 18 columns]"
            ]
          },
          "metadata": {
            "tags": []
          },
          "execution_count": 63
        }
      ]
    },
    {
      "cell_type": "code",
      "metadata": {
        "id": "hD40PgLjXnOF"
      },
      "source": [
        ""
      ],
      "execution_count": null,
      "outputs": []
    }
  ]
}
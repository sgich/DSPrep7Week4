{
  "nbformat": 4,
  "nbformat_minor": 0,
  "metadata": {
    "colab": {
      "name": "Copy of Data Investigation with Pandas",
      "provenance": [],
      "collapsed_sections": [
        "VSnOCZ5-IPCi",
        "HToJZ2gBPawZ",
        "IICLGbvBRYHq",
        "RAVzK5O6IR8v",
        "NicC8P9LMjvO"
      ],
      "toc_visible": true
    },
    "kernelspec": {
      "name": "python3",
      "display_name": "Python 3"
    }
  },
  "cells": [
    {
      "cell_type": "markdown",
      "metadata": {
        "id": "B-ZF3yPCWGPf"
      },
      "source": [
        "<font color=\"green\">*To start working on this notebook, or any other notebook that we will use in the Moringa Data Science Course, we will need to save our own copy of it. We can do this by clicking File > Save a Copy in Drive. We will then be able to make edits to our own copy of this notebook.*</font>"
      ]
    },
    {
      "cell_type": "markdown",
      "metadata": {
        "id": "m0tgCkvzPLEa"
      },
      "source": [
        "# Data Investigation with Pandas"
      ]
    },
    {
      "cell_type": "markdown",
      "metadata": {
        "id": "VSnOCZ5-IPCi"
      },
      "source": [
        "## 1.0 Importing our Libraries"
      ]
    },
    {
      "cell_type": "code",
      "metadata": {
        "id": "3r-KDLvrO44a"
      },
      "source": [
        "# Importing the libraries we will need \n",
        "\n",
        "# Importing the pandas library\n",
        "# \n",
        "import pandas as pd\n",
        "\n",
        "# Importing the numpy library\n",
        "#\n",
        "import numpy as np"
      ],
      "execution_count": null,
      "outputs": []
    },
    {
      "cell_type": "markdown",
      "metadata": {
        "id": "HToJZ2gBPawZ"
      },
      "source": [
        "## 1.1 Reading the Dataset from our CSV file\n",
        "\n"
      ]
    },
    {
      "cell_type": "markdown",
      "metadata": {
        "id": "LBUr8VUXQX-K"
      },
      "source": [
        "\n",
        "\n",
        "The dataset we will use contains information about the 2009 Census - The Rural Urban Population by Age, Sex and District.\n",
        "\n",
        "\n",
        "*   Dataset link for download or access: [Link](https://drive.google.com/open?id=1pc9ZLFGsosdWBk1lI29ADIqRtCvD_FBe)\n",
        "\n",
        "\n",
        "\n"
      ]
    },
    {
      "cell_type": "code",
      "metadata": {
        "id": "1acwmZanRNHs",
        "colab": {
          "base_uri": "https://localhost:8080/",
          "height": 450
        },
        "outputId": "510d991a-b94b-4871-ea5b-555e0b7b1801"
      },
      "source": [
        "# Let's read the data from the CSV file and create the dataframe to be used\n",
        "# \n",
        "f = 'Rural_Urban_Population_By_Age_Sex_and_by_District__2009.csv'\n",
        "df = pd.read_csv(f) \n",
        "df\n",
        "#setting object id as index xolumn\n",
        "df = pd.read_csv(f, index_col=['OBJECTID'])\n",
        "df\n",
        "\n"
      ],
      "execution_count": null,
      "outputs": [
        {
          "output_type": "execute_result",
          "data": {
            "text/html": [
              "<div>\n",
              "<style scoped>\n",
              "    .dataframe tbody tr th:only-of-type {\n",
              "        vertical-align: middle;\n",
              "    }\n",
              "\n",
              "    .dataframe tbody tr th {\n",
              "        vertical-align: top;\n",
              "    }\n",
              "\n",
              "    .dataframe thead th {\n",
              "        text-align: right;\n",
              "    }\n",
              "</style>\n",
              "<table border=\"1\" class=\"dataframe\">\n",
              "  <thead>\n",
              "    <tr style=\"text-align: right;\">\n",
              "      <th></th>\n",
              "      <th>District</th>\n",
              "      <th>Urban/Rural</th>\n",
              "      <th>Age_years</th>\n",
              "      <th>Male</th>\n",
              "      <th>Female</th>\n",
              "      <th>Total</th>\n",
              "      <th>County</th>\n",
              "      <th>Province</th>\n",
              "    </tr>\n",
              "    <tr>\n",
              "      <th>OBJECTID</th>\n",
              "      <th></th>\n",
              "      <th></th>\n",
              "      <th></th>\n",
              "      <th></th>\n",
              "      <th></th>\n",
              "      <th></th>\n",
              "      <th></th>\n",
              "      <th></th>\n",
              "    </tr>\n",
              "  </thead>\n",
              "  <tbody>\n",
              "    <tr>\n",
              "      <th>0.0</th>\n",
              "      <td>NAIROBI WEST</td>\n",
              "      <td>Urban</td>\n",
              "      <td>0</td>\n",
              "      <td>10126.0</td>\n",
              "      <td>10116.0</td>\n",
              "      <td>20242.0</td>\n",
              "      <td>Nairobi</td>\n",
              "      <td>NAIROBI</td>\n",
              "    </tr>\n",
              "    <tr>\n",
              "      <th>1.0</th>\n",
              "      <td>NAIROBI WEST</td>\n",
              "      <td>Urban</td>\n",
              "      <td>1</td>\n",
              "      <td>8124.0</td>\n",
              "      <td>7989.0</td>\n",
              "      <td>16113.0</td>\n",
              "      <td>Nairobi</td>\n",
              "      <td>NAIROBI</td>\n",
              "    </tr>\n",
              "    <tr>\n",
              "      <th>2.0</th>\n",
              "      <td>NAIROBI WEST</td>\n",
              "      <td>Urban</td>\n",
              "      <td>2</td>\n",
              "      <td>8462.0</td>\n",
              "      <td>8627.0</td>\n",
              "      <td>17089.0</td>\n",
              "      <td>Nairobi</td>\n",
              "      <td>NAIROBI</td>\n",
              "    </tr>\n",
              "    <tr>\n",
              "      <th>3.0</th>\n",
              "      <td>NAIROBI WEST</td>\n",
              "      <td>Urban</td>\n",
              "      <td>3</td>\n",
              "      <td>8334.0</td>\n",
              "      <td>8420.0</td>\n",
              "      <td>16754.0</td>\n",
              "      <td>Nairobi</td>\n",
              "      <td>NAIROBI</td>\n",
              "    </tr>\n",
              "    <tr>\n",
              "      <th>4.0</th>\n",
              "      <td>NAIROBI WEST</td>\n",
              "      <td>Urban</td>\n",
              "      <td>4</td>\n",
              "      <td>7948.0</td>\n",
              "      <td>7820.0</td>\n",
              "      <td>15768.0</td>\n",
              "      <td>Nairobi</td>\n",
              "      <td>NAIROBI</td>\n",
              "    </tr>\n",
              "    <tr>\n",
              "      <th>...</th>\n",
              "      <td>...</td>\n",
              "      <td>...</td>\n",
              "      <td>...</td>\n",
              "      <td>...</td>\n",
              "      <td>...</td>\n",
              "      <td>...</td>\n",
              "      <td>...</td>\n",
              "      <td>...</td>\n",
              "    </tr>\n",
              "    <tr>\n",
              "      <th>20174.0</th>\n",
              "      <td>TURKANA CENTRAL</td>\n",
              "      <td>Rural</td>\n",
              "      <td>2</td>\n",
              "      <td>3503.0</td>\n",
              "      <td>3257.0</td>\n",
              "      <td>6760.0</td>\n",
              "      <td>Turkana</td>\n",
              "      <td>RIFT VALLEY</td>\n",
              "    </tr>\n",
              "    <tr>\n",
              "      <th>20175.0</th>\n",
              "      <td>TURKANA CENTRAL</td>\n",
              "      <td>Rural</td>\n",
              "      <td>3</td>\n",
              "      <td>3480.0</td>\n",
              "      <td>3293.0</td>\n",
              "      <td>6773.0</td>\n",
              "      <td>Turkana</td>\n",
              "      <td>RIFT VALLEY</td>\n",
              "    </tr>\n",
              "    <tr>\n",
              "      <th>20176.0</th>\n",
              "      <td>TURKANA CENTRAL</td>\n",
              "      <td>Rural</td>\n",
              "      <td>4</td>\n",
              "      <td>3672.0</td>\n",
              "      <td>3471.0</td>\n",
              "      <td>7143.0</td>\n",
              "      <td>Turkana</td>\n",
              "      <td>RIFT VALLEY</td>\n",
              "    </tr>\n",
              "    <tr>\n",
              "      <th>20177.0</th>\n",
              "      <td>TURKANA CENTRAL</td>\n",
              "      <td>Rural</td>\n",
              "      <td>5</td>\n",
              "      <td>3439.0</td>\n",
              "      <td>3307.0</td>\n",
              "      <td>6746.0</td>\n",
              "      <td>Turkana</td>\n",
              "      <td>RIFT VALLEY</td>\n",
              "    </tr>\n",
              "    <tr>\n",
              "      <th>NaN</th>\n",
              "      <td>TURKANA CENTRA</td>\n",
              "      <td>NaN</td>\n",
              "      <td>NaN</td>\n",
              "      <td>NaN</td>\n",
              "      <td>NaN</td>\n",
              "      <td>NaN</td>\n",
              "      <td>NaN</td>\n",
              "      <td>NaN</td>\n",
              "    </tr>\n",
              "  </tbody>\n",
              "</table>\n",
              "<p>20179 rows × 8 columns</p>\n",
              "</div>"
            ],
            "text/plain": [
              "                 District Urban/Rural Age_years  ...    Total   County     Province\n",
              "OBJECTID                                         ...                               \n",
              "0.0          NAIROBI WEST       Urban         0  ...  20242.0  Nairobi      NAIROBI\n",
              "1.0          NAIROBI WEST       Urban         1  ...  16113.0  Nairobi      NAIROBI\n",
              "2.0          NAIROBI WEST       Urban         2  ...  17089.0  Nairobi      NAIROBI\n",
              "3.0          NAIROBI WEST       Urban         3  ...  16754.0  Nairobi      NAIROBI\n",
              "4.0          NAIROBI WEST       Urban         4  ...  15768.0  Nairobi      NAIROBI\n",
              "...                   ...         ...       ...  ...      ...      ...          ...\n",
              "20174.0   TURKANA CENTRAL       Rural         2  ...   6760.0  Turkana  RIFT VALLEY\n",
              "20175.0   TURKANA CENTRAL       Rural         3  ...   6773.0  Turkana  RIFT VALLEY\n",
              "20176.0   TURKANA CENTRAL       Rural         4  ...   7143.0  Turkana  RIFT VALLEY\n",
              "20177.0   TURKANA CENTRAL       Rural         5  ...   6746.0  Turkana  RIFT VALLEY\n",
              "NaN        TURKANA CENTRA         NaN       NaN  ...      NaN      NaN          NaN\n",
              "\n",
              "[20179 rows x 8 columns]"
            ]
          },
          "metadata": {
            "tags": []
          },
          "execution_count": 4
        }
      ]
    },
    {
      "cell_type": "markdown",
      "metadata": {
        "id": "IICLGbvBRYHq"
      },
      "source": [
        "## 1.2 Previewing our Dataset\n"
      ]
    },
    {
      "cell_type": "code",
      "metadata": {
        "id": "WrwHg-hzR5BY",
        "colab": {
          "base_uri": "https://localhost:8080/",
          "height": 390
        },
        "outputId": "80c9eb91-05dd-40d1-808c-e031805bf6cf"
      },
      "source": [
        "# Let's preview the first 10 rows of our data\n",
        "# \n",
        "df.head(10)"
      ],
      "execution_count": null,
      "outputs": [
        {
          "output_type": "execute_result",
          "data": {
            "text/html": [
              "<div>\n",
              "<style scoped>\n",
              "    .dataframe tbody tr th:only-of-type {\n",
              "        vertical-align: middle;\n",
              "    }\n",
              "\n",
              "    .dataframe tbody tr th {\n",
              "        vertical-align: top;\n",
              "    }\n",
              "\n",
              "    .dataframe thead th {\n",
              "        text-align: right;\n",
              "    }\n",
              "</style>\n",
              "<table border=\"1\" class=\"dataframe\">\n",
              "  <thead>\n",
              "    <tr style=\"text-align: right;\">\n",
              "      <th></th>\n",
              "      <th>District</th>\n",
              "      <th>Urban/Rural</th>\n",
              "      <th>Age_years</th>\n",
              "      <th>Male</th>\n",
              "      <th>Female</th>\n",
              "      <th>Total</th>\n",
              "      <th>County</th>\n",
              "      <th>Province</th>\n",
              "    </tr>\n",
              "    <tr>\n",
              "      <th>OBJECTID</th>\n",
              "      <th></th>\n",
              "      <th></th>\n",
              "      <th></th>\n",
              "      <th></th>\n",
              "      <th></th>\n",
              "      <th></th>\n",
              "      <th></th>\n",
              "      <th></th>\n",
              "    </tr>\n",
              "  </thead>\n",
              "  <tbody>\n",
              "    <tr>\n",
              "      <th>0</th>\n",
              "      <td>NAIROBI WEST</td>\n",
              "      <td>Urban</td>\n",
              "      <td>0</td>\n",
              "      <td>10126</td>\n",
              "      <td>10116</td>\n",
              "      <td>20242</td>\n",
              "      <td>Nairobi</td>\n",
              "      <td>NAIROBI</td>\n",
              "    </tr>\n",
              "    <tr>\n",
              "      <th>1</th>\n",
              "      <td>NAIROBI WEST</td>\n",
              "      <td>Urban</td>\n",
              "      <td>1</td>\n",
              "      <td>8124</td>\n",
              "      <td>7989</td>\n",
              "      <td>16113</td>\n",
              "      <td>Nairobi</td>\n",
              "      <td>NAIROBI</td>\n",
              "    </tr>\n",
              "    <tr>\n",
              "      <th>2</th>\n",
              "      <td>NAIROBI WEST</td>\n",
              "      <td>Urban</td>\n",
              "      <td>2</td>\n",
              "      <td>8462</td>\n",
              "      <td>8627</td>\n",
              "      <td>17089</td>\n",
              "      <td>Nairobi</td>\n",
              "      <td>NAIROBI</td>\n",
              "    </tr>\n",
              "    <tr>\n",
              "      <th>3</th>\n",
              "      <td>NAIROBI WEST</td>\n",
              "      <td>Urban</td>\n",
              "      <td>3</td>\n",
              "      <td>8334</td>\n",
              "      <td>8420</td>\n",
              "      <td>16754</td>\n",
              "      <td>Nairobi</td>\n",
              "      <td>NAIROBI</td>\n",
              "    </tr>\n",
              "    <tr>\n",
              "      <th>4</th>\n",
              "      <td>NAIROBI WEST</td>\n",
              "      <td>Urban</td>\n",
              "      <td>4</td>\n",
              "      <td>7948</td>\n",
              "      <td>7820</td>\n",
              "      <td>15768</td>\n",
              "      <td>Nairobi</td>\n",
              "      <td>NAIROBI</td>\n",
              "    </tr>\n",
              "    <tr>\n",
              "      <th>5</th>\n",
              "      <td>NAIROBI WEST</td>\n",
              "      <td>Urban</td>\n",
              "      <td>5</td>\n",
              "      <td>7547</td>\n",
              "      <td>7660</td>\n",
              "      <td>15207</td>\n",
              "      <td>Nairobi</td>\n",
              "      <td>NAIROBI</td>\n",
              "    </tr>\n",
              "    <tr>\n",
              "      <th>6</th>\n",
              "      <td>NAIROBI WEST</td>\n",
              "      <td>Urban</td>\n",
              "      <td>6</td>\n",
              "      <td>6966</td>\n",
              "      <td>7082</td>\n",
              "      <td>14048</td>\n",
              "      <td>Nairobi</td>\n",
              "      <td>NAIROBI</td>\n",
              "    </tr>\n",
              "    <tr>\n",
              "      <th>7</th>\n",
              "      <td>NAIROBI WEST</td>\n",
              "      <td>Urban</td>\n",
              "      <td>7</td>\n",
              "      <td>6511</td>\n",
              "      <td>6674</td>\n",
              "      <td>13185</td>\n",
              "      <td>Nairobi</td>\n",
              "      <td>NAIROBI</td>\n",
              "    </tr>\n",
              "    <tr>\n",
              "      <th>8</th>\n",
              "      <td>NAIROBI WEST</td>\n",
              "      <td>Urban</td>\n",
              "      <td>8</td>\n",
              "      <td>6171</td>\n",
              "      <td>6489</td>\n",
              "      <td>12660</td>\n",
              "      <td>Nairobi</td>\n",
              "      <td>NAIROBI</td>\n",
              "    </tr>\n",
              "    <tr>\n",
              "      <th>9</th>\n",
              "      <td>NAIROBI WEST</td>\n",
              "      <td>Urban</td>\n",
              "      <td>9</td>\n",
              "      <td>6361</td>\n",
              "      <td>6662</td>\n",
              "      <td>13023</td>\n",
              "      <td>Nairobi</td>\n",
              "      <td>NAIROBI</td>\n",
              "    </tr>\n",
              "  </tbody>\n",
              "</table>\n",
              "</div>"
            ],
            "text/plain": [
              "              District Urban/Rural Age_years  ...  Total   County  Province\n",
              "OBJECTID                                      ...                          \n",
              "0         NAIROBI WEST       Urban         0  ...  20242  Nairobi   NAIROBI\n",
              "1         NAIROBI WEST       Urban         1  ...  16113  Nairobi   NAIROBI\n",
              "2         NAIROBI WEST       Urban         2  ...  17089  Nairobi   NAIROBI\n",
              "3         NAIROBI WEST       Urban         3  ...  16754  Nairobi   NAIROBI\n",
              "4         NAIROBI WEST       Urban         4  ...  15768  Nairobi   NAIROBI\n",
              "5         NAIROBI WEST       Urban         5  ...  15207  Nairobi   NAIROBI\n",
              "6         NAIROBI WEST       Urban         6  ...  14048  Nairobi   NAIROBI\n",
              "7         NAIROBI WEST       Urban         7  ...  13185  Nairobi   NAIROBI\n",
              "8         NAIROBI WEST       Urban         8  ...  12660  Nairobi   NAIROBI\n",
              "9         NAIROBI WEST       Urban         9  ...  13023  Nairobi   NAIROBI\n",
              "\n",
              "[10 rows x 8 columns]"
            ]
          },
          "metadata": {
            "tags": []
          },
          "execution_count": 4
        }
      ]
    },
    {
      "cell_type": "markdown",
      "metadata": {
        "id": "RAVzK5O6IR8v"
      },
      "source": [
        "## 1.3 Accessing Information about our Dataset"
      ]
    },
    {
      "cell_type": "code",
      "metadata": {
        "id": "0d2kfemDIYWI",
        "colab": {
          "base_uri": "https://localhost:8080/"
        },
        "outputId": "ccc2bf27-dad1-4dda-e9d1-f2c524724d4a"
      },
      "source": [
        "# We can getting to know more about the dataset by accessing its information \n",
        "#\n",
        "#accessing maximum total population\n",
        "df['Total'].max()\n",
        "\n",
        "#accessing min total population\n",
        "df['Total'].min()\n",
        "\n",
        "#statistics about total population\n",
        "df['Total'].describe()\n",
        "\n",
        "#Urban Pop\n",
        "u_pop = df['Total'].groupby(df['Urban/Rural'])\n",
        "u_pop.mean()\n",
        "u_pop.sum()"
      ],
      "execution_count": null,
      "outputs": [
        {
          "output_type": "execute_result",
          "data": {
            "text/plain": [
              "Urban/Rural\n",
              "0               0\n",
              "80          24800\n",
              "Rural    25804256\n",
              "Urban    12401054\n",
              "Name: Total, dtype: int64"
            ]
          },
          "metadata": {
            "tags": []
          },
          "execution_count": 57
        }
      ]
    },
    {
      "cell_type": "markdown",
      "metadata": {
        "id": "NicC8P9LMjvO"
      },
      "source": [
        "## 1.4 Answering Questions"
      ]
    },
    {
      "cell_type": "markdown",
      "metadata": {
        "id": "8izhaW7UNYGJ"
      },
      "source": [
        "Let's answer the following questions with our dataset"
      ]
    },
    {
      "cell_type": "code",
      "metadata": {
        "id": "tTOgnXvuMxcn",
        "colab": {
          "base_uri": "https://localhost:8080/"
        },
        "outputId": "f9fb76f3-d44c-4d5b-a561-93c05f53291b"
      },
      "source": [
        "# Challenge 1\n",
        "# What was the average age of a person of Kenya?\n",
        "#df.dtypes\n",
        "\n",
        "df['Age_years'].unique()\n",
        "df[df['Age_years'] == '80+'] = 80\n",
        "df[df['Age_years'] == 'Age NS'] = 0\n",
        "df['Age_years'].unique()\n",
        "df.dtypes\n",
        "df['Age_years'] = pd.to_numeric(df['Age_years'])\n",
        "df.dtypes\n",
        "df['Age_years'].mean()"
      ],
      "execution_count": null,
      "outputs": [
        {
          "output_type": "execute_result",
          "data": {
            "text/plain": [
              "39.5011894142135"
            ]
          },
          "metadata": {
            "tags": []
          },
          "execution_count": 15
        }
      ]
    },
    {
      "cell_type": "code",
      "metadata": {
        "colab": {
          "base_uri": "https://localhost:8080/"
        },
        "id": "xZXE-JvSJ9Un",
        "outputId": "cd5fe779-0723-4175-9d20-53c273cb7b8f"
      },
      "source": [
        "df.info()"
      ],
      "execution_count": null,
      "outputs": [
        {
          "output_type": "stream",
          "text": [
            "<class 'pandas.core.frame.DataFrame'>\n",
            "Float64Index: 20179 entries, 0.0 to nan\n",
            "Data columns (total 8 columns):\n",
            " #   Column       Non-Null Count  Dtype  \n",
            "---  ------       --------------  -----  \n",
            " 0   District     20179 non-null  object \n",
            " 1   Urban/Rural  20178 non-null  object \n",
            " 2   Age_years    20178 non-null  float64\n",
            " 3   Male         20178 non-null  float64\n",
            " 4   Female       20178 non-null  float64\n",
            " 5   Total        20178 non-null  float64\n",
            " 6   County       20178 non-null  object \n",
            " 7   Province     20178 non-null  object \n",
            "dtypes: float64(4), object(4)\n",
            "memory usage: 1.4+ MB\n"
          ],
          "name": "stdout"
        }
      ]
    },
    {
      "cell_type": "code",
      "metadata": {
        "id": "BNegesaWNvQs",
        "colab": {
          "base_uri": "https://localhost:8080/"
        },
        "outputId": "40775a09-1629-4e5e-cf84-b82403aa7733"
      },
      "source": [
        "# Challenge 2\n",
        "# What was the average female population in Kenya?\n",
        "df['Female'].mean()\n"
      ],
      "execution_count": null,
      "outputs": [
        {
          "output_type": "execute_result",
          "data": {
            "text/plain": [
              "763.8725019669552"
            ]
          },
          "metadata": {
            "tags": []
          },
          "execution_count": 33
        }
      ]
    },
    {
      "cell_type": "code",
      "metadata": {
        "id": "7tilTerhNyiP",
        "colab": {
          "base_uri": "https://localhost:8080/"
        },
        "outputId": "4be26eb3-d962-4bb0-f1d1-ddae839672b2"
      },
      "source": [
        "# Challenge 3\n",
        "# What was the average male population in Kenya?\n",
        "#\n",
        "df['Male'].mean()"
      ],
      "execution_count": null,
      "outputs": [
        {
          "output_type": "execute_result",
          "data": {
            "text/plain": [
              "755.0140833988985"
            ]
          },
          "metadata": {
            "tags": []
          },
          "execution_count": 34
        }
      ]
    },
    {
      "cell_type": "code",
      "metadata": {
        "id": "OemJ0HDYOHCq",
        "colab": {
          "base_uri": "https://localhost:8080/"
        },
        "outputId": "acfab000-565b-452a-a219-5ab729276686"
      },
      "source": [
        "# Challenge 4\n",
        "# Which 5 districts were the most densely populated Kenya in descending order?\n",
        "#\n",
        "\n",
        "#d_pop = df['Total'].groupby(df['District'])\n",
        "#d_pop.sum().rank(ascending=0)\n",
        "\n",
        "d = df.groupby('District')['Total']\n",
        "d1 = d.sum()\n",
        "d1.sort_values(ascending=False).head(5)\n"
      ],
      "execution_count": null,
      "outputs": [
        {
          "output_type": "execute_result",
          "data": {
            "text/plain": [
              "District\n",
              "NAIROBI EAST     1141605\n",
              "NAIROBI NORTH    1057449\n",
              "NAIROBI WEST      682029\n",
              "SIAYA             542587\n",
              "MOLO              536814\n",
              "Name: Total, dtype: int64"
            ]
          },
          "metadata": {
            "tags": []
          },
          "execution_count": 15
        }
      ]
    },
    {
      "cell_type": "code",
      "metadata": {
        "id": "CIxC5arSOLak",
        "colab": {
          "base_uri": "https://localhost:8080/"
        },
        "outputId": "7978cc29-0a8c-4f51-f569-72cff09abfdf"
      },
      "source": [
        "# Challenge 5\n",
        "# Which 5 counties were the most densely populated Counties in descending order?\n",
        "# \n",
        "c = df.groupby('County')['Total']\n",
        "c1 = c.sum()\n",
        "c1.sort_values(ascending=False).head(5)"
      ],
      "execution_count": null,
      "outputs": [
        {
          "output_type": "execute_result",
          "data": {
            "text/plain": [
              "County\n",
              "Nairobi     3126275\n",
              "Kiambu      1655780\n",
              "Kakamega    1645413\n",
              "Nakuru      1589130\n",
              "Meru        1567945\n",
              "Name: Total, dtype: int64"
            ]
          },
          "metadata": {
            "tags": []
          },
          "execution_count": 101
        }
      ]
    },
    {
      "cell_type": "code",
      "metadata": {
        "id": "gSjjnw56OP8O",
        "colab": {
          "base_uri": "https://localhost:8080/"
        },
        "outputId": "1d467e75-eefc-496a-bb54-6cd402bb424e"
      },
      "source": [
        "# Challenge 6\n",
        "# Which 5 districts were the most sparsely populated in descending order?\n",
        "# \n",
        "\n",
        "\n",
        "d_l = df.groupby('District')['Total']\n",
        "d_l1 = d_l.sum()\n",
        "d_l1.sort_values(ascending=True).head(5)\n"
      ],
      "execution_count": null,
      "outputs": [
        {
          "output_type": "execute_result",
          "data": {
            "text/plain": [
              "District\n",
              "0                     0\n",
              "80                24800\n",
              "LAIKIPIA NORTH    32508\n",
              "GARBATULLA        42571\n",
              "MARSABIT          45827\n",
              "Name: Total, dtype: int64"
            ]
          },
          "metadata": {
            "tags": []
          },
          "execution_count": 19
        }
      ]
    },
    {
      "cell_type": "code",
      "metadata": {
        "id": "UZLYqF7UOTtu",
        "colab": {
          "base_uri": "https://localhost:8080/"
        },
        "outputId": "77ca4b80-efb3-4d8c-fcc3-fbdc38ed480a"
      },
      "source": [
        "# Challenge 7\n",
        "# What was the average population of the the most densely populated county in Kenya?\n",
        "# \n",
        "\n",
        "x = df.groupby('County')['Total']\n",
        "x1 = x.mean()\n",
        "x1 = x1.sort_values(ascending=False).head(1)\n",
        "x1"
      ],
      "execution_count": null,
      "outputs": [
        {
          "output_type": "execute_result",
          "data": {
            "text/plain": [
              "County\n",
              "Nairobi    9769.609375\n",
              "Name: Total, dtype: float64"
            ]
          },
          "metadata": {
            "tags": []
          },
          "execution_count": 42
        }
      ]
    },
    {
      "cell_type": "code",
      "metadata": {
        "id": "1qk8wF3MOXDu",
        "colab": {
          "base_uri": "https://localhost:8080/"
        },
        "outputId": "daf3f5fd-0f81-4caa-a8fd-67276218c013"
      },
      "source": [
        "# Challenge 8\n",
        "# What was the average population of the the most sparsely populated county in Kenya?\n",
        "# \n",
        "\n",
        "y = df.groupby('County')['Total']\n",
        "y1 = y.mean()\n",
        "y1 = y1.sort_values(ascending=True).head(1)\n",
        "y1"
      ],
      "execution_count": null,
      "outputs": [
        {
          "output_type": "execute_result",
          "data": {
            "text/plain": [
              "County\n",
              "0    0.0\n",
              "Name: Total, dtype: float64"
            ]
          },
          "metadata": {
            "tags": []
          },
          "execution_count": 43
        }
      ]
    },
    {
      "cell_type": "code",
      "metadata": {
        "id": "1V21Beok3Rdc",
        "colab": {
          "base_uri": "https://localhost:8080/"
        },
        "outputId": "c1bd9c87-22f9-48c9-e36c-12c31cd95d71"
      },
      "source": [
        "# Challenge 9\n",
        "# What was the total population of Busia County? \n",
        "# \n",
        "\n",
        "b = df.loc[df['County'] == 'Busia', 'Total'].sum()\n",
        "b\n"
      ],
      "execution_count": null,
      "outputs": [
        {
          "output_type": "execute_result",
          "data": {
            "text/plain": [
              "737249"
            ]
          },
          "metadata": {
            "tags": []
          },
          "execution_count": 38
        }
      ]
    },
    {
      "cell_type": "code",
      "metadata": {
        "id": "Vtq7pAI73RTZ",
        "colab": {
          "base_uri": "https://localhost:8080/"
        },
        "outputId": "879a8324-322d-40e6-d774-1aeb481cfea2"
      },
      "source": [
        "# Challenge 10\n",
        "# What was the average age of person in Busia County? How many people of this age were in Busia County?\n",
        "# \n",
        "\n",
        "ba = df[df['County'] == 'Busia']\n",
        "\n",
        "bage = ba['Age_years']\n",
        "bage = pd.to_numeric(bage)\n",
        "avB = (ba['Total']*bage).sum() / ba['Total'].sum()\n",
        "avB\n",
        "\n",
        "num = ba[ba['Age_years'] == '20']\n",
        "num['Total'].sum()\n",
        "#b['Age_years']\n",
        "#bage\n",
        "#a = df.loc[df['County'] == 'Busia', 'Age_years'].mean()\n",
        "#a\n"
      ],
      "execution_count": null,
      "outputs": [
        {
          "output_type": "execute_result",
          "data": {
            "text/plain": [
              "17217"
            ]
          },
          "metadata": {
            "tags": []
          },
          "execution_count": 100
        }
      ]
    },
    {
      "cell_type": "code",
      "metadata": {
        "id": "8xkStdjdXS3w",
        "colab": {
          "base_uri": "https://localhost:8080/"
        },
        "outputId": "58a2171c-187e-48bd-b8f0-35b6d2b314d6"
      },
      "source": [
        "# Challenge 11\n",
        "# What was the Total population of Teso South District?\n",
        "# \n",
        "Teso = df.loc[df['District'] == 'TESO SOUTH', 'Total' ].sum()\n",
        "Teso\n",
        "\n",
        "\n"
      ],
      "execution_count": null,
      "outputs": [
        {
          "output_type": "execute_result",
          "data": {
            "text/plain": [
              "136998"
            ]
          },
          "metadata": {
            "tags": []
          },
          "execution_count": 50
        }
      ]
    },
    {
      "cell_type": "code",
      "metadata": {
        "id": "rgVsXH_5XVCh",
        "colab": {
          "base_uri": "https://localhost:8080/"
        },
        "outputId": "e5631a2e-5c2a-4c17-a950-aed252ad18d5"
      },
      "source": [
        "# Challenge 12\n",
        "# What was the urban population of Teso South District?\n",
        "# df.loc[(df.District == 'Teso South' & df.Urban/Rural == 'Urban')].groupby(df['Age_years']).mean()\n",
        "\n",
        "Tso = df[df['District'] == 'TESO SOUTH']\n",
        "Tso[Tso['Urban/Rural'] == 'Urban']['Total'].sum()\n"
      ],
      "execution_count": null,
      "outputs": [
        {
          "output_type": "execute_result",
          "data": {
            "text/plain": [
              "26059"
            ]
          },
          "metadata": {
            "tags": []
          },
          "execution_count": 51
        }
      ]
    },
    {
      "cell_type": "code",
      "metadata": {
        "id": "XvvFWhuDXXeP",
        "colab": {
          "base_uri": "https://localhost:8080/"
        },
        "outputId": "a73e428b-3a09-4c3e-e511-a1b8e00919f1"
      },
      "source": [
        "# Challenge 13\n",
        "# What was the rural population of Teso South District?\n",
        "# \n",
        "Tsr = df[df['District'] == 'TESO SOUTH']\n",
        "Tsr[Tsr['Urban/Rural'] == 'Rural']['Total'].sum()"
      ],
      "execution_count": null,
      "outputs": [
        {
          "output_type": "execute_result",
          "data": {
            "text/plain": [
              "110939"
            ]
          },
          "metadata": {
            "tags": []
          },
          "execution_count": 52
        }
      ]
    },
    {
      "cell_type": "code",
      "metadata": {
        "colab": {
          "base_uri": "https://localhost:8080/",
          "height": 235
        },
        "id": "ogpzOKQ8I9N1",
        "outputId": "f01c69f5-6895-4692-be02-97840c71624b"
      },
      "source": [
        "df.head()"
      ],
      "execution_count": null,
      "outputs": [
        {
          "output_type": "execute_result",
          "data": {
            "text/html": [
              "<div>\n",
              "<style scoped>\n",
              "    .dataframe tbody tr th:only-of-type {\n",
              "        vertical-align: middle;\n",
              "    }\n",
              "\n",
              "    .dataframe tbody tr th {\n",
              "        vertical-align: top;\n",
              "    }\n",
              "\n",
              "    .dataframe thead th {\n",
              "        text-align: right;\n",
              "    }\n",
              "</style>\n",
              "<table border=\"1\" class=\"dataframe\">\n",
              "  <thead>\n",
              "    <tr style=\"text-align: right;\">\n",
              "      <th></th>\n",
              "      <th>District</th>\n",
              "      <th>Urban/Rural</th>\n",
              "      <th>Age_years</th>\n",
              "      <th>Male</th>\n",
              "      <th>Female</th>\n",
              "      <th>Total</th>\n",
              "      <th>County</th>\n",
              "      <th>Province</th>\n",
              "    </tr>\n",
              "    <tr>\n",
              "      <th>OBJECTID</th>\n",
              "      <th></th>\n",
              "      <th></th>\n",
              "      <th></th>\n",
              "      <th></th>\n",
              "      <th></th>\n",
              "      <th></th>\n",
              "      <th></th>\n",
              "      <th></th>\n",
              "    </tr>\n",
              "  </thead>\n",
              "  <tbody>\n",
              "    <tr>\n",
              "      <th>0.0</th>\n",
              "      <td>NAIROBI WEST</td>\n",
              "      <td>Urban</td>\n",
              "      <td>0</td>\n",
              "      <td>10126.0</td>\n",
              "      <td>10116.0</td>\n",
              "      <td>20242.0</td>\n",
              "      <td>Nairobi</td>\n",
              "      <td>NAIROBI</td>\n",
              "    </tr>\n",
              "    <tr>\n",
              "      <th>1.0</th>\n",
              "      <td>NAIROBI WEST</td>\n",
              "      <td>Urban</td>\n",
              "      <td>1</td>\n",
              "      <td>8124.0</td>\n",
              "      <td>7989.0</td>\n",
              "      <td>16113.0</td>\n",
              "      <td>Nairobi</td>\n",
              "      <td>NAIROBI</td>\n",
              "    </tr>\n",
              "    <tr>\n",
              "      <th>2.0</th>\n",
              "      <td>NAIROBI WEST</td>\n",
              "      <td>Urban</td>\n",
              "      <td>2</td>\n",
              "      <td>8462.0</td>\n",
              "      <td>8627.0</td>\n",
              "      <td>17089.0</td>\n",
              "      <td>Nairobi</td>\n",
              "      <td>NAIROBI</td>\n",
              "    </tr>\n",
              "    <tr>\n",
              "      <th>3.0</th>\n",
              "      <td>NAIROBI WEST</td>\n",
              "      <td>Urban</td>\n",
              "      <td>3</td>\n",
              "      <td>8334.0</td>\n",
              "      <td>8420.0</td>\n",
              "      <td>16754.0</td>\n",
              "      <td>Nairobi</td>\n",
              "      <td>NAIROBI</td>\n",
              "    </tr>\n",
              "    <tr>\n",
              "      <th>4.0</th>\n",
              "      <td>NAIROBI WEST</td>\n",
              "      <td>Urban</td>\n",
              "      <td>4</td>\n",
              "      <td>7948.0</td>\n",
              "      <td>7820.0</td>\n",
              "      <td>15768.0</td>\n",
              "      <td>Nairobi</td>\n",
              "      <td>NAIROBI</td>\n",
              "    </tr>\n",
              "  </tbody>\n",
              "</table>\n",
              "</div>"
            ],
            "text/plain": [
              "              District Urban/Rural Age_years  ...    Total   County  Province\n",
              "OBJECTID                                      ...                            \n",
              "0.0       NAIROBI WEST       Urban         0  ...  20242.0  Nairobi   NAIROBI\n",
              "1.0       NAIROBI WEST       Urban         1  ...  16113.0  Nairobi   NAIROBI\n",
              "2.0       NAIROBI WEST       Urban         2  ...  17089.0  Nairobi   NAIROBI\n",
              "3.0       NAIROBI WEST       Urban         3  ...  16754.0  Nairobi   NAIROBI\n",
              "4.0       NAIROBI WEST       Urban         4  ...  15768.0  Nairobi   NAIROBI\n",
              "\n",
              "[5 rows x 8 columns]"
            ]
          },
          "metadata": {
            "tags": []
          },
          "execution_count": 5
        }
      ]
    },
    {
      "cell_type": "code",
      "metadata": {
        "colab": {
          "base_uri": "https://localhost:8080/"
        },
        "id": "RddVtMpqJY3c",
        "outputId": "eb2d4255-4de3-4c41-9796-394ac0650172"
      },
      "source": [
        "df.info()"
      ],
      "execution_count": null,
      "outputs": [
        {
          "output_type": "stream",
          "text": [
            "<class 'pandas.core.frame.DataFrame'>\n",
            "Float64Index: 20179 entries, 0.0 to nan\n",
            "Data columns (total 8 columns):\n",
            " #   Column       Non-Null Count  Dtype  \n",
            "---  ------       --------------  -----  \n",
            " 0   District     20179 non-null  object \n",
            " 1   Urban/Rural  20178 non-null  object \n",
            " 2   Age_years    20178 non-null  object \n",
            " 3   Male         20178 non-null  float64\n",
            " 4   Female       20178 non-null  float64\n",
            " 5   Total        20178 non-null  float64\n",
            " 6   County       20178 non-null  object \n",
            " 7   Province     20178 non-null  object \n",
            "dtypes: float64(3), object(5)\n",
            "memory usage: 1.4+ MB\n"
          ],
          "name": "stdout"
        }
      ]
    },
    {
      "cell_type": "code",
      "metadata": {
        "id": "q1iq02FuXc2R",
        "colab": {
          "base_uri": "https://localhost:8080/"
        },
        "outputId": "7d9112a9-2ae8-4bf9-ca88-b957d6748c85"
      },
      "source": [
        "# Challenge 14\n",
        "# What was the population of people aged 60 and above in Kenya?\n",
        "#\n",
        "\n",
        "#pop = df[df['Age_years'] >= '60']\n",
        "#pop.sum()\n",
        "df.loc[df['Age_years'] >= 60, 'Total'].sum()\n",
        "#df['Age_years'].describe()\n",
        "\n"
      ],
      "execution_count": null,
      "outputs": [
        {
          "output_type": "execute_result",
          "data": {
            "text/plain": [
              "1123981.0"
            ]
          },
          "metadata": {
            "tags": []
          },
          "execution_count": 18
        }
      ]
    },
    {
      "cell_type": "code",
      "metadata": {
        "id": "drAWpxBZXhcF",
        "colab": {
          "base_uri": "https://localhost:8080/"
        },
        "outputId": "94f90ea1-8905-4630-f285-5664f706613a"
      },
      "source": [
        "# Challenge 15 \n",
        "# What was the urban population in Kenya?\n",
        "#\n",
        "df.loc[df['Urban/Rural'] == 'Urban', 'Total'].sum()"
      ],
      "execution_count": null,
      "outputs": [
        {
          "output_type": "execute_result",
          "data": {
            "text/plain": [
              "12401054"
            ]
          },
          "metadata": {
            "tags": []
          },
          "execution_count": 72
        }
      ]
    },
    {
      "cell_type": "code",
      "metadata": {
        "id": "-IZHHXkm_Ai4"
      },
      "source": [
        ""
      ],
      "execution_count": null,
      "outputs": []
    }
  ]
}
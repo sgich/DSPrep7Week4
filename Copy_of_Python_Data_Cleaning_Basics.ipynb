{
  "nbformat": 4,
  "nbformat_minor": 0,
  "metadata": {
    "colab": {
      "name": "Copy of Python Data Cleaning: Basics",
      "provenance": [],
      "collapsed_sections": [
        "sMVIZyM7NAWR",
        "-KXUxWLb3wKH",
        "2rizu8-L30Th",
        "cp-NTai_33x6",
        "QdrSkHEP35t5",
        "Zohn05Kl37a3"
      ],
      "toc_visible": true
    },
    "kernelspec": {
      "name": "python3",
      "display_name": "Python 3"
    }
  },
  "cells": [
    {
      "cell_type": "markdown",
      "metadata": {
        "id": "zERjtLoSL1js"
      },
      "source": [
        "<font color=\"green\">*To start working on this notebook, or any other notebook that we will use in the Moringa Data Science Course, we will need to save our own copy of it. We can do this by clicking File > Save a Copy in Drive. We will then be able to make edits to our own copy of this notebook.*</font>"
      ]
    },
    {
      "cell_type": "markdown",
      "metadata": {
        "id": "pZLONleTl2Ky"
      },
      "source": [
        "# Python Data Cleaning: Basics"
      ]
    },
    {
      "cell_type": "markdown",
      "metadata": {
        "id": "tMorzwEdMnhX"
      },
      "source": [
        "## Step 1: Finding and counting missing data\n",
        "\n",
        "\n",
        "\n"
      ]
    },
    {
      "cell_type": "markdown",
      "metadata": {
        "id": "zCgWU_ioNjBT"
      },
      "source": [
        "Having known how missing values in a dataset are created, we will now get introduced to how we can work with such a dataset. The first step that we will perform is to find the missing values and know how many they are. \n",
        "\n"
      ]
    },
    {
      "cell_type": "code",
      "metadata": {
        "id": "gpIzM0fdLA7b",
        "colab": {
          "base_uri": "https://localhost:8080/",
          "height": 442
        },
        "outputId": "25658340-f945-4912-dc9f-b1b2503e434a"
      },
      "source": [
        "# We will first import our dataset that we will use for the examples. We will do this by first\n",
        "# Importing our pandas library \n",
        "import pandas as pd\n",
        "\n",
        "\n",
        "# then storing the url location of our dataset to the variable url\n",
        "url = 'http://bit.ly/TitanicDataset1'\n",
        "\n",
        "# We will read the dataset from above url and store the dataframe in the variable df\n",
        "df = pd.read_csv(url)\n",
        "df.head()"
      ],
      "execution_count": null,
      "outputs": [
        {
          "output_type": "execute_result",
          "data": {
            "text/html": [
              "<div>\n",
              "<style scoped>\n",
              "    .dataframe tbody tr th:only-of-type {\n",
              "        vertical-align: middle;\n",
              "    }\n",
              "\n",
              "    .dataframe tbody tr th {\n",
              "        vertical-align: top;\n",
              "    }\n",
              "\n",
              "    .dataframe thead th {\n",
              "        text-align: right;\n",
              "    }\n",
              "</style>\n",
              "<table border=\"1\" class=\"dataframe\">\n",
              "  <thead>\n",
              "    <tr style=\"text-align: right;\">\n",
              "      <th></th>\n",
              "      <th>pclass</th>\n",
              "      <th>survived</th>\n",
              "      <th>name</th>\n",
              "      <th>sex</th>\n",
              "      <th>age</th>\n",
              "      <th>sibsp</th>\n",
              "      <th>parch</th>\n",
              "      <th>ticket</th>\n",
              "      <th>fare</th>\n",
              "      <th>cabin</th>\n",
              "      <th>embarked</th>\n",
              "      <th>boat</th>\n",
              "      <th>body</th>\n",
              "      <th>home.dest</th>\n",
              "    </tr>\n",
              "  </thead>\n",
              "  <tbody>\n",
              "    <tr>\n",
              "      <th>0</th>\n",
              "      <td>1.0</td>\n",
              "      <td>1.0</td>\n",
              "      <td>Allen, Miss. Elisabeth Walton</td>\n",
              "      <td>female</td>\n",
              "      <td>29.0000</td>\n",
              "      <td>0.0</td>\n",
              "      <td>0.0</td>\n",
              "      <td>24160</td>\n",
              "      <td>211.3375</td>\n",
              "      <td>B5</td>\n",
              "      <td>S</td>\n",
              "      <td>2</td>\n",
              "      <td>NaN</td>\n",
              "      <td>St Louis, MO</td>\n",
              "    </tr>\n",
              "    <tr>\n",
              "      <th>1</th>\n",
              "      <td>1.0</td>\n",
              "      <td>1.0</td>\n",
              "      <td>Allison, Master. Hudson Trevor</td>\n",
              "      <td>male</td>\n",
              "      <td>0.9167</td>\n",
              "      <td>1.0</td>\n",
              "      <td>2.0</td>\n",
              "      <td>113781</td>\n",
              "      <td>151.5500</td>\n",
              "      <td>C22 C26</td>\n",
              "      <td>S</td>\n",
              "      <td>11</td>\n",
              "      <td>NaN</td>\n",
              "      <td>Montreal, PQ / Chesterville, ON</td>\n",
              "    </tr>\n",
              "    <tr>\n",
              "      <th>2</th>\n",
              "      <td>1.0</td>\n",
              "      <td>0.0</td>\n",
              "      <td>Allison, Miss. Helen Loraine</td>\n",
              "      <td>female</td>\n",
              "      <td>2.0000</td>\n",
              "      <td>1.0</td>\n",
              "      <td>2.0</td>\n",
              "      <td>113781</td>\n",
              "      <td>151.5500</td>\n",
              "      <td>C22 C26</td>\n",
              "      <td>S</td>\n",
              "      <td>NaN</td>\n",
              "      <td>NaN</td>\n",
              "      <td>Montreal, PQ / Chesterville, ON</td>\n",
              "    </tr>\n",
              "    <tr>\n",
              "      <th>3</th>\n",
              "      <td>1.0</td>\n",
              "      <td>0.0</td>\n",
              "      <td>Allison, Mr. Hudson Joshua Creighton</td>\n",
              "      <td>male</td>\n",
              "      <td>30.0000</td>\n",
              "      <td>1.0</td>\n",
              "      <td>2.0</td>\n",
              "      <td>113781</td>\n",
              "      <td>151.5500</td>\n",
              "      <td>C22 C26</td>\n",
              "      <td>S</td>\n",
              "      <td>NaN</td>\n",
              "      <td>135.0</td>\n",
              "      <td>Montreal, PQ / Chesterville, ON</td>\n",
              "    </tr>\n",
              "    <tr>\n",
              "      <th>4</th>\n",
              "      <td>1.0</td>\n",
              "      <td>0.0</td>\n",
              "      <td>Allison, Mrs. Hudson J C (Bessie Waldo Daniels)</td>\n",
              "      <td>female</td>\n",
              "      <td>25.0000</td>\n",
              "      <td>1.0</td>\n",
              "      <td>2.0</td>\n",
              "      <td>113781</td>\n",
              "      <td>151.5500</td>\n",
              "      <td>C22 C26</td>\n",
              "      <td>S</td>\n",
              "      <td>NaN</td>\n",
              "      <td>NaN</td>\n",
              "      <td>Montreal, PQ / Chesterville, ON</td>\n",
              "    </tr>\n",
              "  </tbody>\n",
              "</table>\n",
              "</div>"
            ],
            "text/plain": [
              "   pclass  survived  ...   body                        home.dest\n",
              "0     1.0       1.0  ...    NaN                     St Louis, MO\n",
              "1     1.0       1.0  ...    NaN  Montreal, PQ / Chesterville, ON\n",
              "2     1.0       0.0  ...    NaN  Montreal, PQ / Chesterville, ON\n",
              "3     1.0       0.0  ...  135.0  Montreal, PQ / Chesterville, ON\n",
              "4     1.0       0.0  ...    NaN  Montreal, PQ / Chesterville, ON\n",
              "\n",
              "[5 rows x 14 columns]"
            ]
          },
          "metadata": {
            "tags": []
          },
          "execution_count": 3
        }
      ]
    },
    {
      "cell_type": "code",
      "metadata": {
        "id": "2z2oonHgg6gd",
        "colab": {
          "base_uri": "https://localhost:8080/",
          "height": 326
        },
        "outputId": "8be4c852-ae0a-4486-faf3-f2ba90693cdd"
      },
      "source": [
        "# Challenge 1\n",
        "# In parallel to this, we will also be working with another dataset too. We will use it for practice.\n",
        "\n",
        "# Let's first store our url location just like we did above\n",
        "gov_dataset = 'http://bit.ly/GovProjectFinanceDataset1'\n",
        "\n",
        "# Then read the dataset from url and store it in our variable of choice\n",
        "# \n",
        "dfg = pd.read_csv(gov_dataset)\n",
        "\n",
        "# And familiarize ourselves with the dataframe by viewing its first 5 rows\n",
        "# \n",
        "dfg.head(5)"
      ],
      "execution_count": null,
      "outputs": [
        {
          "output_type": "execute_result",
          "data": {
            "text/html": [
              "<div>\n",
              "<style scoped>\n",
              "    .dataframe tbody tr th:only-of-type {\n",
              "        vertical-align: middle;\n",
              "    }\n",
              "\n",
              "    .dataframe tbody tr th {\n",
              "        vertical-align: top;\n",
              "    }\n",
              "\n",
              "    .dataframe thead th {\n",
              "        text-align: right;\n",
              "    }\n",
              "</style>\n",
              "<table border=\"1\" class=\"dataframe\">\n",
              "  <thead>\n",
              "    <tr style=\"text-align: right;\">\n",
              "      <th></th>\n",
              "      <th>Implementing_Agency</th>\n",
              "      <th>Total_-_GOK_Budget_Est_KES</th>\n",
              "      <th>Total_-_Loan_Budget_Est_KES</th>\n",
              "      <th>Total_-_Grant_Budget_Est_KES</th>\n",
              "      <th>Total_Budget_Supported__by_Donors_KES</th>\n",
              "      <th>Total_2013/2014_Budget_KES</th>\n",
              "      <th>OBJECTID</th>\n",
              "    </tr>\n",
              "  </thead>\n",
              "  <tbody>\n",
              "    <tr>\n",
              "      <th>0</th>\n",
              "      <td>NaN</td>\n",
              "      <td>0.000000e+00</td>\n",
              "      <td>0</td>\n",
              "      <td>3524395000</td>\n",
              "      <td>3524395000</td>\n",
              "      <td>3524395000</td>\n",
              "      <td>0</td>\n",
              "    </tr>\n",
              "    <tr>\n",
              "      <th>1</th>\n",
              "      <td>MOEW&amp;NR  National Environment Management Auth...</td>\n",
              "      <td>0.000000e+00</td>\n",
              "      <td>0</td>\n",
              "      <td>300000000</td>\n",
              "      <td>300000000</td>\n",
              "      <td>300000000</td>\n",
              "      <td>1</td>\n",
              "    </tr>\n",
              "    <tr>\n",
              "      <th>2</th>\n",
              "      <td>Ministry of Agriculture, Livestock and Fisheries</td>\n",
              "      <td>2.306364e+09</td>\n",
              "      <td>23354779585</td>\n",
              "      <td>8732081258</td>\n",
              "      <td>32086860843</td>\n",
              "      <td>34393225231</td>\n",
              "      <td>2</td>\n",
              "    </tr>\n",
              "    <tr>\n",
              "      <th>3</th>\n",
              "      <td>The Presidency</td>\n",
              "      <td>NaN</td>\n",
              "      <td>0</td>\n",
              "      <td>0</td>\n",
              "      <td>0</td>\n",
              "      <td>0</td>\n",
              "      <td>3</td>\n",
              "    </tr>\n",
              "    <tr>\n",
              "      <th>4</th>\n",
              "      <td>MOAL&amp;F  Kenya  Plant Health Inspectorate Serv...</td>\n",
              "      <td>0.000000e+00</td>\n",
              "      <td>0</td>\n",
              "      <td>66916163</td>\n",
              "      <td>66916163</td>\n",
              "      <td>66916163</td>\n",
              "      <td>4</td>\n",
              "    </tr>\n",
              "  </tbody>\n",
              "</table>\n",
              "</div>"
            ],
            "text/plain": [
              "                                 Implementing_Agency  ...  OBJECTID\n",
              "0                                                NaN  ...         0\n",
              "1   MOEW&NR  National Environment Management Auth...  ...         1\n",
              "2   Ministry of Agriculture, Livestock and Fisheries  ...         2\n",
              "3                                     The Presidency  ...         3\n",
              "4   MOAL&F  Kenya  Plant Health Inspectorate Serv...  ...         4\n",
              "\n",
              "[5 rows x 7 columns]"
            ]
          },
          "metadata": {
            "tags": []
          },
          "execution_count": 4
        }
      ]
    },
    {
      "cell_type": "code",
      "metadata": {
        "id": "nHVATaZXNOO9",
        "colab": {
          "base_uri": "https://localhost:8080/"
        },
        "outputId": "c56fcf85-f36e-4104-cbc6-3f4e1091817c"
      },
      "source": [
        "# We count the number of non - missing values in the df dataframe\n",
        "#\n",
        "df.count()"
      ],
      "execution_count": null,
      "outputs": [
        {
          "output_type": "execute_result",
          "data": {
            "text/plain": [
              "pclass       1309\n",
              "survived     1309\n",
              "name         1309\n",
              "sex          1309\n",
              "age          1046\n",
              "sibsp        1309\n",
              "parch        1309\n",
              "ticket       1309\n",
              "fare         1308\n",
              "cabin         295\n",
              "embarked     1307\n",
              "boat          486\n",
              "body          121\n",
              "home.dest     745\n",
              "dtype: int64"
            ]
          },
          "metadata": {
            "tags": []
          },
          "execution_count": 5
        }
      ]
    },
    {
      "cell_type": "code",
      "metadata": {
        "id": "RMfbpsNXhSkb",
        "colab": {
          "base_uri": "https://localhost:8080/"
        },
        "outputId": "f8784a4b-b8c2-4c91-97fc-1c8478fee71f"
      },
      "source": [
        "# Challenge 2: Government Project Dataset\n",
        "# We also count the number of non - missing values in the our government project dataset\n",
        "# \n",
        "dfg.count()"
      ],
      "execution_count": null,
      "outputs": [
        {
          "output_type": "execute_result",
          "data": {
            "text/plain": [
              "Implementing_Agency                      39\n",
              "Total_-_GOK_Budget_Est_KES               39\n",
              "Total_-_Loan_Budget_Est_KES              40\n",
              "Total_-_Grant_Budget_Est_KES             40\n",
              "Total_Budget_Supported__by_Donors_KES    40\n",
              "Total_2013/2014_Budget_KES               40\n",
              "OBJECTID                                 40\n",
              "dtype: int64"
            ]
          },
          "metadata": {
            "tags": []
          },
          "execution_count": 6
        }
      ]
    },
    {
      "cell_type": "code",
      "metadata": {
        "id": "wsXs2IHFNnNa",
        "colab": {
          "base_uri": "https://localhost:8080/"
        },
        "outputId": "76dabbeb-56e3-49e6-91c3-b03911eb9251"
      },
      "source": [
        "# A longer method can be to subtract the no. of non-missing rows from the total number \n",
        "# of rows in the dataframe in order to determine the no. of missing values as shown\n",
        "# \n",
        "num_rows = df.shape[0]\n",
        "num_rows\n",
        "num_missing = num_rows - df.count() \n",
        "num_missing"
      ],
      "execution_count": null,
      "outputs": [
        {
          "output_type": "execute_result",
          "data": {
            "text/plain": [
              "pclass          1\n",
              "survived        1\n",
              "name            1\n",
              "sex             1\n",
              "age           264\n",
              "sibsp           1\n",
              "parch           1\n",
              "ticket          1\n",
              "fare            2\n",
              "cabin        1015\n",
              "embarked        3\n",
              "boat          824\n",
              "body         1189\n",
              "home.dest     565\n",
              "dtype: int64"
            ]
          },
          "metadata": {
            "tags": []
          },
          "execution_count": 8
        }
      ]
    },
    {
      "cell_type": "code",
      "metadata": {
        "id": "9TLCUeubhiAF",
        "colab": {
          "base_uri": "https://localhost:8080/"
        },
        "outputId": "76364836-c7bb-4946-a9c5-999a8f7881df"
      },
      "source": [
        "# Challenge 3: Government Project Dataset\n",
        "# We now also subtract the no. of non-missing rows from the total number of rows \n",
        "# to determine the no. of missing values in our government project dataset\n",
        "#\n",
        "\n",
        "nm_rows = dfg.shape[0]\n",
        "nm_rows\n",
        "nm_missing = nm_rows - dfg.count() \n",
        "nm_missing"
      ],
      "execution_count": null,
      "outputs": [
        {
          "output_type": "execute_result",
          "data": {
            "text/plain": [
              "Implementing_Agency                      1\n",
              "Total_-_GOK_Budget_Est_KES               1\n",
              "Total_-_Loan_Budget_Est_KES              0\n",
              "Total_-_Grant_Budget_Est_KES             0\n",
              "Total_Budget_Supported__by_Donors_KES    0\n",
              "Total_2013/2014_Budget_KES               0\n",
              "OBJECTID                                 0\n",
              "dtype: int64"
            ]
          },
          "metadata": {
            "tags": []
          },
          "execution_count": 11
        }
      ]
    },
    {
      "cell_type": "code",
      "metadata": {
        "id": "XbjpjZs2ONOU",
        "colab": {
          "base_uri": "https://localhost:8080/"
        },
        "outputId": "4296f974-e492-4a5c-dca1-4f8ce2db48e6"
      },
      "source": [
        "# Another method would also be to count the number of missing values in our dataframe,  \n",
        "# using the count_nonzero function from numpy - and including the isnull() method.\n",
        "\n",
        "# But before we do that, we would need import numpy,\n",
        "# \n",
        "import numpy as np\n",
        "\n",
        "# Then count those missing values in our dataframe\n",
        "#\n",
        "np.count_nonzero(df.isnull())"
      ],
      "execution_count": null,
      "outputs": [
        {
          "output_type": "execute_result",
          "data": {
            "text/plain": [
              "3869"
            ]
          },
          "metadata": {
            "tags": []
          },
          "execution_count": 12
        }
      ]
    },
    {
      "cell_type": "code",
      "metadata": {
        "id": "xVsRCHychzr2",
        "colab": {
          "base_uri": "https://localhost:8080/"
        },
        "outputId": "66f1a7de-3059-4452-9e6d-acf525893186"
      },
      "source": [
        "# Challenge 4: Government Project Dataset\n",
        "# Let's just do what we did in our previous cell. We found out the number of missing values \n",
        "# in our dataset using the count_nonzero function from numpy \n",
        "#\n",
        "\n",
        "np.count_nonzero(dfg.isnull())"
      ],
      "execution_count": null,
      "outputs": [
        {
          "output_type": "execute_result",
          "data": {
            "text/plain": [
              "2"
            ]
          },
          "metadata": {
            "tags": []
          },
          "execution_count": 13
        }
      ]
    },
    {
      "cell_type": "code",
      "metadata": {
        "id": "mN8PrJR0Oqry",
        "colab": {
          "base_uri": "https://localhost:8080/"
        },
        "outputId": "13a52702-21a7-4e36-ada0-2352949d4ae5"
      },
      "source": [
        "# We could also count the number of missing values for a particular column by specifying \n",
        "# the column by still using the count_nonzero function from numpy \n",
        "# \n",
        "np.count_nonzero(df['body'].isnull())"
      ],
      "execution_count": null,
      "outputs": [
        {
          "output_type": "execute_result",
          "data": {
            "text/plain": [
              "1189"
            ]
          },
          "metadata": {
            "tags": []
          },
          "execution_count": 14
        }
      ]
    },
    {
      "cell_type": "code",
      "metadata": {
        "id": "5gKt_D3KiTfB",
        "colab": {
          "base_uri": "https://localhost:8080/"
        },
        "outputId": "41614c5f-ff77-4371-c748-c369e7b69e7f"
      },
      "source": [
        "# Challenge 5: Government Project Dataset\n",
        "# And again specify how many non-missing values we have in the column: Total_-_GOK_Budget_Est_KES\t\n",
        "#\n",
        "\n",
        "np.count_nonzero(dfg['Total_-_GOK_Budget_Est_KES'].isnull())"
      ],
      "execution_count": null,
      "outputs": [
        {
          "output_type": "execute_result",
          "data": {
            "text/plain": [
              "1"
            ]
          },
          "metadata": {
            "tags": []
          },
          "execution_count": 15
        }
      ]
    },
    {
      "cell_type": "markdown",
      "metadata": {
        "id": "sMVIZyM7NAWR"
      },
      "source": [
        "## Step 2: Clean Missing Data"
      ]
    },
    {
      "cell_type": "markdown",
      "metadata": {
        "id": "bf4VF5tiPKfK"
      },
      "source": [
        "Now that we have been able to identify our missing values in our datasets, we can deal with them in the following ways."
      ]
    },
    {
      "cell_type": "markdown",
      "metadata": {
        "id": "-KXUxWLb3wKH"
      },
      "source": [
        "### a) We can recode/replace these values\n",
        "Here, we can do this by using the fillna method and recoding/replacing the missing values with another value or other values. In this example, we will recode the missing values to 0."
      ]
    },
    {
      "cell_type": "code",
      "metadata": {
        "id": "aY13KkxRPQdB",
        "colab": {
          "base_uri": "https://localhost:8080/",
          "height": 442
        },
        "outputId": "58831078-3ce8-4552-bf60-b966468194b5"
      },
      "source": [
        "# We can recode missing values with 0 by doing the following. \n",
        "# Do note that this will appear as 0.0 in your dataframe.\n",
        "# \n",
        "df_recode = df.fillna(0)\n",
        "\n",
        "# then preview the first 5 rows for the recoded dataframe\n",
        "#\n",
        "df_recode.head()"
      ],
      "execution_count": null,
      "outputs": [
        {
          "output_type": "execute_result",
          "data": {
            "text/html": [
              "<div>\n",
              "<style scoped>\n",
              "    .dataframe tbody tr th:only-of-type {\n",
              "        vertical-align: middle;\n",
              "    }\n",
              "\n",
              "    .dataframe tbody tr th {\n",
              "        vertical-align: top;\n",
              "    }\n",
              "\n",
              "    .dataframe thead th {\n",
              "        text-align: right;\n",
              "    }\n",
              "</style>\n",
              "<table border=\"1\" class=\"dataframe\">\n",
              "  <thead>\n",
              "    <tr style=\"text-align: right;\">\n",
              "      <th></th>\n",
              "      <th>pclass</th>\n",
              "      <th>survived</th>\n",
              "      <th>name</th>\n",
              "      <th>sex</th>\n",
              "      <th>age</th>\n",
              "      <th>sibsp</th>\n",
              "      <th>parch</th>\n",
              "      <th>ticket</th>\n",
              "      <th>fare</th>\n",
              "      <th>cabin</th>\n",
              "      <th>embarked</th>\n",
              "      <th>boat</th>\n",
              "      <th>body</th>\n",
              "      <th>home.dest</th>\n",
              "    </tr>\n",
              "  </thead>\n",
              "  <tbody>\n",
              "    <tr>\n",
              "      <th>0</th>\n",
              "      <td>1.0</td>\n",
              "      <td>1.0</td>\n",
              "      <td>Allen, Miss. Elisabeth Walton</td>\n",
              "      <td>female</td>\n",
              "      <td>29.0000</td>\n",
              "      <td>0.0</td>\n",
              "      <td>0.0</td>\n",
              "      <td>24160</td>\n",
              "      <td>211.3375</td>\n",
              "      <td>B5</td>\n",
              "      <td>S</td>\n",
              "      <td>2</td>\n",
              "      <td>0.0</td>\n",
              "      <td>St Louis, MO</td>\n",
              "    </tr>\n",
              "    <tr>\n",
              "      <th>1</th>\n",
              "      <td>1.0</td>\n",
              "      <td>1.0</td>\n",
              "      <td>Allison, Master. Hudson Trevor</td>\n",
              "      <td>male</td>\n",
              "      <td>0.9167</td>\n",
              "      <td>1.0</td>\n",
              "      <td>2.0</td>\n",
              "      <td>113781</td>\n",
              "      <td>151.5500</td>\n",
              "      <td>C22 C26</td>\n",
              "      <td>S</td>\n",
              "      <td>11</td>\n",
              "      <td>0.0</td>\n",
              "      <td>Montreal, PQ / Chesterville, ON</td>\n",
              "    </tr>\n",
              "    <tr>\n",
              "      <th>2</th>\n",
              "      <td>1.0</td>\n",
              "      <td>0.0</td>\n",
              "      <td>Allison, Miss. Helen Loraine</td>\n",
              "      <td>female</td>\n",
              "      <td>2.0000</td>\n",
              "      <td>1.0</td>\n",
              "      <td>2.0</td>\n",
              "      <td>113781</td>\n",
              "      <td>151.5500</td>\n",
              "      <td>C22 C26</td>\n",
              "      <td>S</td>\n",
              "      <td>0</td>\n",
              "      <td>0.0</td>\n",
              "      <td>Montreal, PQ / Chesterville, ON</td>\n",
              "    </tr>\n",
              "    <tr>\n",
              "      <th>3</th>\n",
              "      <td>1.0</td>\n",
              "      <td>0.0</td>\n",
              "      <td>Allison, Mr. Hudson Joshua Creighton</td>\n",
              "      <td>male</td>\n",
              "      <td>30.0000</td>\n",
              "      <td>1.0</td>\n",
              "      <td>2.0</td>\n",
              "      <td>113781</td>\n",
              "      <td>151.5500</td>\n",
              "      <td>C22 C26</td>\n",
              "      <td>S</td>\n",
              "      <td>0</td>\n",
              "      <td>135.0</td>\n",
              "      <td>Montreal, PQ / Chesterville, ON</td>\n",
              "    </tr>\n",
              "    <tr>\n",
              "      <th>4</th>\n",
              "      <td>1.0</td>\n",
              "      <td>0.0</td>\n",
              "      <td>Allison, Mrs. Hudson J C (Bessie Waldo Daniels)</td>\n",
              "      <td>female</td>\n",
              "      <td>25.0000</td>\n",
              "      <td>1.0</td>\n",
              "      <td>2.0</td>\n",
              "      <td>113781</td>\n",
              "      <td>151.5500</td>\n",
              "      <td>C22 C26</td>\n",
              "      <td>S</td>\n",
              "      <td>0</td>\n",
              "      <td>0.0</td>\n",
              "      <td>Montreal, PQ / Chesterville, ON</td>\n",
              "    </tr>\n",
              "  </tbody>\n",
              "</table>\n",
              "</div>"
            ],
            "text/plain": [
              "   pclass  survived  ...   body                        home.dest\n",
              "0     1.0       1.0  ...    0.0                     St Louis, MO\n",
              "1     1.0       1.0  ...    0.0  Montreal, PQ / Chesterville, ON\n",
              "2     1.0       0.0  ...    0.0  Montreal, PQ / Chesterville, ON\n",
              "3     1.0       0.0  ...  135.0  Montreal, PQ / Chesterville, ON\n",
              "4     1.0       0.0  ...    0.0  Montreal, PQ / Chesterville, ON\n",
              "\n",
              "[5 rows x 14 columns]"
            ]
          },
          "metadata": {
            "tags": []
          },
          "execution_count": 17
        }
      ]
    },
    {
      "cell_type": "code",
      "metadata": {
        "id": "B-N_zB18QrHx",
        "colab": {
          "base_uri": "https://localhost:8080/"
        },
        "outputId": "0dad1ec2-3802-449a-c7ee-377e45a9617c"
      },
      "source": [
        "# After recoding, let's check for non-missing values in the recoded dataframe\n",
        "#\n",
        "\n",
        "np.count_nonzero(df_recode.isnull())"
      ],
      "execution_count": null,
      "outputs": [
        {
          "output_type": "execute_result",
          "data": {
            "text/plain": [
              "0"
            ]
          },
          "metadata": {
            "tags": []
          },
          "execution_count": 18
        }
      ]
    },
    {
      "cell_type": "code",
      "metadata": {
        "id": "bGyp0dbhi1b-",
        "colab": {
          "base_uri": "https://localhost:8080/"
        },
        "outputId": "02b29bb1-35af-4cd0-b89c-030f9da73e46"
      },
      "source": [
        "# Challenge 6: Government Project Dataset\n",
        "# Nice! Let's now replace the missing values in our dataset with 0 again \n",
        "# just as in our previous example\n",
        "# \n",
        "\n",
        "dfg_recode = dfg.fillna(0)\n",
        "dfg_recode.head()\n",
        "np.count_nonzero(dfg_recode.isnull())"
      ],
      "execution_count": null,
      "outputs": [
        {
          "output_type": "execute_result",
          "data": {
            "text/plain": [
              "0"
            ]
          },
          "metadata": {
            "tags": []
          },
          "execution_count": 23
        }
      ]
    },
    {
      "cell_type": "markdown",
      "metadata": {
        "id": "QaPXaERdleI1"
      },
      "source": [
        "**Challenge 7:** Together with your peer now discuss the cases where you might use the above recoding technique."
      ]
    },
    {
      "cell_type": "markdown",
      "metadata": {
        "id": "2rizu8-L30Th"
      },
      "source": [
        "### b) We can fill forward missing values"
      ]
    },
    {
      "cell_type": "markdown",
      "metadata": {
        "id": "tHxr0SwnSXOX"
      },
      "source": [
        "When data is filled data forward, the last known value is used for the next missing value. The missing values are replaced with the last known/recorded value. Let's see how that works."
      ]
    },
    {
      "cell_type": "code",
      "metadata": {
        "id": "rkY5ZdmzTLeV",
        "colab": {
          "base_uri": "https://localhost:8080/",
          "height": 442
        },
        "outputId": "6d496f09-db9e-454e-fbb4-9a6c8eec6392"
      },
      "source": [
        "# First lets preview out df ,and note the missing data in the boat and body columns\n",
        "#\n",
        "df.head()"
      ],
      "execution_count": null,
      "outputs": [
        {
          "output_type": "execute_result",
          "data": {
            "text/html": [
              "<div>\n",
              "<style scoped>\n",
              "    .dataframe tbody tr th:only-of-type {\n",
              "        vertical-align: middle;\n",
              "    }\n",
              "\n",
              "    .dataframe tbody tr th {\n",
              "        vertical-align: top;\n",
              "    }\n",
              "\n",
              "    .dataframe thead th {\n",
              "        text-align: right;\n",
              "    }\n",
              "</style>\n",
              "<table border=\"1\" class=\"dataframe\">\n",
              "  <thead>\n",
              "    <tr style=\"text-align: right;\">\n",
              "      <th></th>\n",
              "      <th>pclass</th>\n",
              "      <th>survived</th>\n",
              "      <th>name</th>\n",
              "      <th>sex</th>\n",
              "      <th>age</th>\n",
              "      <th>sibsp</th>\n",
              "      <th>parch</th>\n",
              "      <th>ticket</th>\n",
              "      <th>fare</th>\n",
              "      <th>cabin</th>\n",
              "      <th>embarked</th>\n",
              "      <th>boat</th>\n",
              "      <th>body</th>\n",
              "      <th>home.dest</th>\n",
              "    </tr>\n",
              "  </thead>\n",
              "  <tbody>\n",
              "    <tr>\n",
              "      <th>0</th>\n",
              "      <td>1.0</td>\n",
              "      <td>1.0</td>\n",
              "      <td>Allen, Miss. Elisabeth Walton</td>\n",
              "      <td>female</td>\n",
              "      <td>29.0000</td>\n",
              "      <td>0.0</td>\n",
              "      <td>0.0</td>\n",
              "      <td>24160</td>\n",
              "      <td>211.3375</td>\n",
              "      <td>B5</td>\n",
              "      <td>S</td>\n",
              "      <td>2</td>\n",
              "      <td>NaN</td>\n",
              "      <td>St Louis, MO</td>\n",
              "    </tr>\n",
              "    <tr>\n",
              "      <th>1</th>\n",
              "      <td>1.0</td>\n",
              "      <td>1.0</td>\n",
              "      <td>Allison, Master. Hudson Trevor</td>\n",
              "      <td>male</td>\n",
              "      <td>0.9167</td>\n",
              "      <td>1.0</td>\n",
              "      <td>2.0</td>\n",
              "      <td>113781</td>\n",
              "      <td>151.5500</td>\n",
              "      <td>C22 C26</td>\n",
              "      <td>S</td>\n",
              "      <td>11</td>\n",
              "      <td>NaN</td>\n",
              "      <td>Montreal, PQ / Chesterville, ON</td>\n",
              "    </tr>\n",
              "    <tr>\n",
              "      <th>2</th>\n",
              "      <td>1.0</td>\n",
              "      <td>0.0</td>\n",
              "      <td>Allison, Miss. Helen Loraine</td>\n",
              "      <td>female</td>\n",
              "      <td>2.0000</td>\n",
              "      <td>1.0</td>\n",
              "      <td>2.0</td>\n",
              "      <td>113781</td>\n",
              "      <td>151.5500</td>\n",
              "      <td>C22 C26</td>\n",
              "      <td>S</td>\n",
              "      <td>NaN</td>\n",
              "      <td>NaN</td>\n",
              "      <td>Montreal, PQ / Chesterville, ON</td>\n",
              "    </tr>\n",
              "    <tr>\n",
              "      <th>3</th>\n",
              "      <td>1.0</td>\n",
              "      <td>0.0</td>\n",
              "      <td>Allison, Mr. Hudson Joshua Creighton</td>\n",
              "      <td>male</td>\n",
              "      <td>30.0000</td>\n",
              "      <td>1.0</td>\n",
              "      <td>2.0</td>\n",
              "      <td>113781</td>\n",
              "      <td>151.5500</td>\n",
              "      <td>C22 C26</td>\n",
              "      <td>S</td>\n",
              "      <td>NaN</td>\n",
              "      <td>135.0</td>\n",
              "      <td>Montreal, PQ / Chesterville, ON</td>\n",
              "    </tr>\n",
              "    <tr>\n",
              "      <th>4</th>\n",
              "      <td>1.0</td>\n",
              "      <td>0.0</td>\n",
              "      <td>Allison, Mrs. Hudson J C (Bessie Waldo Daniels)</td>\n",
              "      <td>female</td>\n",
              "      <td>25.0000</td>\n",
              "      <td>1.0</td>\n",
              "      <td>2.0</td>\n",
              "      <td>113781</td>\n",
              "      <td>151.5500</td>\n",
              "      <td>C22 C26</td>\n",
              "      <td>S</td>\n",
              "      <td>NaN</td>\n",
              "      <td>NaN</td>\n",
              "      <td>Montreal, PQ / Chesterville, ON</td>\n",
              "    </tr>\n",
              "  </tbody>\n",
              "</table>\n",
              "</div>"
            ],
            "text/plain": [
              "   pclass  survived  ...   body                        home.dest\n",
              "0     1.0       1.0  ...    NaN                     St Louis, MO\n",
              "1     1.0       1.0  ...    NaN  Montreal, PQ / Chesterville, ON\n",
              "2     1.0       0.0  ...    NaN  Montreal, PQ / Chesterville, ON\n",
              "3     1.0       0.0  ...  135.0  Montreal, PQ / Chesterville, ON\n",
              "4     1.0       0.0  ...    NaN  Montreal, PQ / Chesterville, ON\n",
              "\n",
              "[5 rows x 14 columns]"
            ]
          },
          "metadata": {
            "tags": []
          },
          "execution_count": 24
        }
      ]
    },
    {
      "cell_type": "code",
      "metadata": {
        "id": "MFpvJFFeSLwc",
        "colab": {
          "base_uri": "https://localhost:8080/",
          "height": 442
        },
        "outputId": "5e6c6612-be4e-42a1-dbdf-2088b5851d3e"
      },
      "source": [
        "# And now let's fill forward\n",
        "#\n",
        "df_fill_forward = df.fillna(method='ffill')\n",
        "\n",
        "# Then preview our dataframe and try to understand it\n",
        "#\n",
        "df_fill_forward.head()\n",
        "\n",
        "# Did you notice what happens when the column begins with a missing value? \n",
        "# Discuss this with your peer"
      ],
      "execution_count": null,
      "outputs": [
        {
          "output_type": "execute_result",
          "data": {
            "text/html": [
              "<div>\n",
              "<style scoped>\n",
              "    .dataframe tbody tr th:only-of-type {\n",
              "        vertical-align: middle;\n",
              "    }\n",
              "\n",
              "    .dataframe tbody tr th {\n",
              "        vertical-align: top;\n",
              "    }\n",
              "\n",
              "    .dataframe thead th {\n",
              "        text-align: right;\n",
              "    }\n",
              "</style>\n",
              "<table border=\"1\" class=\"dataframe\">\n",
              "  <thead>\n",
              "    <tr style=\"text-align: right;\">\n",
              "      <th></th>\n",
              "      <th>pclass</th>\n",
              "      <th>survived</th>\n",
              "      <th>name</th>\n",
              "      <th>sex</th>\n",
              "      <th>age</th>\n",
              "      <th>sibsp</th>\n",
              "      <th>parch</th>\n",
              "      <th>ticket</th>\n",
              "      <th>fare</th>\n",
              "      <th>cabin</th>\n",
              "      <th>embarked</th>\n",
              "      <th>boat</th>\n",
              "      <th>body</th>\n",
              "      <th>home.dest</th>\n",
              "    </tr>\n",
              "  </thead>\n",
              "  <tbody>\n",
              "    <tr>\n",
              "      <th>0</th>\n",
              "      <td>1.0</td>\n",
              "      <td>1.0</td>\n",
              "      <td>Allen, Miss. Elisabeth Walton</td>\n",
              "      <td>female</td>\n",
              "      <td>29.0000</td>\n",
              "      <td>0.0</td>\n",
              "      <td>0.0</td>\n",
              "      <td>24160</td>\n",
              "      <td>211.3375</td>\n",
              "      <td>B5</td>\n",
              "      <td>S</td>\n",
              "      <td>2</td>\n",
              "      <td>NaN</td>\n",
              "      <td>St Louis, MO</td>\n",
              "    </tr>\n",
              "    <tr>\n",
              "      <th>1</th>\n",
              "      <td>1.0</td>\n",
              "      <td>1.0</td>\n",
              "      <td>Allison, Master. Hudson Trevor</td>\n",
              "      <td>male</td>\n",
              "      <td>0.9167</td>\n",
              "      <td>1.0</td>\n",
              "      <td>2.0</td>\n",
              "      <td>113781</td>\n",
              "      <td>151.5500</td>\n",
              "      <td>C22 C26</td>\n",
              "      <td>S</td>\n",
              "      <td>11</td>\n",
              "      <td>NaN</td>\n",
              "      <td>Montreal, PQ / Chesterville, ON</td>\n",
              "    </tr>\n",
              "    <tr>\n",
              "      <th>2</th>\n",
              "      <td>1.0</td>\n",
              "      <td>0.0</td>\n",
              "      <td>Allison, Miss. Helen Loraine</td>\n",
              "      <td>female</td>\n",
              "      <td>2.0000</td>\n",
              "      <td>1.0</td>\n",
              "      <td>2.0</td>\n",
              "      <td>113781</td>\n",
              "      <td>151.5500</td>\n",
              "      <td>C22 C26</td>\n",
              "      <td>S</td>\n",
              "      <td>11</td>\n",
              "      <td>NaN</td>\n",
              "      <td>Montreal, PQ / Chesterville, ON</td>\n",
              "    </tr>\n",
              "    <tr>\n",
              "      <th>3</th>\n",
              "      <td>1.0</td>\n",
              "      <td>0.0</td>\n",
              "      <td>Allison, Mr. Hudson Joshua Creighton</td>\n",
              "      <td>male</td>\n",
              "      <td>30.0000</td>\n",
              "      <td>1.0</td>\n",
              "      <td>2.0</td>\n",
              "      <td>113781</td>\n",
              "      <td>151.5500</td>\n",
              "      <td>C22 C26</td>\n",
              "      <td>S</td>\n",
              "      <td>11</td>\n",
              "      <td>135.0</td>\n",
              "      <td>Montreal, PQ / Chesterville, ON</td>\n",
              "    </tr>\n",
              "    <tr>\n",
              "      <th>4</th>\n",
              "      <td>1.0</td>\n",
              "      <td>0.0</td>\n",
              "      <td>Allison, Mrs. Hudson J C (Bessie Waldo Daniels)</td>\n",
              "      <td>female</td>\n",
              "      <td>25.0000</td>\n",
              "      <td>1.0</td>\n",
              "      <td>2.0</td>\n",
              "      <td>113781</td>\n",
              "      <td>151.5500</td>\n",
              "      <td>C22 C26</td>\n",
              "      <td>S</td>\n",
              "      <td>11</td>\n",
              "      <td>135.0</td>\n",
              "      <td>Montreal, PQ / Chesterville, ON</td>\n",
              "    </tr>\n",
              "  </tbody>\n",
              "</table>\n",
              "</div>"
            ],
            "text/plain": [
              "   pclass  survived  ...   body                        home.dest\n",
              "0     1.0       1.0  ...    NaN                     St Louis, MO\n",
              "1     1.0       1.0  ...    NaN  Montreal, PQ / Chesterville, ON\n",
              "2     1.0       0.0  ...    NaN  Montreal, PQ / Chesterville, ON\n",
              "3     1.0       0.0  ...  135.0  Montreal, PQ / Chesterville, ON\n",
              "4     1.0       0.0  ...  135.0  Montreal, PQ / Chesterville, ON\n",
              "\n",
              "[5 rows x 14 columns]"
            ]
          },
          "metadata": {
            "tags": []
          },
          "execution_count": 26
        }
      ]
    },
    {
      "cell_type": "code",
      "metadata": {
        "id": "KTFGrhLPjHTK",
        "colab": {
          "base_uri": "https://localhost:8080/",
          "height": 326
        },
        "outputId": "14b5aceb-3afc-4f67-b031-ecc50e144f95"
      },
      "source": [
        "# Challenge 8: Government Project Dataset\n",
        "# Onto our other dataset, let's now fill forward the missing values and see what happens\n",
        "# \n",
        "dfg.head()\n",
        "dfg_fill = dfg.fillna(method='ffill')\n",
        "dfg_fill.head()\n"
      ],
      "execution_count": null,
      "outputs": [
        {
          "output_type": "execute_result",
          "data": {
            "text/html": [
              "<div>\n",
              "<style scoped>\n",
              "    .dataframe tbody tr th:only-of-type {\n",
              "        vertical-align: middle;\n",
              "    }\n",
              "\n",
              "    .dataframe tbody tr th {\n",
              "        vertical-align: top;\n",
              "    }\n",
              "\n",
              "    .dataframe thead th {\n",
              "        text-align: right;\n",
              "    }\n",
              "</style>\n",
              "<table border=\"1\" class=\"dataframe\">\n",
              "  <thead>\n",
              "    <tr style=\"text-align: right;\">\n",
              "      <th></th>\n",
              "      <th>Implementing_Agency</th>\n",
              "      <th>Total_-_GOK_Budget_Est_KES</th>\n",
              "      <th>Total_-_Loan_Budget_Est_KES</th>\n",
              "      <th>Total_-_Grant_Budget_Est_KES</th>\n",
              "      <th>Total_Budget_Supported__by_Donors_KES</th>\n",
              "      <th>Total_2013/2014_Budget_KES</th>\n",
              "      <th>OBJECTID</th>\n",
              "    </tr>\n",
              "  </thead>\n",
              "  <tbody>\n",
              "    <tr>\n",
              "      <th>0</th>\n",
              "      <td>NaN</td>\n",
              "      <td>0.000000e+00</td>\n",
              "      <td>0</td>\n",
              "      <td>3524395000</td>\n",
              "      <td>3524395000</td>\n",
              "      <td>3524395000</td>\n",
              "      <td>0</td>\n",
              "    </tr>\n",
              "    <tr>\n",
              "      <th>1</th>\n",
              "      <td>MOEW&amp;NR  National Environment Management Auth...</td>\n",
              "      <td>0.000000e+00</td>\n",
              "      <td>0</td>\n",
              "      <td>300000000</td>\n",
              "      <td>300000000</td>\n",
              "      <td>300000000</td>\n",
              "      <td>1</td>\n",
              "    </tr>\n",
              "    <tr>\n",
              "      <th>2</th>\n",
              "      <td>Ministry of Agriculture, Livestock and Fisheries</td>\n",
              "      <td>2.306364e+09</td>\n",
              "      <td>23354779585</td>\n",
              "      <td>8732081258</td>\n",
              "      <td>32086860843</td>\n",
              "      <td>34393225231</td>\n",
              "      <td>2</td>\n",
              "    </tr>\n",
              "    <tr>\n",
              "      <th>3</th>\n",
              "      <td>The Presidency</td>\n",
              "      <td>2.306364e+09</td>\n",
              "      <td>0</td>\n",
              "      <td>0</td>\n",
              "      <td>0</td>\n",
              "      <td>0</td>\n",
              "      <td>3</td>\n",
              "    </tr>\n",
              "    <tr>\n",
              "      <th>4</th>\n",
              "      <td>MOAL&amp;F  Kenya  Plant Health Inspectorate Serv...</td>\n",
              "      <td>0.000000e+00</td>\n",
              "      <td>0</td>\n",
              "      <td>66916163</td>\n",
              "      <td>66916163</td>\n",
              "      <td>66916163</td>\n",
              "      <td>4</td>\n",
              "    </tr>\n",
              "  </tbody>\n",
              "</table>\n",
              "</div>"
            ],
            "text/plain": [
              "                                 Implementing_Agency  ...  OBJECTID\n",
              "0                                                NaN  ...         0\n",
              "1   MOEW&NR  National Environment Management Auth...  ...         1\n",
              "2   Ministry of Agriculture, Livestock and Fisheries  ...         2\n",
              "3                                     The Presidency  ...         3\n",
              "4   MOAL&F  Kenya  Plant Health Inspectorate Serv...  ...         4\n",
              "\n",
              "[5 rows x 7 columns]"
            ]
          },
          "metadata": {
            "tags": []
          },
          "execution_count": 28
        }
      ]
    },
    {
      "cell_type": "markdown",
      "metadata": {
        "id": "QhKnRkirk-13"
      },
      "source": [
        "**Challenge 9: **Together with your peer discuss the cases where you might use the above fill forward technique."
      ]
    },
    {
      "cell_type": "markdown",
      "metadata": {
        "id": "cp-NTai_33x6"
      },
      "source": [
        "### c) We can fill backward missing values"
      ]
    },
    {
      "cell_type": "markdown",
      "metadata": {
        "id": "9tCj_qF0UdK2"
      },
      "source": [
        "We can also do the opposite, and fill data backward our missing values. When doing this, the newest value replaces the missing data."
      ]
    },
    {
      "cell_type": "code",
      "metadata": {
        "id": "emdfItSJViLy",
        "colab": {
          "base_uri": "https://localhost:8080/"
        },
        "outputId": "d60bfa3c-3ac3-486e-b876-a0d4bd99fad5"
      },
      "source": [
        "# Again first lets preview df (last 10 items), and note the missing data in the boat and body columns\n",
        "#\n",
        "print(df.tail(10))"
      ],
      "execution_count": null,
      "outputs": [
        {
          "output_type": "stream",
          "text": [
            "      pclass  survived  ...   body home.dest\n",
            "1300     3.0       1.0  ...    NaN       NaN\n",
            "1301     3.0       0.0  ...  312.0       NaN\n",
            "1302     3.0       0.0  ...    NaN       NaN\n",
            "1303     3.0       0.0  ...    NaN       NaN\n",
            "1304     3.0       0.0  ...  328.0       NaN\n",
            "1305     3.0       0.0  ...    NaN       NaN\n",
            "1306     3.0       0.0  ...  304.0       NaN\n",
            "1307     3.0       0.0  ...    NaN       NaN\n",
            "1308     3.0       0.0  ...    NaN       NaN\n",
            "1309     NaN       NaN  ...    NaN       NaN\n",
            "\n",
            "[10 rows x 14 columns]\n"
          ],
          "name": "stdout"
        }
      ]
    },
    {
      "cell_type": "code",
      "metadata": {
        "id": "t3lUQSTPUtna",
        "colab": {
          "base_uri": "https://localhost:8080/"
        },
        "outputId": "712e03fb-e15d-45be-d57f-3b3ec9418acb"
      },
      "source": [
        "# And now fill backward\n",
        "#\n",
        "df_fill_backward = df.fillna(method='bfill')\n",
        "\n",
        "# Then preview our dataframe (last 10 items) and try to understand what took place\n",
        "#\n",
        "print(df_fill_backward.tail(10))\n",
        "\n",
        "# After this, we will discuss what happens when a column ends with a missing value."
      ],
      "execution_count": null,
      "outputs": [
        {
          "output_type": "stream",
          "text": [
            "      pclass  survived  ...   body home.dest\n",
            "1300     3.0       1.0  ...  312.0       NaN\n",
            "1301     3.0       0.0  ...  312.0       NaN\n",
            "1302     3.0       0.0  ...  328.0       NaN\n",
            "1303     3.0       0.0  ...  328.0       NaN\n",
            "1304     3.0       0.0  ...  328.0       NaN\n",
            "1305     3.0       0.0  ...  304.0       NaN\n",
            "1306     3.0       0.0  ...  304.0       NaN\n",
            "1307     3.0       0.0  ...    NaN       NaN\n",
            "1308     3.0       0.0  ...    NaN       NaN\n",
            "1309     NaN       NaN  ...    NaN       NaN\n",
            "\n",
            "[10 rows x 14 columns]\n"
          ],
          "name": "stdout"
        }
      ]
    },
    {
      "cell_type": "code",
      "metadata": {
        "id": "jf_uQkE-jUZB",
        "colab": {
          "base_uri": "https://localhost:8080/",
          "height": 360
        },
        "outputId": "d20719c5-c9b1-458d-a43d-8290d13fe679"
      },
      "source": [
        "# Challenge 10: Government Project Dataset\n",
        "# Back to our government dataset. We now fill backward the missing values \n",
        "# and try to understand the changes that took place\n",
        "# \n",
        "dfg.tail()\n",
        "dfg_back = dfg.fillna(method= 'bfill')\n",
        "dfg_back.tail()"
      ],
      "execution_count": null,
      "outputs": [
        {
          "output_type": "execute_result",
          "data": {
            "text/html": [
              "<div>\n",
              "<style scoped>\n",
              "    .dataframe tbody tr th:only-of-type {\n",
              "        vertical-align: middle;\n",
              "    }\n",
              "\n",
              "    .dataframe tbody tr th {\n",
              "        vertical-align: top;\n",
              "    }\n",
              "\n",
              "    .dataframe thead th {\n",
              "        text-align: right;\n",
              "    }\n",
              "</style>\n",
              "<table border=\"1\" class=\"dataframe\">\n",
              "  <thead>\n",
              "    <tr style=\"text-align: right;\">\n",
              "      <th></th>\n",
              "      <th>Implementing_Agency</th>\n",
              "      <th>Total_-_GOK_Budget_Est_KES</th>\n",
              "      <th>Total_-_Loan_Budget_Est_KES</th>\n",
              "      <th>Total_-_Grant_Budget_Est_KES</th>\n",
              "      <th>Total_Budget_Supported__by_Donors_KES</th>\n",
              "      <th>Total_2013/2014_Budget_KES</th>\n",
              "      <th>OBJECTID</th>\n",
              "    </tr>\n",
              "  </thead>\n",
              "  <tbody>\n",
              "    <tr>\n",
              "      <th>35</th>\n",
              "      <td>MOE&amp;P  Kenya Electricity Generating Company L...</td>\n",
              "      <td>2.000000e+09</td>\n",
              "      <td>0</td>\n",
              "      <td>0</td>\n",
              "      <td>0</td>\n",
              "      <td>2000000000</td>\n",
              "      <td>35</td>\n",
              "    </tr>\n",
              "    <tr>\n",
              "      <th>36</th>\n",
              "      <td>State Department for Education</td>\n",
              "      <td>4.193250e+06</td>\n",
              "      <td>0</td>\n",
              "      <td>0</td>\n",
              "      <td>0</td>\n",
              "      <td>4193250</td>\n",
              "      <td>36</td>\n",
              "    </tr>\n",
              "    <tr>\n",
              "      <th>37</th>\n",
              "      <td>Ministry of Energy &amp; Petroleum</td>\n",
              "      <td>6.191316e+08</td>\n",
              "      <td>129100000000</td>\n",
              "      <td>6521099528</td>\n",
              "      <td>135621000000</td>\n",
              "      <td>136240000000</td>\n",
              "      <td>37</td>\n",
              "    </tr>\n",
              "    <tr>\n",
              "      <th>38</th>\n",
              "      <td>MOES&amp;T  Karatina University College</td>\n",
              "      <td>8.000000e+07</td>\n",
              "      <td>0</td>\n",
              "      <td>0</td>\n",
              "      <td>0</td>\n",
              "      <td>80000000</td>\n",
              "      <td>38</td>\n",
              "    </tr>\n",
              "    <tr>\n",
              "      <th>39</th>\n",
              "      <td>MOR  Kenya Rural Roads Authority (KERA)</td>\n",
              "      <td>1.315244e+09</td>\n",
              "      <td>0</td>\n",
              "      <td>0</td>\n",
              "      <td>0</td>\n",
              "      <td>1315243883</td>\n",
              "      <td>39</td>\n",
              "    </tr>\n",
              "  </tbody>\n",
              "</table>\n",
              "</div>"
            ],
            "text/plain": [
              "                                  Implementing_Agency  ...  OBJECTID\n",
              "35   MOE&P  Kenya Electricity Generating Company L...  ...        35\n",
              "36                     State Department for Education  ...        36\n",
              "37                     Ministry of Energy & Petroleum  ...        37\n",
              "38                MOES&T  Karatina University College  ...        38\n",
              "39            MOR  Kenya Rural Roads Authority (KERA)  ...        39\n",
              "\n",
              "[5 rows x 7 columns]"
            ]
          },
          "metadata": {
            "tags": []
          },
          "execution_count": 34
        }
      ]
    },
    {
      "cell_type": "markdown",
      "metadata": {
        "id": "_PIG0u78lKe-"
      },
      "source": [
        "**Challenge 11: ** Together with your peer discuss the cases where you might use the above fill backward technique."
      ]
    },
    {
      "cell_type": "markdown",
      "metadata": {
        "id": "QdrSkHEP35t5"
      },
      "source": [
        "\n",
        "### d) We can interpolate missing values"
      ]
    },
    {
      "cell_type": "markdown",
      "metadata": {
        "id": "pVDrZtZSXewN"
      },
      "source": [
        "Interpolation uses other values to fill in the missing values. It does this by treating missing values as if they should be equally spaced apart. This function fills in the missing values linearly as shown in the example below."
      ]
    },
    {
      "cell_type": "code",
      "metadata": {
        "id": "J4TIJ5OxYKdj",
        "colab": {
          "base_uri": "https://localhost:8080/",
          "height": 359
        },
        "outputId": "78a65f93-d42f-49d7-a65c-aaf21717e566"
      },
      "source": [
        "# Once again first lets print out df, and note the missing data in the boat and body columns\n",
        "# NB: iloc gets rows (or columns) at particular positions in the index\n",
        "#\n",
        "df.head(10)\n",
        "df.iloc[0:10, 11:13].head(10)"
      ],
      "execution_count": null,
      "outputs": [
        {
          "output_type": "execute_result",
          "data": {
            "text/html": [
              "<div>\n",
              "<style scoped>\n",
              "    .dataframe tbody tr th:only-of-type {\n",
              "        vertical-align: middle;\n",
              "    }\n",
              "\n",
              "    .dataframe tbody tr th {\n",
              "        vertical-align: top;\n",
              "    }\n",
              "\n",
              "    .dataframe thead th {\n",
              "        text-align: right;\n",
              "    }\n",
              "</style>\n",
              "<table border=\"1\" class=\"dataframe\">\n",
              "  <thead>\n",
              "    <tr style=\"text-align: right;\">\n",
              "      <th></th>\n",
              "      <th>boat</th>\n",
              "      <th>body</th>\n",
              "    </tr>\n",
              "  </thead>\n",
              "  <tbody>\n",
              "    <tr>\n",
              "      <th>0</th>\n",
              "      <td>2</td>\n",
              "      <td>NaN</td>\n",
              "    </tr>\n",
              "    <tr>\n",
              "      <th>1</th>\n",
              "      <td>11</td>\n",
              "      <td>NaN</td>\n",
              "    </tr>\n",
              "    <tr>\n",
              "      <th>2</th>\n",
              "      <td>NaN</td>\n",
              "      <td>NaN</td>\n",
              "    </tr>\n",
              "    <tr>\n",
              "      <th>3</th>\n",
              "      <td>NaN</td>\n",
              "      <td>135.0</td>\n",
              "    </tr>\n",
              "    <tr>\n",
              "      <th>4</th>\n",
              "      <td>NaN</td>\n",
              "      <td>NaN</td>\n",
              "    </tr>\n",
              "    <tr>\n",
              "      <th>5</th>\n",
              "      <td>3</td>\n",
              "      <td>NaN</td>\n",
              "    </tr>\n",
              "    <tr>\n",
              "      <th>6</th>\n",
              "      <td>10</td>\n",
              "      <td>NaN</td>\n",
              "    </tr>\n",
              "    <tr>\n",
              "      <th>7</th>\n",
              "      <td>NaN</td>\n",
              "      <td>NaN</td>\n",
              "    </tr>\n",
              "    <tr>\n",
              "      <th>8</th>\n",
              "      <td>D</td>\n",
              "      <td>NaN</td>\n",
              "    </tr>\n",
              "    <tr>\n",
              "      <th>9</th>\n",
              "      <td>NaN</td>\n",
              "      <td>22.0</td>\n",
              "    </tr>\n",
              "  </tbody>\n",
              "</table>\n",
              "</div>"
            ],
            "text/plain": [
              "  boat   body\n",
              "0    2    NaN\n",
              "1   11    NaN\n",
              "2  NaN    NaN\n",
              "3  NaN  135.0\n",
              "4  NaN    NaN\n",
              "5    3    NaN\n",
              "6   10    NaN\n",
              "7  NaN    NaN\n",
              "8    D    NaN\n",
              "9  NaN   22.0"
            ]
          },
          "metadata": {
            "tags": []
          },
          "execution_count": 39
        }
      ]
    },
    {
      "cell_type": "code",
      "metadata": {
        "id": "g7Fti2xIXq1a",
        "colab": {
          "base_uri": "https://localhost:8080/",
          "height": 359
        },
        "outputId": "2a08ca5d-212f-4470-af9d-582fe216e394"
      },
      "source": [
        "# Then perform our intepolation\n",
        "#\n",
        "df_interpolate = df.interpolate().iloc[0:10, 11:13];\n",
        "df_interpolate.head(10)"
      ],
      "execution_count": null,
      "outputs": [
        {
          "output_type": "execute_result",
          "data": {
            "text/html": [
              "<div>\n",
              "<style scoped>\n",
              "    .dataframe tbody tr th:only-of-type {\n",
              "        vertical-align: middle;\n",
              "    }\n",
              "\n",
              "    .dataframe tbody tr th {\n",
              "        vertical-align: top;\n",
              "    }\n",
              "\n",
              "    .dataframe thead th {\n",
              "        text-align: right;\n",
              "    }\n",
              "</style>\n",
              "<table border=\"1\" class=\"dataframe\">\n",
              "  <thead>\n",
              "    <tr style=\"text-align: right;\">\n",
              "      <th></th>\n",
              "      <th>boat</th>\n",
              "      <th>body</th>\n",
              "    </tr>\n",
              "  </thead>\n",
              "  <tbody>\n",
              "    <tr>\n",
              "      <th>0</th>\n",
              "      <td>2</td>\n",
              "      <td>NaN</td>\n",
              "    </tr>\n",
              "    <tr>\n",
              "      <th>1</th>\n",
              "      <td>11</td>\n",
              "      <td>NaN</td>\n",
              "    </tr>\n",
              "    <tr>\n",
              "      <th>2</th>\n",
              "      <td>NaN</td>\n",
              "      <td>NaN</td>\n",
              "    </tr>\n",
              "    <tr>\n",
              "      <th>3</th>\n",
              "      <td>NaN</td>\n",
              "      <td>135.000000</td>\n",
              "    </tr>\n",
              "    <tr>\n",
              "      <th>4</th>\n",
              "      <td>NaN</td>\n",
              "      <td>116.166667</td>\n",
              "    </tr>\n",
              "    <tr>\n",
              "      <th>5</th>\n",
              "      <td>3</td>\n",
              "      <td>97.333333</td>\n",
              "    </tr>\n",
              "    <tr>\n",
              "      <th>6</th>\n",
              "      <td>10</td>\n",
              "      <td>78.500000</td>\n",
              "    </tr>\n",
              "    <tr>\n",
              "      <th>7</th>\n",
              "      <td>NaN</td>\n",
              "      <td>59.666667</td>\n",
              "    </tr>\n",
              "    <tr>\n",
              "      <th>8</th>\n",
              "      <td>D</td>\n",
              "      <td>40.833333</td>\n",
              "    </tr>\n",
              "    <tr>\n",
              "      <th>9</th>\n",
              "      <td>NaN</td>\n",
              "      <td>22.000000</td>\n",
              "    </tr>\n",
              "  </tbody>\n",
              "</table>\n",
              "</div>"
            ],
            "text/plain": [
              "  boat        body\n",
              "0    2         NaN\n",
              "1   11         NaN\n",
              "2  NaN         NaN\n",
              "3  NaN  135.000000\n",
              "4  NaN  116.166667\n",
              "5    3   97.333333\n",
              "6   10   78.500000\n",
              "7  NaN   59.666667\n",
              "8    D   40.833333\n",
              "9  NaN   22.000000"
            ]
          },
          "metadata": {
            "tags": []
          },
          "execution_count": 40
        }
      ]
    },
    {
      "cell_type": "code",
      "metadata": {
        "id": "8fESIpX-kRfF",
        "colab": {
          "base_uri": "https://localhost:8080/",
          "height": 328
        },
        "outputId": "7be206f3-36f4-428a-ead1-e8d1474cdc65"
      },
      "source": [
        "# Challenge 12: Government Project Dataset\n",
        "# Intepolate the missing values in our dataset, noting the changes\n",
        "#\n",
        "dfg.head(10)\n",
        "dfg.iloc[0:9, 1:2]"
      ],
      "execution_count": null,
      "outputs": [
        {
          "output_type": "execute_result",
          "data": {
            "text/html": [
              "<div>\n",
              "<style scoped>\n",
              "    .dataframe tbody tr th:only-of-type {\n",
              "        vertical-align: middle;\n",
              "    }\n",
              "\n",
              "    .dataframe tbody tr th {\n",
              "        vertical-align: top;\n",
              "    }\n",
              "\n",
              "    .dataframe thead th {\n",
              "        text-align: right;\n",
              "    }\n",
              "</style>\n",
              "<table border=\"1\" class=\"dataframe\">\n",
              "  <thead>\n",
              "    <tr style=\"text-align: right;\">\n",
              "      <th></th>\n",
              "      <th>Total_-_GOK_Budget_Est_KES</th>\n",
              "    </tr>\n",
              "  </thead>\n",
              "  <tbody>\n",
              "    <tr>\n",
              "      <th>0</th>\n",
              "      <td>0.000000e+00</td>\n",
              "    </tr>\n",
              "    <tr>\n",
              "      <th>1</th>\n",
              "      <td>0.000000e+00</td>\n",
              "    </tr>\n",
              "    <tr>\n",
              "      <th>2</th>\n",
              "      <td>2.306364e+09</td>\n",
              "    </tr>\n",
              "    <tr>\n",
              "      <th>3</th>\n",
              "      <td>NaN</td>\n",
              "    </tr>\n",
              "    <tr>\n",
              "      <th>4</th>\n",
              "      <td>0.000000e+00</td>\n",
              "    </tr>\n",
              "    <tr>\n",
              "      <th>5</th>\n",
              "      <td>0.000000e+00</td>\n",
              "    </tr>\n",
              "    <tr>\n",
              "      <th>6</th>\n",
              "      <td>6.560292e+09</td>\n",
              "    </tr>\n",
              "    <tr>\n",
              "      <th>7</th>\n",
              "      <td>0.000000e+00</td>\n",
              "    </tr>\n",
              "    <tr>\n",
              "      <th>8</th>\n",
              "      <td>0.000000e+00</td>\n",
              "    </tr>\n",
              "  </tbody>\n",
              "</table>\n",
              "</div>"
            ],
            "text/plain": [
              "   Total_-_GOK_Budget_Est_KES\n",
              "0                0.000000e+00\n",
              "1                0.000000e+00\n",
              "2                2.306364e+09\n",
              "3                         NaN\n",
              "4                0.000000e+00\n",
              "5                0.000000e+00\n",
              "6                6.560292e+09\n",
              "7                0.000000e+00\n",
              "8                0.000000e+00"
            ]
          },
          "metadata": {
            "tags": []
          },
          "execution_count": 42
        }
      ]
    },
    {
      "cell_type": "code",
      "metadata": {
        "colab": {
          "base_uri": "https://localhost:8080/",
          "height": 328
        },
        "id": "M5iIYJ6mIeSd",
        "outputId": "a4cf5bed-f8ad-437d-adc2-377629964988"
      },
      "source": [
        "dfg_interp = dfg.interpolate().iloc[0:9, 1:2]\n",
        "dfg_interp"
      ],
      "execution_count": null,
      "outputs": [
        {
          "output_type": "execute_result",
          "data": {
            "text/html": [
              "<div>\n",
              "<style scoped>\n",
              "    .dataframe tbody tr th:only-of-type {\n",
              "        vertical-align: middle;\n",
              "    }\n",
              "\n",
              "    .dataframe tbody tr th {\n",
              "        vertical-align: top;\n",
              "    }\n",
              "\n",
              "    .dataframe thead th {\n",
              "        text-align: right;\n",
              "    }\n",
              "</style>\n",
              "<table border=\"1\" class=\"dataframe\">\n",
              "  <thead>\n",
              "    <tr style=\"text-align: right;\">\n",
              "      <th></th>\n",
              "      <th>Total_-_GOK_Budget_Est_KES</th>\n",
              "    </tr>\n",
              "  </thead>\n",
              "  <tbody>\n",
              "    <tr>\n",
              "      <th>0</th>\n",
              "      <td>0.000000e+00</td>\n",
              "    </tr>\n",
              "    <tr>\n",
              "      <th>1</th>\n",
              "      <td>0.000000e+00</td>\n",
              "    </tr>\n",
              "    <tr>\n",
              "      <th>2</th>\n",
              "      <td>2.306364e+09</td>\n",
              "    </tr>\n",
              "    <tr>\n",
              "      <th>3</th>\n",
              "      <td>1.153182e+09</td>\n",
              "    </tr>\n",
              "    <tr>\n",
              "      <th>4</th>\n",
              "      <td>0.000000e+00</td>\n",
              "    </tr>\n",
              "    <tr>\n",
              "      <th>5</th>\n",
              "      <td>0.000000e+00</td>\n",
              "    </tr>\n",
              "    <tr>\n",
              "      <th>6</th>\n",
              "      <td>6.560292e+09</td>\n",
              "    </tr>\n",
              "    <tr>\n",
              "      <th>7</th>\n",
              "      <td>0.000000e+00</td>\n",
              "    </tr>\n",
              "    <tr>\n",
              "      <th>8</th>\n",
              "      <td>0.000000e+00</td>\n",
              "    </tr>\n",
              "  </tbody>\n",
              "</table>\n",
              "</div>"
            ],
            "text/plain": [
              "   Total_-_GOK_Budget_Est_KES\n",
              "0                0.000000e+00\n",
              "1                0.000000e+00\n",
              "2                2.306364e+09\n",
              "3                1.153182e+09\n",
              "4                0.000000e+00\n",
              "5                0.000000e+00\n",
              "6                6.560292e+09\n",
              "7                0.000000e+00\n",
              "8                0.000000e+00"
            ]
          },
          "metadata": {
            "tags": []
          },
          "execution_count": 43
        }
      ]
    },
    {
      "cell_type": "markdown",
      "metadata": {
        "id": "7g7vkwiwlPNE"
      },
      "source": [
        "**Challenge 13: **Together with your peer discuss the cases where you might use the above interpolate technique."
      ]
    },
    {
      "cell_type": "markdown",
      "metadata": {
        "id": "Zohn05Kl37a3"
      },
      "source": [
        "### e) We can drop/delete missing values"
      ]
    },
    {
      "cell_type": "markdown",
      "metadata": {
        "id": "kiRRtN2NZxHm"
      },
      "source": [
        "The other way to work with missing data is to drop/delete the records with the missing data. This is a judgement that you have to make based on your research. Sometimes keeping the entire dataset together with the missing values, can leave you with a useless dataset. On the other hand, the missing data many not be random and dropping those missing values would leave you with a biased dataset or deleting the missing dataset might leave you with insufficient data for analysis. All of this we will learn more indepth during the course of the program. \n",
        "\n",
        "For now lets see how we can drop missing values from a dataset."
      ]
    },
    {
      "cell_type": "code",
      "metadata": {
        "id": "HvKBpbSVZq3X",
        "colab": {
          "base_uri": "https://localhost:8080/"
        },
        "outputId": "bbaf7e20-0985-44b5-fc43-928d2ed26b87"
      },
      "source": [
        "# Let's find out the size of our dataset\n",
        "# \n",
        "df.shape"
      ],
      "execution_count": null,
      "outputs": [
        {
          "output_type": "execute_result",
          "data": {
            "text/plain": [
              "(1310, 14)"
            ]
          },
          "metadata": {
            "tags": []
          },
          "execution_count": 48
        }
      ]
    },
    {
      "cell_type": "code",
      "metadata": {
        "id": "TzPYCUtddJJn",
        "colab": {
          "base_uri": "https://localhost:8080/"
        },
        "outputId": "50a6bff9-233d-4526-cb1d-51380bf87eb2"
      },
      "source": [
        "# If we were to keep our complete rows; meaning we drop any record with a missing value, then\n",
        "#\n",
        "df_dropped = df.dropna()\n",
        "\n",
        "# We are left with no rows of data\n",
        "#\n",
        "df_dropped.shape"
      ],
      "execution_count": null,
      "outputs": [
        {
          "output_type": "execute_result",
          "data": {
            "text/plain": [
              "(0, 14)"
            ]
          },
          "metadata": {
            "tags": []
          },
          "execution_count": 49
        }
      ]
    },
    {
      "cell_type": "code",
      "metadata": {
        "id": "AOZ80EPSdzGI",
        "colab": {
          "base_uri": "https://localhost:8080/",
          "height": 49
        },
        "outputId": "30a4db94-e9fb-42cd-e0bc-cc47efcd28f0"
      },
      "source": [
        "# Printing out df_dropped\n",
        "df_dropped"
      ],
      "execution_count": null,
      "outputs": [
        {
          "output_type": "execute_result",
          "data": {
            "text/html": [
              "<div>\n",
              "<style scoped>\n",
              "    .dataframe tbody tr th:only-of-type {\n",
              "        vertical-align: middle;\n",
              "    }\n",
              "\n",
              "    .dataframe tbody tr th {\n",
              "        vertical-align: top;\n",
              "    }\n",
              "\n",
              "    .dataframe thead th {\n",
              "        text-align: right;\n",
              "    }\n",
              "</style>\n",
              "<table border=\"1\" class=\"dataframe\">\n",
              "  <thead>\n",
              "    <tr style=\"text-align: right;\">\n",
              "      <th></th>\n",
              "      <th>pclass</th>\n",
              "      <th>survived</th>\n",
              "      <th>name</th>\n",
              "      <th>sex</th>\n",
              "      <th>age</th>\n",
              "      <th>sibsp</th>\n",
              "      <th>parch</th>\n",
              "      <th>ticket</th>\n",
              "      <th>fare</th>\n",
              "      <th>cabin</th>\n",
              "      <th>embarked</th>\n",
              "      <th>boat</th>\n",
              "      <th>body</th>\n",
              "      <th>home.dest</th>\n",
              "    </tr>\n",
              "  </thead>\n",
              "  <tbody>\n",
              "  </tbody>\n",
              "</table>\n",
              "</div>"
            ],
            "text/plain": [
              "Empty DataFrame\n",
              "Columns: [pclass, survived, name, sex, age, sibsp, parch, ticket, fare, cabin, embarked, boat, body, home.dest]\n",
              "Index: []"
            ]
          },
          "metadata": {
            "tags": []
          },
          "execution_count": 50
        }
      ]
    },
    {
      "cell_type": "code",
      "metadata": {
        "id": "zAazAAGHgFkP",
        "colab": {
          "base_uri": "https://localhost:8080/"
        },
        "outputId": "3cd145b1-c90d-41ae-c713-c54f840faced"
      },
      "source": [
        "# Challenge 14: Financial Allocation Dataset\n",
        "# Let's now drop the records that have missing values\n",
        "# url = http://bit.ly/MSFinancialDataset\n",
        "#\n",
        "dfg.shape"
      ],
      "execution_count": null,
      "outputs": [
        {
          "output_type": "execute_result",
          "data": {
            "text/plain": [
              "(40, 7)"
            ]
          },
          "metadata": {
            "tags": []
          },
          "execution_count": 51
        }
      ]
    },
    {
      "cell_type": "code",
      "metadata": {
        "colab": {
          "base_uri": "https://localhost:8080/"
        },
        "id": "G927lF0GJbSi",
        "outputId": "53eff664-6a86-4225-95e8-94facfe33aec"
      },
      "source": [
        "dfg_drop = dfg.dropna()\n",
        "dfg_drop.shape"
      ],
      "execution_count": null,
      "outputs": [
        {
          "output_type": "execute_result",
          "data": {
            "text/plain": [
              "(38, 7)"
            ]
          },
          "metadata": {
            "tags": []
          },
          "execution_count": 52
        }
      ]
    },
    {
      "cell_type": "markdown",
      "metadata": {
        "id": "h5AGA9relVMf"
      },
      "source": [
        "Challenge 15: Together with your peer discuss the cases where you might use the above drop/delete technique."
      ]
    }
  ]
}
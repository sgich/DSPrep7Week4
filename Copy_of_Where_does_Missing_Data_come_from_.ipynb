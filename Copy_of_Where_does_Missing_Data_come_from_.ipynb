{
  "nbformat": 4,
  "nbformat_minor": 0,
  "metadata": {
    "colab": {
      "name": "Copy of Where does Missing Data come from?",
      "provenance": [],
      "collapsed_sections": [
        "WuROceEy3suc",
        "eVonhQHZ3v_B",
        "vc56PH0F3yQk",
        "ck7WHi5q30vR"
      ],
      "toc_visible": true
    },
    "kernelspec": {
      "name": "python3",
      "display_name": "Python 3"
    }
  },
  "cells": [
    {
      "cell_type": "markdown",
      "metadata": {
        "id": "70yLYDMfBHa-"
      },
      "source": [
        "<font color=\"green\">*To start working on this notebook, or any other notebook that we will use in the Moringa Data Science Course, we will need to save our own copy of it. We can do this by clicking File > Save a Copy in Drive. We will then be able to make edits to our own copy of this notebook.*</font>"
      ]
    },
    {
      "cell_type": "markdown",
      "metadata": {
        "id": "UuDxrh9x1MFM"
      },
      "source": [
        "# Where does Missing Data come from?"
      ]
    },
    {
      "cell_type": "markdown",
      "metadata": {
        "id": "ierPEBwC16L9"
      },
      "source": [
        "In the course of your data science career,  it is rare that you will work with raw data that does not have missing values. \n",
        "\n",
        "Missing data can arise from the loading of data, when merging data, data entry or the reindexing process - the process of transforming data from one process to the other. We will see how this can happen in the sections below:"
      ]
    },
    {
      "cell_type": "markdown",
      "metadata": {
        "id": "WuROceEy3suc"
      },
      "source": [
        "## 1.0 Loading Data\n",
        "\n"
      ]
    },
    {
      "cell_type": "markdown",
      "metadata": {
        "id": "Pv3b_3Hf7_ea"
      },
      "source": [
        "When we load data with pandas, we get a dataframe with the NaN value in the cell that had missing data. This is as a result of the read_csv function, which can take the following parameters which relate to reading in missing values: na_values, keep_default_na and na_filter.\n",
        "\n",
        "We will now see how these parameters work."
      ]
    },
    {
      "cell_type": "code",
      "metadata": {
        "id": "OOpp4KBbDf6Z",
        "colab": {
          "base_uri": "https://localhost:8080/"
        },
        "outputId": "0c8cabb0-022f-4bfb-e46c-942c549efcd4"
      },
      "source": [
        "# First lets import our dataset that we will use for the examples\n",
        "\n",
        "# Let's import our pandas library \n",
        "import pandas as pd\n",
        "\n",
        "# Let's set the location for our data\n",
        "url = 'http://bit.ly/UniversityDataSet'\n",
        "\n",
        "# We then store this dataset in a dataframe\n",
        "# We us the latin1 encoding because our dataset contains special characters. \n",
        "# An encoding is one specific way of interpreting bytes: It's a look-up table that says, \n",
        "# for example, that a byte with the value 97 stands for 'a'.\n",
        "#\n",
        "df = pd.read_csv(url, encoding = \"latin1\")\n",
        "\n",
        "# then view the columns of this dataframe, this will help us get familiar with the dataset before working on it\n",
        "df.columns.values.tolist()"
      ],
      "execution_count": 9,
      "outputs": [
        {
          "output_type": "execute_result",
          "data": {
            "text/plain": [
              "['Year',\n",
              " 'Org Name',\n",
              " 'Org Code',\n",
              " 'Spec Ed. Grad Rate - Grad Cohort #',\n",
              " 'Spec Ed. Grad Rate - Grad #',\n",
              " 'Spec Ed. Grad Rate - Grad %',\n",
              " 'Spec Ed. Dropout - Enr #',\n",
              " 'Spec Ed. Dropout - Drop #',\n",
              " 'Spec Ed. Dropout - Drop %',\n",
              " 'LRE Ages 6-21 - Students #',\n",
              " 'LRE Ages 6-21 - Full Incl #',\n",
              " 'LRE Ages 6-21 - Full Incl %',\n",
              " 'LRE Ages 3-5 - Students #',\n",
              " 'LRE Ages 3-5 - Full Incl #',\n",
              " 'LRE Ages 3-5 - Full Incl %',\n",
              " 'Cohort Completion Year',\n",
              " 'Substantial growth of knowledge & skills',\n",
              " 'Survey Period',\n",
              " 'Surv Meet Std #',\n",
              " 'Surv Meet Std %',\n",
              " 'Sch Yr Rev',\n",
              " '# of Students Engaged',\n",
              " 'Dist Rate']"
            ]
          },
          "metadata": {
            "tags": []
          },
          "execution_count": 9
        }
      ]
    },
    {
      "cell_type": "code",
      "metadata": {
        "id": "dui0YYmPDvs_",
        "colab": {
          "base_uri": "https://localhost:8080/",
          "height": 411
        },
        "outputId": "f0fbef65-e9aa-45ef-fdfb-d32389e8c04a"
      },
      "source": [
        "# We will then load the first 5 rows of our data and try to understand it more, \n",
        "#while noting the missing values in the records, \n",
        "# afterwards learn more about the parameters\n",
        "# \n",
        "df.head()"
      ],
      "execution_count": 10,
      "outputs": [
        {
          "output_type": "execute_result",
          "data": {
            "text/html": [
              "<div>\n",
              "<style scoped>\n",
              "    .dataframe tbody tr th:only-of-type {\n",
              "        vertical-align: middle;\n",
              "    }\n",
              "\n",
              "    .dataframe tbody tr th {\n",
              "        vertical-align: top;\n",
              "    }\n",
              "\n",
              "    .dataframe thead th {\n",
              "        text-align: right;\n",
              "    }\n",
              "</style>\n",
              "<table border=\"1\" class=\"dataframe\">\n",
              "  <thead>\n",
              "    <tr style=\"text-align: right;\">\n",
              "      <th></th>\n",
              "      <th>Year</th>\n",
              "      <th>Org Name</th>\n",
              "      <th>Org Code</th>\n",
              "      <th>Spec Ed. Grad Rate - Grad Cohort #</th>\n",
              "      <th>Spec Ed. Grad Rate - Grad #</th>\n",
              "      <th>Spec Ed. Grad Rate - Grad %</th>\n",
              "      <th>Spec Ed. Dropout - Enr #</th>\n",
              "      <th>Spec Ed. Dropout - Drop #</th>\n",
              "      <th>Spec Ed. Dropout - Drop %</th>\n",
              "      <th>LRE Ages 6-21 - Students #</th>\n",
              "      <th>LRE Ages 6-21 - Full Incl #</th>\n",
              "      <th>LRE Ages 6-21 - Full Incl %</th>\n",
              "      <th>LRE Ages 3-5 - Students #</th>\n",
              "      <th>LRE Ages 3-5 - Full Incl #</th>\n",
              "      <th>LRE Ages 3-5 - Full Incl %</th>\n",
              "      <th>Cohort Completion Year</th>\n",
              "      <th>Substantial growth of knowledge &amp; skills</th>\n",
              "      <th>Survey Period</th>\n",
              "      <th>Surv Meet Std #</th>\n",
              "      <th>Surv Meet Std %</th>\n",
              "      <th>Sch Yr Rev</th>\n",
              "      <th># of Students Engaged</th>\n",
              "      <th>Dist Rate</th>\n",
              "    </tr>\n",
              "  </thead>\n",
              "  <tbody>\n",
              "    <tr>\n",
              "      <th>0</th>\n",
              "      <td>2012</td>\n",
              "      <td>Abington</td>\n",
              "      <td>10000</td>\n",
              "      <td>27</td>\n",
              "      <td>17</td>\n",
              "      <td>63%</td>\n",
              "      <td>84</td>\n",
              "      <td>3</td>\n",
              "      <td>3.60%</td>\n",
              "      <td>295.0</td>\n",
              "      <td>205</td>\n",
              "      <td>69.50%</td>\n",
              "      <td>20</td>\n",
              "      <td>1</td>\n",
              "      <td>5%</td>\n",
              "      <td>2012-13</td>\n",
              "      <td>-</td>\n",
              "      <td>Spring 2013</td>\n",
              "      <td>NaN</td>\n",
              "      <td>NaN</td>\n",
              "      <td>2010-11</td>\n",
              "      <td>8</td>\n",
              "      <td>100%</td>\n",
              "    </tr>\n",
              "    <tr>\n",
              "      <th>1</th>\n",
              "      <td>2013</td>\n",
              "      <td>Abington</td>\n",
              "      <td>10000</td>\n",
              "      <td>20</td>\n",
              "      <td>16</td>\n",
              "      <td>80%</td>\n",
              "      <td>70</td>\n",
              "      <td>2</td>\n",
              "      <td>2.90%</td>\n",
              "      <td>272.0</td>\n",
              "      <td>174</td>\n",
              "      <td>64%</td>\n",
              "      <td>21</td>\n",
              "      <td>4</td>\n",
              "      <td>19%</td>\n",
              "      <td>2012-13</td>\n",
              "      <td>-</td>\n",
              "      <td>Spring 2013</td>\n",
              "      <td>11</td>\n",
              "      <td>73.20%</td>\n",
              "      <td>2010-11</td>\n",
              "      <td>8</td>\n",
              "      <td>100%</td>\n",
              "    </tr>\n",
              "    <tr>\n",
              "      <th>2</th>\n",
              "      <td>2012</td>\n",
              "      <td>Acton</td>\n",
              "      <td>20000</td>\n",
              "      <td>NaN</td>\n",
              "      <td>NaN</td>\n",
              "      <td>NaN</td>\n",
              "      <td>NaN</td>\n",
              "      <td>NaN</td>\n",
              "      <td>NaN</td>\n",
              "      <td>337.0</td>\n",
              "      <td>290</td>\n",
              "      <td>86.10%</td>\n",
              "      <td>58</td>\n",
              "      <td>6</td>\n",
              "      <td>10.30%</td>\n",
              "      <td>2010-11</td>\n",
              "      <td>86.7</td>\n",
              "      <td>Spring 2011</td>\n",
              "      <td>-</td>\n",
              "      <td>-</td>\n",
              "      <td>2012-13</td>\n",
              "      <td>NR</td>\n",
              "      <td>NR</td>\n",
              "    </tr>\n",
              "    <tr>\n",
              "      <th>3</th>\n",
              "      <td>2013</td>\n",
              "      <td>Acton</td>\n",
              "      <td>20000</td>\n",
              "      <td>NaN</td>\n",
              "      <td>NaN</td>\n",
              "      <td>NaN</td>\n",
              "      <td>0</td>\n",
              "      <td>-</td>\n",
              "      <td>-</td>\n",
              "      <td>335.0</td>\n",
              "      <td>286</td>\n",
              "      <td>85.40%</td>\n",
              "      <td>60</td>\n",
              "      <td>16</td>\n",
              "      <td>26.70%</td>\n",
              "      <td>2010-11</td>\n",
              "      <td>86.7</td>\n",
              "      <td>Spring 2011</td>\n",
              "      <td>-</td>\n",
              "      <td>-</td>\n",
              "      <td>2012-13</td>\n",
              "      <td>NR</td>\n",
              "      <td>NR</td>\n",
              "    </tr>\n",
              "    <tr>\n",
              "      <th>4</th>\n",
              "      <td>2012</td>\n",
              "      <td>Acushnet</td>\n",
              "      <td>30000</td>\n",
              "      <td>3</td>\n",
              "      <td>-</td>\n",
              "      <td>-</td>\n",
              "      <td>0</td>\n",
              "      <td>-</td>\n",
              "      <td>-</td>\n",
              "      <td>174.0</td>\n",
              "      <td>128</td>\n",
              "      <td>73.60%</td>\n",
              "      <td>28</td>\n",
              "      <td>7</td>\n",
              "      <td>25%</td>\n",
              "      <td>2013-14</td>\n",
              "      <td>-</td>\n",
              "      <td>Spring 2012</td>\n",
              "      <td>-</td>\n",
              "      <td>-</td>\n",
              "      <td>2011-12</td>\n",
              "      <td>NaN</td>\n",
              "      <td></td>\n",
              "    </tr>\n",
              "  </tbody>\n",
              "</table>\n",
              "</div>"
            ],
            "text/plain": [
              "   Year  Org Name  Org Code  ... Sch Yr Rev # of Students Engaged Dist Rate\n",
              "0  2012  Abington     10000  ...    2010-11                     8      100%\n",
              "1  2013  Abington     10000  ...    2010-11                     8      100%\n",
              "2  2012     Acton     20000  ...    2012-13                    NR        NR\n",
              "3  2013     Acton     20000  ...    2012-13                    NR        NR\n",
              "4  2012  Acushnet     30000  ...    2011-12                   NaN          \n",
              "\n",
              "[5 rows x 23 columns]"
            ]
          },
          "metadata": {
            "tags": []
          },
          "execution_count": 10
        }
      ]
    },
    {
      "cell_type": "markdown",
      "metadata": {
        "id": "KGNkP_ARIns6"
      },
      "source": [
        "**i) na_values**\n",
        "\n",
        "The na_values parameter will allow us to specify additional missing or NaN values. What are NaN values you ask?\n",
        "\n",
        "> *These NaN values are from the python numpy library - Missing values in python are displayed in a few ways - NaN, NAN or nan and are all equivalent.*\n",
        "\n",
        "By default, this parameter is usually never used when reading the file mainly because these default missing values - NaN or nan, are already available. "
      ]
    },
    {
      "cell_type": "code",
      "metadata": {
        "id": "eDIBrwJsEOnV",
        "colab": {
          "base_uri": "https://localhost:8080/"
        },
        "outputId": "e5ec8d84-cb13-4fae-f90a-e254052a8185"
      },
      "source": [
        "# now we load the data with the default values\n",
        "print(pd.read_csv(url, encoding = 'latin1').head())"
      ],
      "execution_count": 11,
      "outputs": [
        {
          "output_type": "stream",
          "text": [
            "   Year  Org Name  Org Code  ... Sch Yr Rev # of Students Engaged Dist Rate\n",
            "0  2012  Abington     10000  ...    2010-11                     8      100%\n",
            "1  2013  Abington     10000  ...    2010-11                     8      100%\n",
            "2  2012     Acton     20000  ...    2012-13                    NR        NR\n",
            "3  2013     Acton     20000  ...    2012-13                    NR        NR\n",
            "4  2012  Acushnet     30000  ...    2011-12                   NaN          \n",
            "\n",
            "[5 rows x 23 columns]\n"
          ],
          "name": "stdout"
        }
      ]
    },
    {
      "cell_type": "markdown",
      "metadata": {
        "id": "auvMdkUnJOkr"
      },
      "source": [
        "**ii) keep_default_na**\n",
        "\n",
        "The second parameter is the `keep_default_na` parameter, which is a bool (boolean). It allows us to specify whether any additional values need to be considered missing. By default this parameter is True, meaning any additional missing values specified with the na_values paramenter will be appended to list of missing values. \n",
        "\n",
        "We can also set `keep_default_na=False` which will mean that we will only use missing values specified in na_values. "
      ]
    },
    {
      "cell_type": "code",
      "metadata": {
        "id": "Tqq6E-loKUTf",
        "colab": {
          "base_uri": "https://localhost:8080/"
        },
        "outputId": "14e3f27a-69c0-4266-92af-2c59e0b69356"
      },
      "source": [
        "# Example 2\n",
        "# We then load the data without default missing values \n",
        "# \n",
        "print(pd.read_csv(url, encoding = 'latin1', keep_default_na = False).head())"
      ],
      "execution_count": 12,
      "outputs": [
        {
          "output_type": "stream",
          "text": [
            "   Year  Org Name  Org Code  ... Sch Yr Rev # of Students Engaged Dist Rate\n",
            "0  2012  Abington     10000  ...    2010-11                     8      100%\n",
            "1  2013  Abington     10000  ...    2010-11                     8      100%\n",
            "2  2012     Acton     20000  ...    2012-13                    NR        NR\n",
            "3  2013     Acton     20000  ...    2012-13                    NR        NR\n",
            "4  2012  Acushnet     30000  ...    2011-12                                \n",
            "\n",
            "[5 rows x 23 columns]\n"
          ],
          "name": "stdout"
        }
      ]
    },
    {
      "cell_type": "code",
      "metadata": {
        "id": "gVrB81wOCn1-",
        "colab": {
          "base_uri": "https://localhost:8080/"
        },
        "outputId": "23bdc445-2358-44bf-f1fe-cf96acd35201"
      },
      "source": [
        "# Challenge 1: \n",
        "# Using the keep_default_na parameter, load the data with the default missing values below\n",
        "# \n",
        "\n",
        "print(pd.read_csv(url, encoding = 'latin1', keep_default_na = True).head())"
      ],
      "execution_count": 13,
      "outputs": [
        {
          "output_type": "stream",
          "text": [
            "   Year  Org Name  Org Code  ... Sch Yr Rev # of Students Engaged Dist Rate\n",
            "0  2012  Abington     10000  ...    2010-11                     8      100%\n",
            "1  2013  Abington     10000  ...    2010-11                     8      100%\n",
            "2  2012     Acton     20000  ...    2012-13                    NR        NR\n",
            "3  2013     Acton     20000  ...    2012-13                    NR        NR\n",
            "4  2012  Acushnet     30000  ...    2011-12                   NaN          \n",
            "\n",
            "[5 rows x 23 columns]\n"
          ],
          "name": "stdout"
        }
      ]
    },
    {
      "cell_type": "markdown",
      "metadata": {
        "id": "42Sd8SSYJXjv"
      },
      "source": [
        "iii) **na_filter**\n",
        "\n",
        "Our third parameter is the *na_filter parameter,* which is a bool that specifies whether any values will be read as missing. By default the na_filter=True, meaning that missing values will be coded as NaN. If na_filter=False, then nothing will be recorded as missing. We normally use this parameter when we want to set false the na_values and keep_default_na parameter all at the same time as well as when we want to quickly load any data without missing values. \n",
        "\n"
      ]
    },
    {
      "cell_type": "code",
      "metadata": {
        "id": "RkJdBrJvCqx9",
        "colab": {
          "base_uri": "https://localhost:8080/"
        },
        "outputId": "46cfcd07-be58-4321-b168-7b279f0fcb0d"
      },
      "source": [
        "# Example 3\n",
        "# Let's set the na_filter parameter to True\n",
        "# \n",
        "print(pd.read_csv(url, na_filter = True, encoding ='latin1').head())"
      ],
      "execution_count": 14,
      "outputs": [
        {
          "output_type": "stream",
          "text": [
            "   Year  Org Name  Org Code  ... Sch Yr Rev # of Students Engaged Dist Rate\n",
            "0  2012  Abington     10000  ...    2010-11                     8      100%\n",
            "1  2013  Abington     10000  ...    2010-11                     8      100%\n",
            "2  2012     Acton     20000  ...    2012-13                    NR        NR\n",
            "3  2013     Acton     20000  ...    2012-13                    NR        NR\n",
            "4  2012  Acushnet     30000  ...    2011-12                   NaN          \n",
            "\n",
            "[5 rows x 23 columns]\n"
          ],
          "name": "stdout"
        }
      ]
    },
    {
      "cell_type": "code",
      "metadata": {
        "id": "YC0qIxQuKVN8",
        "colab": {
          "base_uri": "https://localhost:8080/"
        },
        "outputId": "891a8ad9-20b1-4489-e56d-16d6a3641e01"
      },
      "source": [
        "# Challenge 2\n",
        "# Now let's see what happens when we set the na_filter parameter to False\n",
        "# \n",
        "print(pd.read_csv(url, na_filter= False, encoding= 'latin1').head())"
      ],
      "execution_count": 15,
      "outputs": [
        {
          "output_type": "stream",
          "text": [
            "   Year  Org Name  Org Code  ... Sch Yr Rev # of Students Engaged Dist Rate\n",
            "0  2012  Abington     10000  ...    2010-11                     8      100%\n",
            "1  2013  Abington     10000  ...    2010-11                     8      100%\n",
            "2  2012     Acton     20000  ...    2012-13                    NR        NR\n",
            "3  2013     Acton     20000  ...    2012-13                    NR        NR\n",
            "4  2012  Acushnet     30000  ...    2011-12                                \n",
            "\n",
            "[5 rows x 23 columns]\n"
          ],
          "name": "stdout"
        }
      ]
    },
    {
      "cell_type": "markdown",
      "metadata": {
        "id": "eVonhQHZ3v_B"
      },
      "source": [
        "## 1.1 Merging Data\n"
      ]
    },
    {
      "cell_type": "markdown",
      "metadata": {
        "id": "t-EayHUZQwfE"
      },
      "source": [
        "Missing data can also result from the merging of datasets. This we will see when we create a merged table from the two datasets below. \n",
        "\n",
        "Having missing values in the merged table can be as a result of either or neither of the datasets having any missing values i.e. if the datasets have unique columns.\n",
        "\n"
      ]
    },
    {
      "cell_type": "code",
      "metadata": {
        "id": "uUmd0YtoUOXN"
      },
      "source": [
        "apple_orange_dataset = 'http://bit.ly/AppleOrangeDataSet'\n",
        "stability_dataset    = 'http://bit.ly/StabilityDataset'\n",
        "\n",
        "apple_orange_dataset = pd.read_csv(apple_orange_dataset, encoding ='latin1')\n",
        "stability_dataset    = pd.read_csv(stability_dataset, encoding ='latin1')"
      ],
      "execution_count": 24,
      "outputs": []
    },
    {
      "cell_type": "markdown",
      "metadata": {
        "id": "3KMGTOEgdnme"
      },
      "source": [
        "The appleorange dataset  contains production volumes of apples and oranges while the stability dataset contains country stability indicators. "
      ]
    },
    {
      "cell_type": "code",
      "metadata": {
        "id": "Zfry7pMHZh0I",
        "colab": {
          "base_uri": "https://localhost:8080/",
          "height": 495
        },
        "outputId": "eab511aa-9daf-4055-e951-2c4b09b0767a"
      },
      "source": [
        "# Displaying our the first dataset\n",
        "#\n",
        "apple_orange_dataset.head(10)"
      ],
      "execution_count": 25,
      "outputs": [
        {
          "output_type": "execute_result",
          "data": {
            "text/html": [
              "<div>\n",
              "<style scoped>\n",
              "    .dataframe tbody tr th:only-of-type {\n",
              "        vertical-align: middle;\n",
              "    }\n",
              "\n",
              "    .dataframe tbody tr th {\n",
              "        vertical-align: top;\n",
              "    }\n",
              "\n",
              "    .dataframe thead th {\n",
              "        text-align: right;\n",
              "    }\n",
              "</style>\n",
              "<table border=\"1\" class=\"dataframe\">\n",
              "  <thead>\n",
              "    <tr style=\"text-align: right;\">\n",
              "      <th></th>\n",
              "      <th>FAOSTAT 2013</th>\n",
              "      <th>Unnamed: 1</th>\n",
              "      <th>Unnamed: 2</th>\n",
              "      <th>Unnamed: 3</th>\n",
              "      <th>Unnamed: 4</th>\n",
              "      <th>Unnamed: 5</th>\n",
              "    </tr>\n",
              "  </thead>\n",
              "  <tbody>\n",
              "    <tr>\n",
              "      <th>0</th>\n",
              "      <td>Elements Ê</td>\n",
              "      <td>NaN</td>\n",
              "      <td>Areas Ê</td>\n",
              "      <td>NaN</td>\n",
              "      <td>Items Ê</td>\n",
              "      <td>2009.0</td>\n",
              "    </tr>\n",
              "    <tr>\n",
              "      <th>1</th>\n",
              "      <td>Food supply quantity (tonnes) (tonnes)</td>\n",
              "      <td>NaN</td>\n",
              "      <td>NaN</td>\n",
              "      <td>NaN</td>\n",
              "      <td>NaN</td>\n",
              "      <td>NaN</td>\n",
              "    </tr>\n",
              "    <tr>\n",
              "      <th>2</th>\n",
              "      <td>Food supply quantity (tonnes) (tonnes)</td>\n",
              "      <td>NaN</td>\n",
              "      <td>Food supply quantity (tonnes) (tonnes)</td>\n",
              "      <td>NaN</td>\n",
              "      <td>NaN</td>\n",
              "      <td>NaN</td>\n",
              "    </tr>\n",
              "    <tr>\n",
              "      <th>3</th>\n",
              "      <td>Food supply quantity (tonnes) (tonnes)</td>\n",
              "      <td>NaN</td>\n",
              "      <td>NaN</td>\n",
              "      <td>NaN</td>\n",
              "      <td>NaN</td>\n",
              "      <td>NaN</td>\n",
              "    </tr>\n",
              "    <tr>\n",
              "      <th>4</th>\n",
              "      <td>Albania</td>\n",
              "      <td>3</td>\n",
              "      <td>Apples and products</td>\n",
              "      <td>2617.0</td>\n",
              "      <td>57Ê459.00, tonnes ()</td>\n",
              "      <td>NaN</td>\n",
              "    </tr>\n",
              "    <tr>\n",
              "      <th>5</th>\n",
              "      <td>Food supply quantity (tonnes) (tonnes)</td>\n",
              "      <td>NaN</td>\n",
              "      <td>NaN</td>\n",
              "      <td>NaN</td>\n",
              "      <td>NaN</td>\n",
              "      <td>NaN</td>\n",
              "    </tr>\n",
              "    <tr>\n",
              "      <th>6</th>\n",
              "      <td>Albania</td>\n",
              "      <td>3</td>\n",
              "      <td>Oranges, Mandarines</td>\n",
              "      <td>2611.0</td>\n",
              "      <td>40Ê880.00, tonnes ()</td>\n",
              "      <td>NaN</td>\n",
              "    </tr>\n",
              "    <tr>\n",
              "      <th>7</th>\n",
              "      <td>Food supply quantity (tonnes) (tonnes)</td>\n",
              "      <td>NaN</td>\n",
              "      <td>NaN</td>\n",
              "      <td>NaN</td>\n",
              "      <td>NaN</td>\n",
              "      <td>NaN</td>\n",
              "    </tr>\n",
              "    <tr>\n",
              "      <th>8</th>\n",
              "      <td>Algeria</td>\n",
              "      <td>4</td>\n",
              "      <td>Apples and products</td>\n",
              "      <td>2617.0</td>\n",
              "      <td>370Ê008.00, tonnes ()</td>\n",
              "      <td>NaN</td>\n",
              "    </tr>\n",
              "    <tr>\n",
              "      <th>9</th>\n",
              "      <td>Food supply quantity (tonnes) (tonnes)</td>\n",
              "      <td>NaN</td>\n",
              "      <td>NaN</td>\n",
              "      <td>NaN</td>\n",
              "      <td>NaN</td>\n",
              "      <td>NaN</td>\n",
              "    </tr>\n",
              "  </tbody>\n",
              "</table>\n",
              "</div>"
            ],
            "text/plain": [
              "                             FAOSTAT 2013  ... Unnamed: 5\n",
              "0                              Elements Ê  ...     2009.0\n",
              "1  Food supply quantity (tonnes) (tonnes)  ...        NaN\n",
              "2  Food supply quantity (tonnes) (tonnes)  ...        NaN\n",
              "3  Food supply quantity (tonnes) (tonnes)  ...        NaN\n",
              "4                                 Albania  ...        NaN\n",
              "5  Food supply quantity (tonnes) (tonnes)  ...        NaN\n",
              "6                                 Albania  ...        NaN\n",
              "7  Food supply quantity (tonnes) (tonnes)  ...        NaN\n",
              "8                                 Algeria  ...        NaN\n",
              "9  Food supply quantity (tonnes) (tonnes)  ...        NaN\n",
              "\n",
              "[10 rows x 6 columns]"
            ]
          },
          "metadata": {
            "tags": []
          },
          "execution_count": 25
        }
      ]
    },
    {
      "cell_type": "code",
      "metadata": {
        "id": "eX8ebJEVZobi",
        "colab": {
          "base_uri": "https://localhost:8080/",
          "height": 359
        },
        "outputId": "4f808e15-3d87-4cc2-e4dc-8c9d9f5beefc"
      },
      "source": [
        "# Displaying our second dataset\n",
        "# \n",
        "stability_dataset.head(10)"
      ],
      "execution_count": 26,
      "outputs": [
        {
          "output_type": "execute_result",
          "data": {
            "text/html": [
              "<div>\n",
              "<style scoped>\n",
              "    .dataframe tbody tr th:only-of-type {\n",
              "        vertical-align: middle;\n",
              "    }\n",
              "\n",
              "    .dataframe tbody tr th {\n",
              "        vertical-align: top;\n",
              "    }\n",
              "\n",
              "    .dataframe thead th {\n",
              "        text-align: right;\n",
              "    }\n",
              "</style>\n",
              "<table border=\"1\" class=\"dataframe\">\n",
              "  <thead>\n",
              "    <tr style=\"text-align: right;\">\n",
              "      <th></th>\n",
              "      <th>FAOSTAT 2013</th>\n",
              "      <th>Unnamed: 1</th>\n",
              "      <th>Unnamed: 2</th>\n",
              "      <th>Unnamed: 3</th>\n",
              "      <th>Unnamed: 4</th>\n",
              "      <th>Unnamed: 5</th>\n",
              "    </tr>\n",
              "  </thead>\n",
              "  <tbody>\n",
              "    <tr>\n",
              "      <th>0</th>\n",
              "      <td>Elements Ê</td>\n",
              "      <td>NaN</td>\n",
              "      <td>Areas Ê</td>\n",
              "      <td>NaN</td>\n",
              "      <td>Items Ê</td>\n",
              "      <td>2009.0</td>\n",
              "    </tr>\n",
              "    <tr>\n",
              "      <th>1</th>\n",
              "      <td>Value (index)</td>\n",
              "      <td>NaN</td>\n",
              "      <td>NaN</td>\n",
              "      <td>NaN</td>\n",
              "      <td>NaN</td>\n",
              "      <td>NaN</td>\n",
              "    </tr>\n",
              "    <tr>\n",
              "      <th>2</th>\n",
              "      <td>Value (index)</td>\n",
              "      <td>NaN</td>\n",
              "      <td>Value (index)</td>\n",
              "      <td>NaN</td>\n",
              "      <td>NaN</td>\n",
              "      <td>NaN</td>\n",
              "    </tr>\n",
              "    <tr>\n",
              "      <th>3</th>\n",
              "      <td>Value (index)</td>\n",
              "      <td>NaN</td>\n",
              "      <td>NaN</td>\n",
              "      <td>NaN</td>\n",
              "      <td>NaN</td>\n",
              "      <td>NaN</td>\n",
              "    </tr>\n",
              "    <tr>\n",
              "      <th>4</th>\n",
              "      <td>Afghanistan</td>\n",
              "      <td>2</td>\n",
              "      <td>Political stability and absence of violence/te...</td>\n",
              "      <td>21032.0</td>\n",
              "      <td>-2.70, index ()</td>\n",
              "      <td>NaN</td>\n",
              "    </tr>\n",
              "    <tr>\n",
              "      <th>5</th>\n",
              "      <td>Value (index)</td>\n",
              "      <td>NaN</td>\n",
              "      <td>NaN</td>\n",
              "      <td>NaN</td>\n",
              "      <td>NaN</td>\n",
              "      <td>NaN</td>\n",
              "    </tr>\n",
              "    <tr>\n",
              "      <th>6</th>\n",
              "      <td>Albania</td>\n",
              "      <td>3</td>\n",
              "      <td>Political stability and absence of violence/te...</td>\n",
              "      <td>21032.0</td>\n",
              "      <td>-0.05, index ()</td>\n",
              "      <td>NaN</td>\n",
              "    </tr>\n",
              "    <tr>\n",
              "      <th>7</th>\n",
              "      <td>Value (index)</td>\n",
              "      <td>NaN</td>\n",
              "      <td>NaN</td>\n",
              "      <td>NaN</td>\n",
              "      <td>NaN</td>\n",
              "      <td>NaN</td>\n",
              "    </tr>\n",
              "    <tr>\n",
              "      <th>8</th>\n",
              "      <td>Algeria</td>\n",
              "      <td>4</td>\n",
              "      <td>Political stability and absence of violence/te...</td>\n",
              "      <td>21032.0</td>\n",
              "      <td>-1.23, index ()</td>\n",
              "      <td>NaN</td>\n",
              "    </tr>\n",
              "    <tr>\n",
              "      <th>9</th>\n",
              "      <td>Value (index)</td>\n",
              "      <td>NaN</td>\n",
              "      <td>NaN</td>\n",
              "      <td>NaN</td>\n",
              "      <td>NaN</td>\n",
              "      <td>NaN</td>\n",
              "    </tr>\n",
              "  </tbody>\n",
              "</table>\n",
              "</div>"
            ],
            "text/plain": [
              "    FAOSTAT 2013 Unnamed: 1  ...       Unnamed: 4  Unnamed: 5\n",
              "0     Elements Ê        NaN  ...          Items Ê      2009.0\n",
              "1  Value (index)        NaN  ...              NaN         NaN\n",
              "2  Value (index)        NaN  ...              NaN         NaN\n",
              "3  Value (index)        NaN  ...              NaN         NaN\n",
              "4    Afghanistan          2  ...  -2.70, index ()         NaN\n",
              "5  Value (index)        NaN  ...              NaN         NaN\n",
              "6        Albania          3  ...  -0.05, index ()         NaN\n",
              "7  Value (index)        NaN  ...              NaN         NaN\n",
              "8        Algeria          4  ...  -1.23, index ()         NaN\n",
              "9  Value (index)        NaN  ...              NaN         NaN\n",
              "\n",
              "[10 rows x 6 columns]"
            ]
          },
          "metadata": {
            "tags": []
          },
          "execution_count": 26
        }
      ]
    },
    {
      "cell_type": "code",
      "metadata": {
        "id": "5HiE_oQ0aJkr",
        "colab": {
          "base_uri": "https://localhost:8080/",
          "height": 1000
        },
        "outputId": "33b61d14-33ad-4706-9920-97feef2beced"
      },
      "source": [
        "# Now merging the two dataframes and analysing the output\n",
        "merged_dataset = apple_orange_dataset.merge(stability_dataset, left_on='FAOSTAT 2013', right_on='FAOSTAT 2013')\n",
        "\n",
        "# Displayig our dataset\n",
        "merged_dataset.head(20)"
      ],
      "execution_count": 27,
      "outputs": [
        {
          "output_type": "execute_result",
          "data": {
            "text/html": [
              "<div>\n",
              "<style scoped>\n",
              "    .dataframe tbody tr th:only-of-type {\n",
              "        vertical-align: middle;\n",
              "    }\n",
              "\n",
              "    .dataframe tbody tr th {\n",
              "        vertical-align: top;\n",
              "    }\n",
              "\n",
              "    .dataframe thead th {\n",
              "        text-align: right;\n",
              "    }\n",
              "</style>\n",
              "<table border=\"1\" class=\"dataframe\">\n",
              "  <thead>\n",
              "    <tr style=\"text-align: right;\">\n",
              "      <th></th>\n",
              "      <th>FAOSTAT 2013</th>\n",
              "      <th>Unnamed: 1_x</th>\n",
              "      <th>Unnamed: 2_x</th>\n",
              "      <th>Unnamed: 3_x</th>\n",
              "      <th>Unnamed: 4_x</th>\n",
              "      <th>Unnamed: 5_x</th>\n",
              "      <th>Unnamed: 1_y</th>\n",
              "      <th>Unnamed: 2_y</th>\n",
              "      <th>Unnamed: 3_y</th>\n",
              "      <th>Unnamed: 4_y</th>\n",
              "      <th>Unnamed: 5_y</th>\n",
              "    </tr>\n",
              "  </thead>\n",
              "  <tbody>\n",
              "    <tr>\n",
              "      <th>0</th>\n",
              "      <td>Elements Ê</td>\n",
              "      <td>NaN</td>\n",
              "      <td>Areas Ê</td>\n",
              "      <td>NaN</td>\n",
              "      <td>Items Ê</td>\n",
              "      <td>2009.0</td>\n",
              "      <td>NaN</td>\n",
              "      <td>Areas Ê</td>\n",
              "      <td>NaN</td>\n",
              "      <td>Items Ê</td>\n",
              "      <td>2009.0</td>\n",
              "    </tr>\n",
              "    <tr>\n",
              "      <th>1</th>\n",
              "      <td>Albania</td>\n",
              "      <td>3</td>\n",
              "      <td>Apples and products</td>\n",
              "      <td>2617.0</td>\n",
              "      <td>57Ê459.00, tonnes ()</td>\n",
              "      <td>NaN</td>\n",
              "      <td>3</td>\n",
              "      <td>Political stability and absence of violence/te...</td>\n",
              "      <td>21032.0</td>\n",
              "      <td>-0.05, index ()</td>\n",
              "      <td>NaN</td>\n",
              "    </tr>\n",
              "    <tr>\n",
              "      <th>2</th>\n",
              "      <td>Albania</td>\n",
              "      <td>3</td>\n",
              "      <td>Apples and products</td>\n",
              "      <td>2617.0</td>\n",
              "      <td>57Ê459.00, tonnes ()</td>\n",
              "      <td>NaN</td>\n",
              "      <td>3</td>\n",
              "      <td>Per capita food supply variability (kcal/capit...</td>\n",
              "      <td>21031.0</td>\n",
              "      <td>40.29, kcal/capita/day ()</td>\n",
              "      <td>NaN</td>\n",
              "    </tr>\n",
              "    <tr>\n",
              "      <th>3</th>\n",
              "      <td>Albania</td>\n",
              "      <td>3</td>\n",
              "      <td>Apples and products</td>\n",
              "      <td>2617.0</td>\n",
              "      <td>57Ê459.00, tonnes ()</td>\n",
              "      <td>NaN</td>\n",
              "      <td>3</td>\n",
              "      <td>Rail-lines density (per 100 square km of land ...</td>\n",
              "      <td>21016.0</td>\n",
              "      <td>1.47, per 100 square km of land area ()</td>\n",
              "      <td>NaN</td>\n",
              "    </tr>\n",
              "    <tr>\n",
              "      <th>4</th>\n",
              "      <td>Albania</td>\n",
              "      <td>3</td>\n",
              "      <td>Oranges, Mandarines</td>\n",
              "      <td>2611.0</td>\n",
              "      <td>40Ê880.00, tonnes ()</td>\n",
              "      <td>NaN</td>\n",
              "      <td>3</td>\n",
              "      <td>Political stability and absence of violence/te...</td>\n",
              "      <td>21032.0</td>\n",
              "      <td>-0.05, index ()</td>\n",
              "      <td>NaN</td>\n",
              "    </tr>\n",
              "    <tr>\n",
              "      <th>5</th>\n",
              "      <td>Albania</td>\n",
              "      <td>3</td>\n",
              "      <td>Oranges, Mandarines</td>\n",
              "      <td>2611.0</td>\n",
              "      <td>40Ê880.00, tonnes ()</td>\n",
              "      <td>NaN</td>\n",
              "      <td>3</td>\n",
              "      <td>Per capita food supply variability (kcal/capit...</td>\n",
              "      <td>21031.0</td>\n",
              "      <td>40.29, kcal/capita/day ()</td>\n",
              "      <td>NaN</td>\n",
              "    </tr>\n",
              "    <tr>\n",
              "      <th>6</th>\n",
              "      <td>Albania</td>\n",
              "      <td>3</td>\n",
              "      <td>Oranges, Mandarines</td>\n",
              "      <td>2611.0</td>\n",
              "      <td>40Ê880.00, tonnes ()</td>\n",
              "      <td>NaN</td>\n",
              "      <td>3</td>\n",
              "      <td>Rail-lines density (per 100 square km of land ...</td>\n",
              "      <td>21016.0</td>\n",
              "      <td>1.47, per 100 square km of land area ()</td>\n",
              "      <td>NaN</td>\n",
              "    </tr>\n",
              "    <tr>\n",
              "      <th>7</th>\n",
              "      <td>Algeria</td>\n",
              "      <td>4</td>\n",
              "      <td>Apples and products</td>\n",
              "      <td>2617.0</td>\n",
              "      <td>370Ê008.00, tonnes ()</td>\n",
              "      <td>NaN</td>\n",
              "      <td>4</td>\n",
              "      <td>Political stability and absence of violence/te...</td>\n",
              "      <td>21032.0</td>\n",
              "      <td>-1.23, index ()</td>\n",
              "      <td>NaN</td>\n",
              "    </tr>\n",
              "    <tr>\n",
              "      <th>8</th>\n",
              "      <td>Algeria</td>\n",
              "      <td>4</td>\n",
              "      <td>Apples and products</td>\n",
              "      <td>2617.0</td>\n",
              "      <td>370Ê008.00, tonnes ()</td>\n",
              "      <td>NaN</td>\n",
              "      <td>4</td>\n",
              "      <td>Per capita food supply variability (kcal/capit...</td>\n",
              "      <td>21031.0</td>\n",
              "      <td>27.94, kcal/capita/day ()</td>\n",
              "      <td>NaN</td>\n",
              "    </tr>\n",
              "    <tr>\n",
              "      <th>9</th>\n",
              "      <td>Algeria</td>\n",
              "      <td>4</td>\n",
              "      <td>Apples and products</td>\n",
              "      <td>2617.0</td>\n",
              "      <td>370Ê008.00, tonnes ()</td>\n",
              "      <td>NaN</td>\n",
              "      <td>4</td>\n",
              "      <td>Rail-lines density (per 100 square km of land ...</td>\n",
              "      <td>21016.0</td>\n",
              "      <td>0.20, per 100 square km of land area ()</td>\n",
              "      <td>NaN</td>\n",
              "    </tr>\n",
              "    <tr>\n",
              "      <th>10</th>\n",
              "      <td>Algeria</td>\n",
              "      <td>4</td>\n",
              "      <td>Oranges, Mandarines</td>\n",
              "      <td>2611.0</td>\n",
              "      <td>762Ê365.00, tonnes ()</td>\n",
              "      <td>NaN</td>\n",
              "      <td>4</td>\n",
              "      <td>Political stability and absence of violence/te...</td>\n",
              "      <td>21032.0</td>\n",
              "      <td>-1.23, index ()</td>\n",
              "      <td>NaN</td>\n",
              "    </tr>\n",
              "    <tr>\n",
              "      <th>11</th>\n",
              "      <td>Algeria</td>\n",
              "      <td>4</td>\n",
              "      <td>Oranges, Mandarines</td>\n",
              "      <td>2611.0</td>\n",
              "      <td>762Ê365.00, tonnes ()</td>\n",
              "      <td>NaN</td>\n",
              "      <td>4</td>\n",
              "      <td>Per capita food supply variability (kcal/capit...</td>\n",
              "      <td>21031.0</td>\n",
              "      <td>27.94, kcal/capita/day ()</td>\n",
              "      <td>NaN</td>\n",
              "    </tr>\n",
              "    <tr>\n",
              "      <th>12</th>\n",
              "      <td>Algeria</td>\n",
              "      <td>4</td>\n",
              "      <td>Oranges, Mandarines</td>\n",
              "      <td>2611.0</td>\n",
              "      <td>762Ê365.00, tonnes ()</td>\n",
              "      <td>NaN</td>\n",
              "      <td>4</td>\n",
              "      <td>Rail-lines density (per 100 square km of land ...</td>\n",
              "      <td>21016.0</td>\n",
              "      <td>0.20, per 100 square km of land area ()</td>\n",
              "      <td>NaN</td>\n",
              "    </tr>\n",
              "    <tr>\n",
              "      <th>13</th>\n",
              "      <td>Angola</td>\n",
              "      <td>7</td>\n",
              "      <td>Apples and products</td>\n",
              "      <td>2617.0</td>\n",
              "      <td>4Ê481.00, tonnes ()</td>\n",
              "      <td>NaN</td>\n",
              "      <td>7</td>\n",
              "      <td>Political stability and absence of violence/te...</td>\n",
              "      <td>21032.0</td>\n",
              "      <td>-0.32, index ()</td>\n",
              "      <td>NaN</td>\n",
              "    </tr>\n",
              "    <tr>\n",
              "      <th>14</th>\n",
              "      <td>Angola</td>\n",
              "      <td>7</td>\n",
              "      <td>Apples and products</td>\n",
              "      <td>2617.0</td>\n",
              "      <td>4Ê481.00, tonnes ()</td>\n",
              "      <td>NaN</td>\n",
              "      <td>7</td>\n",
              "      <td>Per capita food supply variability (kcal/capit...</td>\n",
              "      <td>21031.0</td>\n",
              "      <td>26.81, kcal/capita/day ()</td>\n",
              "      <td>NaN</td>\n",
              "    </tr>\n",
              "    <tr>\n",
              "      <th>15</th>\n",
              "      <td>Angola</td>\n",
              "      <td>7</td>\n",
              "      <td>Oranges, Mandarines</td>\n",
              "      <td>2611.0</td>\n",
              "      <td>978.00, tonnes ()</td>\n",
              "      <td>NaN</td>\n",
              "      <td>7</td>\n",
              "      <td>Political stability and absence of violence/te...</td>\n",
              "      <td>21032.0</td>\n",
              "      <td>-0.32, index ()</td>\n",
              "      <td>NaN</td>\n",
              "    </tr>\n",
              "    <tr>\n",
              "      <th>16</th>\n",
              "      <td>Angola</td>\n",
              "      <td>7</td>\n",
              "      <td>Oranges, Mandarines</td>\n",
              "      <td>2611.0</td>\n",
              "      <td>978.00, tonnes ()</td>\n",
              "      <td>NaN</td>\n",
              "      <td>7</td>\n",
              "      <td>Per capita food supply variability (kcal/capit...</td>\n",
              "      <td>21031.0</td>\n",
              "      <td>26.81, kcal/capita/day ()</td>\n",
              "      <td>NaN</td>\n",
              "    </tr>\n",
              "    <tr>\n",
              "      <th>17</th>\n",
              "      <td>Antigua and Barbuda</td>\n",
              "      <td>8</td>\n",
              "      <td>Apples and products</td>\n",
              "      <td>2617.0</td>\n",
              "      <td>722.00, tonnes ()</td>\n",
              "      <td>NaN</td>\n",
              "      <td>8</td>\n",
              "      <td>Political stability and absence of violence/te...</td>\n",
              "      <td>21032.0</td>\n",
              "      <td>0.75, index ()</td>\n",
              "      <td>NaN</td>\n",
              "    </tr>\n",
              "    <tr>\n",
              "      <th>18</th>\n",
              "      <td>Antigua and Barbuda</td>\n",
              "      <td>8</td>\n",
              "      <td>Apples and products</td>\n",
              "      <td>2617.0</td>\n",
              "      <td>722.00, tonnes ()</td>\n",
              "      <td>NaN</td>\n",
              "      <td>8</td>\n",
              "      <td>Per capita food supply variability (kcal/capit...</td>\n",
              "      <td>21031.0</td>\n",
              "      <td>52.10, kcal/capita/day ()</td>\n",
              "      <td>NaN</td>\n",
              "    </tr>\n",
              "    <tr>\n",
              "      <th>19</th>\n",
              "      <td>Antigua and Barbuda</td>\n",
              "      <td>8</td>\n",
              "      <td>Oranges, Mandarines</td>\n",
              "      <td>2611.0</td>\n",
              "      <td>3Ê521.00, tonnes ()</td>\n",
              "      <td>NaN</td>\n",
              "      <td>8</td>\n",
              "      <td>Political stability and absence of violence/te...</td>\n",
              "      <td>21032.0</td>\n",
              "      <td>0.75, index ()</td>\n",
              "      <td>NaN</td>\n",
              "    </tr>\n",
              "  </tbody>\n",
              "</table>\n",
              "</div>"
            ],
            "text/plain": [
              "           FAOSTAT 2013  ... Unnamed: 5_y\n",
              "0            Elements Ê  ...       2009.0\n",
              "1               Albania  ...          NaN\n",
              "2               Albania  ...          NaN\n",
              "3               Albania  ...          NaN\n",
              "4               Albania  ...          NaN\n",
              "5               Albania  ...          NaN\n",
              "6               Albania  ...          NaN\n",
              "7               Algeria  ...          NaN\n",
              "8               Algeria  ...          NaN\n",
              "9               Algeria  ...          NaN\n",
              "10              Algeria  ...          NaN\n",
              "11              Algeria  ...          NaN\n",
              "12              Algeria  ...          NaN\n",
              "13               Angola  ...          NaN\n",
              "14               Angola  ...          NaN\n",
              "15               Angola  ...          NaN\n",
              "16               Angola  ...          NaN\n",
              "17  Antigua and Barbuda  ...          NaN\n",
              "18  Antigua and Barbuda  ...          NaN\n",
              "19  Antigua and Barbuda  ...          NaN\n",
              "\n",
              "[20 rows x 11 columns]"
            ]
          },
          "metadata": {
            "tags": []
          },
          "execution_count": 27
        }
      ]
    },
    {
      "cell_type": "code",
      "metadata": {
        "id": "A7fwUU3ceR0O"
      },
      "source": [
        "# Challenge 4:\n",
        "# Merge the following two manifesto project datasets and \n",
        "# discuss with your peer on origin of the missing values in the merged dataset\n",
        "#\n",
        "party_names_dataset  = 'http://bit.ly/PartyNamesMarporDataSet'\n",
        "party_names_dataset2 = 'http://bit.ly/PartyNamesPledges'\n",
        "\n",
        "\n",
        "p1 = pd.read_csv(party_names_dataset, encoding= 'latin1')\n",
        "p2 = pd.read_csv(party_names_dataset2, encoding= 'latin1')\n",
        "\n"
      ],
      "execution_count": 36,
      "outputs": []
    },
    {
      "cell_type": "code",
      "metadata": {
        "colab": {
          "base_uri": "https://localhost:8080/",
          "height": 204
        },
        "id": "9H5j_r7e26wz",
        "outputId": "8191ae60-bfd9-4ad1-a5ae-96e89a1fe893"
      },
      "source": [
        "p1.head()\n"
      ],
      "execution_count": 43,
      "outputs": [
        {
          "output_type": "execute_result",
          "data": {
            "text/html": [
              "<div>\n",
              "<style scoped>\n",
              "    .dataframe tbody tr th:only-of-type {\n",
              "        vertical-align: middle;\n",
              "    }\n",
              "\n",
              "    .dataframe tbody tr th {\n",
              "        vertical-align: top;\n",
              "    }\n",
              "\n",
              "    .dataframe thead th {\n",
              "        text-align: right;\n",
              "    }\n",
              "</style>\n",
              "<table border=\"1\" class=\"dataframe\">\n",
              "  <thead>\n",
              "    <tr style=\"text-align: right;\">\n",
              "      <th></th>\n",
              "      <th>name</th>\n",
              "      <th>c_p</th>\n",
              "    </tr>\n",
              "  </thead>\n",
              "  <tbody>\n",
              "    <tr>\n",
              "      <th>0</th>\n",
              "      <td>US_R</td>\n",
              "      <td>US_Democrats</td>\n",
              "    </tr>\n",
              "    <tr>\n",
              "      <th>1</th>\n",
              "      <td>US_D</td>\n",
              "      <td>US_Republicans</td>\n",
              "    </tr>\n",
              "    <tr>\n",
              "      <th>2</th>\n",
              "      <td>NL_PvdA</td>\n",
              "      <td>NL_PvdA</td>\n",
              "    </tr>\n",
              "    <tr>\n",
              "      <th>3</th>\n",
              "      <td>NL_D66</td>\n",
              "      <td>NL_D66</td>\n",
              "    </tr>\n",
              "    <tr>\n",
              "      <th>4</th>\n",
              "      <td>NL_CDA</td>\n",
              "      <td>NL_CDA</td>\n",
              "    </tr>\n",
              "  </tbody>\n",
              "</table>\n",
              "</div>"
            ],
            "text/plain": [
              "      name             c_p\n",
              "0     US_R    US_Democrats\n",
              "1     US_D  US_Republicans\n",
              "2  NL_PvdA         NL_PvdA\n",
              "3   NL_D66          NL_D66\n",
              "4   NL_CDA          NL_CDA"
            ]
          },
          "metadata": {
            "tags": []
          },
          "execution_count": 43
        }
      ]
    },
    {
      "cell_type": "code",
      "metadata": {
        "colab": {
          "base_uri": "https://localhost:8080/",
          "height": 204
        },
        "id": "g7DJOd2N2-o4",
        "outputId": "fd344216-59db-4fce-d0c6-93427fd13e75"
      },
      "source": [
        "p2.head()"
      ],
      "execution_count": 38,
      "outputs": [
        {
          "output_type": "execute_result",
          "data": {
            "text/html": [
              "<div>\n",
              "<style scoped>\n",
              "    .dataframe tbody tr th:only-of-type {\n",
              "        vertical-align: middle;\n",
              "    }\n",
              "\n",
              "    .dataframe tbody tr th {\n",
              "        vertical-align: top;\n",
              "    }\n",
              "\n",
              "    .dataframe thead th {\n",
              "        text-align: right;\n",
              "    }\n",
              "</style>\n",
              "<table border=\"1\" class=\"dataframe\">\n",
              "  <thead>\n",
              "    <tr style=\"text-align: right;\">\n",
              "      <th></th>\n",
              "      <th>partyid</th>\n",
              "      <th>name</th>\n",
              "    </tr>\n",
              "  </thead>\n",
              "  <tbody>\n",
              "    <tr>\n",
              "      <th>0</th>\n",
              "      <td>101</td>\n",
              "      <td>US_R</td>\n",
              "    </tr>\n",
              "    <tr>\n",
              "      <th>1</th>\n",
              "      <td>102</td>\n",
              "      <td>US_D</td>\n",
              "    </tr>\n",
              "    <tr>\n",
              "      <th>2</th>\n",
              "      <td>5</td>\n",
              "      <td>NL_PvdA</td>\n",
              "    </tr>\n",
              "    <tr>\n",
              "      <th>3</th>\n",
              "      <td>6</td>\n",
              "      <td>NL_D66</td>\n",
              "    </tr>\n",
              "    <tr>\n",
              "      <th>4</th>\n",
              "      <td>7</td>\n",
              "      <td>NL_CDA</td>\n",
              "    </tr>\n",
              "  </tbody>\n",
              "</table>\n",
              "</div>"
            ],
            "text/plain": [
              "   partyid     name\n",
              "0      101     US_R\n",
              "1      102     US_D\n",
              "2        5  NL_PvdA\n",
              "3        6   NL_D66\n",
              "4        7   NL_CDA"
            ]
          },
          "metadata": {
            "tags": []
          },
          "execution_count": 38
        }
      ]
    },
    {
      "cell_type": "code",
      "metadata": {
        "colab": {
          "base_uri": "https://localhost:8080/",
          "height": 204
        },
        "id": "-LEDG9Rt5KA2",
        "outputId": "92f81e3d-e835-479a-8912-072f8256314d"
      },
      "source": [
        "partym1 = p2.merge(p1, left_on= ' name', right_on= ' name')\n",
        "partym1.head()\n"
      ],
      "execution_count": 45,
      "outputs": [
        {
          "output_type": "execute_result",
          "data": {
            "text/html": [
              "<div>\n",
              "<style scoped>\n",
              "    .dataframe tbody tr th:only-of-type {\n",
              "        vertical-align: middle;\n",
              "    }\n",
              "\n",
              "    .dataframe tbody tr th {\n",
              "        vertical-align: top;\n",
              "    }\n",
              "\n",
              "    .dataframe thead th {\n",
              "        text-align: right;\n",
              "    }\n",
              "</style>\n",
              "<table border=\"1\" class=\"dataframe\">\n",
              "  <thead>\n",
              "    <tr style=\"text-align: right;\">\n",
              "      <th></th>\n",
              "      <th>partyid</th>\n",
              "      <th>name</th>\n",
              "      <th>c_p</th>\n",
              "    </tr>\n",
              "  </thead>\n",
              "  <tbody>\n",
              "    <tr>\n",
              "      <th>0</th>\n",
              "      <td>101</td>\n",
              "      <td>US_R</td>\n",
              "      <td>US_Democrats</td>\n",
              "    </tr>\n",
              "    <tr>\n",
              "      <th>1</th>\n",
              "      <td>102</td>\n",
              "      <td>US_D</td>\n",
              "      <td>US_Republicans</td>\n",
              "    </tr>\n",
              "    <tr>\n",
              "      <th>2</th>\n",
              "      <td>5</td>\n",
              "      <td>NL_PvdA</td>\n",
              "      <td>NL_PvdA</td>\n",
              "    </tr>\n",
              "    <tr>\n",
              "      <th>3</th>\n",
              "      <td>6</td>\n",
              "      <td>NL_D66</td>\n",
              "      <td>NL_D66</td>\n",
              "    </tr>\n",
              "    <tr>\n",
              "      <th>4</th>\n",
              "      <td>7</td>\n",
              "      <td>NL_CDA</td>\n",
              "      <td>NL_CDA</td>\n",
              "    </tr>\n",
              "  </tbody>\n",
              "</table>\n",
              "</div>"
            ],
            "text/plain": [
              "   partyid     name             c_p\n",
              "0      101     US_R    US_Democrats\n",
              "1      102     US_D  US_Republicans\n",
              "2        5  NL_PvdA         NL_PvdA\n",
              "3        6   NL_D66          NL_D66\n",
              "4        7   NL_CDA          NL_CDA"
            ]
          },
          "metadata": {
            "tags": []
          },
          "execution_count": 45
        }
      ]
    },
    {
      "cell_type": "code",
      "metadata": {
        "colab": {
          "base_uri": "https://localhost:8080/",
          "height": 204
        },
        "id": "ZsSpyGxn3HU7",
        "outputId": "7d70d1ee-cbd7-43c4-fc2c-884f242aacb7"
      },
      "source": [
        "partym = p2.merge(p1, how= 'left', on= ' name')\n",
        "partym.head()\n"
      ],
      "execution_count": 44,
      "outputs": [
        {
          "output_type": "execute_result",
          "data": {
            "text/html": [
              "<div>\n",
              "<style scoped>\n",
              "    .dataframe tbody tr th:only-of-type {\n",
              "        vertical-align: middle;\n",
              "    }\n",
              "\n",
              "    .dataframe tbody tr th {\n",
              "        vertical-align: top;\n",
              "    }\n",
              "\n",
              "    .dataframe thead th {\n",
              "        text-align: right;\n",
              "    }\n",
              "</style>\n",
              "<table border=\"1\" class=\"dataframe\">\n",
              "  <thead>\n",
              "    <tr style=\"text-align: right;\">\n",
              "      <th></th>\n",
              "      <th>partyid</th>\n",
              "      <th>name</th>\n",
              "      <th>c_p</th>\n",
              "    </tr>\n",
              "  </thead>\n",
              "  <tbody>\n",
              "    <tr>\n",
              "      <th>0</th>\n",
              "      <td>101</td>\n",
              "      <td>US_R</td>\n",
              "      <td>US_Democrats</td>\n",
              "    </tr>\n",
              "    <tr>\n",
              "      <th>1</th>\n",
              "      <td>102</td>\n",
              "      <td>US_D</td>\n",
              "      <td>US_Republicans</td>\n",
              "    </tr>\n",
              "    <tr>\n",
              "      <th>2</th>\n",
              "      <td>5</td>\n",
              "      <td>NL_PvdA</td>\n",
              "      <td>NL_PvdA</td>\n",
              "    </tr>\n",
              "    <tr>\n",
              "      <th>3</th>\n",
              "      <td>6</td>\n",
              "      <td>NL_D66</td>\n",
              "      <td>NL_D66</td>\n",
              "    </tr>\n",
              "    <tr>\n",
              "      <th>4</th>\n",
              "      <td>7</td>\n",
              "      <td>NL_CDA</td>\n",
              "      <td>NL_CDA</td>\n",
              "    </tr>\n",
              "  </tbody>\n",
              "</table>\n",
              "</div>"
            ],
            "text/plain": [
              "   partyid     name             c_p\n",
              "0      101     US_R    US_Democrats\n",
              "1      102     US_D  US_Republicans\n",
              "2        5  NL_PvdA         NL_PvdA\n",
              "3        6   NL_D66          NL_D66\n",
              "4        7   NL_CDA          NL_CDA"
            ]
          },
          "metadata": {
            "tags": []
          },
          "execution_count": 44
        }
      ]
    },
    {
      "cell_type": "markdown",
      "metadata": {
        "id": "vc56PH0F3yQk"
      },
      "source": [
        "## 1.2 User Input Values\n"
      ]
    },
    {
      "cell_type": "markdown",
      "metadata": {
        "id": "dcsdceT3kZ9T"
      },
      "source": [
        "Missing values within a dataset can also result from mistakes from the user during the data entry/collection phase. This could also result from creating a vector of values from a calculation or from manually curating a vector as shown in the examples below."
      ]
    },
    {
      "cell_type": "code",
      "metadata": {
        "id": "Ovv2uESk97lV"
      },
      "source": [
        "# Importing nan from numpy so as to represent missing values\n",
        "#\n",
        "from numpy import nan"
      ],
      "execution_count": 46,
      "outputs": []
    },
    {
      "cell_type": "code",
      "metadata": {
        "id": "NjxZX0bMlcDP",
        "colab": {
          "base_uri": "https://localhost:8080/"
        },
        "outputId": "055bf8a0-a476-407e-fb59-33675064dcf4"
      },
      "source": [
        "# Creating a missing value in a series\n",
        "# NB: Series is the datastructure for a single column of a DataFrame. \n",
        "# \n",
        "population = pd.Series({'Kenya': 47, 'Tanzania': nan, 'Uganda': 30})\n",
        "\n",
        "# Lets now print. Note that NaNs are also valid values for both Series and DataFrames\n",
        "#\n",
        "\n",
        "population"
      ],
      "execution_count": 47,
      "outputs": [
        {
          "output_type": "execute_result",
          "data": {
            "text/plain": [
              "Kenya       47.0\n",
              "Tanzania     NaN\n",
              "Uganda      30.0\n",
              "dtype: float64"
            ]
          },
          "metadata": {
            "tags": []
          },
          "execution_count": 47
        }
      ]
    },
    {
      "cell_type": "code",
      "metadata": {
        "id": "YpglYiRboZf8",
        "colab": {
          "base_uri": "https://localhost:8080/"
        },
        "outputId": "ea2dca63-887b-433e-e56a-04191ecff525"
      },
      "source": [
        "# Challenge 5:\n",
        "# Create a series with the names and ages of your peers. Note nan for the ages of peers who you don't know.\n",
        "# \n",
        "\n",
        "names = pd.Series({'Stephen': 100, 'Claire': nan, 'Serena': nan, 'Alex': nan, 'Peter': nan, })\n",
        "names"
      ],
      "execution_count": 49,
      "outputs": [
        {
          "output_type": "execute_result",
          "data": {
            "text/plain": [
              "Stephen    100.0\n",
              "Claire       NaN\n",
              "Serena       NaN\n",
              "Alex         NaN\n",
              "Peter        NaN\n",
              "dtype: float64"
            ]
          },
          "metadata": {
            "tags": []
          },
          "execution_count": 49
        }
      ]
    },
    {
      "cell_type": "code",
      "metadata": {
        "id": "8srkAWH-rRtr",
        "colab": {
          "base_uri": "https://localhost:8080/",
          "height": 142
        },
        "outputId": "035c0a76-46a2-40d9-9d54-04dedabb0fd2"
      },
      "source": [
        "# Now creating a missing value in a dataframe\n",
        "list_data = [['Steve', 56, 'Nairobi', 'no'],['Bill', 57, 'Machackos', 'yes'],['Richard', nan, nan, 'yes']]\n",
        "\n",
        "# Defining our columns\n",
        "age_df = pd.DataFrame(list_data, columns=['Name', 'Age', 'Hometown', 'Public Commute'])\n",
        "\n",
        "# Printing age_df\n",
        "age_df"
      ],
      "execution_count": 50,
      "outputs": [
        {
          "output_type": "execute_result",
          "data": {
            "text/html": [
              "<div>\n",
              "<style scoped>\n",
              "    .dataframe tbody tr th:only-of-type {\n",
              "        vertical-align: middle;\n",
              "    }\n",
              "\n",
              "    .dataframe tbody tr th {\n",
              "        vertical-align: top;\n",
              "    }\n",
              "\n",
              "    .dataframe thead th {\n",
              "        text-align: right;\n",
              "    }\n",
              "</style>\n",
              "<table border=\"1\" class=\"dataframe\">\n",
              "  <thead>\n",
              "    <tr style=\"text-align: right;\">\n",
              "      <th></th>\n",
              "      <th>Name</th>\n",
              "      <th>Age</th>\n",
              "      <th>Hometown</th>\n",
              "      <th>Public Commute</th>\n",
              "    </tr>\n",
              "  </thead>\n",
              "  <tbody>\n",
              "    <tr>\n",
              "      <th>0</th>\n",
              "      <td>Steve</td>\n",
              "      <td>56.0</td>\n",
              "      <td>Nairobi</td>\n",
              "      <td>no</td>\n",
              "    </tr>\n",
              "    <tr>\n",
              "      <th>1</th>\n",
              "      <td>Bill</td>\n",
              "      <td>57.0</td>\n",
              "      <td>Machackos</td>\n",
              "      <td>yes</td>\n",
              "    </tr>\n",
              "    <tr>\n",
              "      <th>2</th>\n",
              "      <td>Richard</td>\n",
              "      <td>NaN</td>\n",
              "      <td>NaN</td>\n",
              "      <td>yes</td>\n",
              "    </tr>\n",
              "  </tbody>\n",
              "</table>\n",
              "</div>"
            ],
            "text/plain": [
              "      Name   Age   Hometown Public Commute\n",
              "0    Steve  56.0    Nairobi             no\n",
              "1     Bill  57.0  Machackos            yes\n",
              "2  Richard   NaN        NaN            yes"
            ]
          },
          "metadata": {
            "tags": []
          },
          "execution_count": 50
        }
      ]
    },
    {
      "cell_type": "code",
      "metadata": {
        "id": "PUJgSHm-stTx",
        "colab": {
          "base_uri": "https://localhost:8080/",
          "height": 142
        },
        "outputId": "5d8ef784-19c1-4de6-b1d9-27d3531594af"
      },
      "source": [
        "# We can also assign a column of missing values to a dataframe directly\n",
        "#\n",
        "age_df['Public Commute'] = 'NaN';\n",
        "\n",
        "# print age_df\n",
        "#\n",
        "age_df"
      ],
      "execution_count": 58,
      "outputs": [
        {
          "output_type": "execute_result",
          "data": {
            "text/html": [
              "<div>\n",
              "<style scoped>\n",
              "    .dataframe tbody tr th:only-of-type {\n",
              "        vertical-align: middle;\n",
              "    }\n",
              "\n",
              "    .dataframe tbody tr th {\n",
              "        vertical-align: top;\n",
              "    }\n",
              "\n",
              "    .dataframe thead th {\n",
              "        text-align: right;\n",
              "    }\n",
              "</style>\n",
              "<table border=\"1\" class=\"dataframe\">\n",
              "  <thead>\n",
              "    <tr style=\"text-align: right;\">\n",
              "      <th></th>\n",
              "      <th>Name</th>\n",
              "      <th>Age</th>\n",
              "      <th>Hometown</th>\n",
              "      <th>Public Commute</th>\n",
              "    </tr>\n",
              "  </thead>\n",
              "  <tbody>\n",
              "    <tr>\n",
              "      <th>0</th>\n",
              "      <td>Steve</td>\n",
              "      <td>56.0</td>\n",
              "      <td>Nairobi</td>\n",
              "      <td>NaN</td>\n",
              "    </tr>\n",
              "    <tr>\n",
              "      <th>1</th>\n",
              "      <td>Bill</td>\n",
              "      <td>57.0</td>\n",
              "      <td>Machackos</td>\n",
              "      <td>NaN</td>\n",
              "    </tr>\n",
              "    <tr>\n",
              "      <th>2</th>\n",
              "      <td>Richard</td>\n",
              "      <td>NaN</td>\n",
              "      <td>NaN</td>\n",
              "      <td>NaN</td>\n",
              "    </tr>\n",
              "  </tbody>\n",
              "</table>\n",
              "</div>"
            ],
            "text/plain": [
              "      Name   Age   Hometown Public Commute\n",
              "0    Steve  56.0    Nairobi            NaN\n",
              "1     Bill  57.0  Machackos            NaN\n",
              "2  Richard   NaN        NaN            NaN"
            ]
          },
          "metadata": {
            "tags": []
          },
          "execution_count": 58
        }
      ]
    },
    {
      "cell_type": "code",
      "metadata": {
        "id": "vhMyz-00uCgC",
        "colab": {
          "base_uri": "https://localhost:8080/",
          "height": 142
        },
        "outputId": "eab7b1d7-ab19-4c80-ba1d-b933280be81d"
      },
      "source": [
        "# Challenge 6\n",
        "# Create a dataframe with a list of your country's presidents \n",
        "# with their no. of years in office and their last year in office. \n",
        "# NB: You do not know the last year of office for the current president. \n",
        "#\n",
        "\n",
        "p = [['Sanakara', 100, nan], ['Patrice', 150, '2020'], ['Samora', 85, '2000']]\n",
        "\n",
        "p_df = pd.DataFrame(p, columns=['Name','Number of Years in Office','Final Year in Office'])\n",
        "p_df"
      ],
      "execution_count": 59,
      "outputs": [
        {
          "output_type": "execute_result",
          "data": {
            "text/html": [
              "<div>\n",
              "<style scoped>\n",
              "    .dataframe tbody tr th:only-of-type {\n",
              "        vertical-align: middle;\n",
              "    }\n",
              "\n",
              "    .dataframe tbody tr th {\n",
              "        vertical-align: top;\n",
              "    }\n",
              "\n",
              "    .dataframe thead th {\n",
              "        text-align: right;\n",
              "    }\n",
              "</style>\n",
              "<table border=\"1\" class=\"dataframe\">\n",
              "  <thead>\n",
              "    <tr style=\"text-align: right;\">\n",
              "      <th></th>\n",
              "      <th>Name</th>\n",
              "      <th>Number of Years in Office</th>\n",
              "      <th>Final Year in Office</th>\n",
              "    </tr>\n",
              "  </thead>\n",
              "  <tbody>\n",
              "    <tr>\n",
              "      <th>0</th>\n",
              "      <td>Sanakara</td>\n",
              "      <td>100</td>\n",
              "      <td>NaN</td>\n",
              "    </tr>\n",
              "    <tr>\n",
              "      <th>1</th>\n",
              "      <td>Patrice</td>\n",
              "      <td>150</td>\n",
              "      <td>2020</td>\n",
              "    </tr>\n",
              "    <tr>\n",
              "      <th>2</th>\n",
              "      <td>Samora</td>\n",
              "      <td>85</td>\n",
              "      <td>2000</td>\n",
              "    </tr>\n",
              "  </tbody>\n",
              "</table>\n",
              "</div>"
            ],
            "text/plain": [
              "       Name  Number of Years in Office Final Year in Office\n",
              "0  Sanakara                        100                  NaN\n",
              "1   Patrice                        150                 2020\n",
              "2    Samora                         85                 2000"
            ]
          },
          "metadata": {
            "tags": []
          },
          "execution_count": 59
        }
      ]
    },
    {
      "cell_type": "markdown",
      "metadata": {
        "id": "ck7WHi5q30vR"
      },
      "source": [
        "## 1.3 Re-indexing\n"
      ]
    },
    {
      "cell_type": "markdown",
      "metadata": {
        "id": "hQUEsqgqzgJi"
      },
      "source": [
        "Missing values in data can also be introduced when we reindex our dataframe. We will show this through  a dataset from Gapminder."
      ]
    },
    {
      "cell_type": "code",
      "metadata": {
        "id": "LLwszhn_0D1_",
        "colab": {
          "base_uri": "https://localhost:8080/"
        },
        "outputId": "86249413-c4f4-41eb-dc34-31c6d7478ab3"
      },
      "source": [
        "# Getting our dataset\n",
        "gapminder_dataset    = 'http://bit.ly/GapMinderKenyaDataSet'\n",
        "gapminder_dataset_df = pd.read_csv(gapminder_dataset, encoding ='latin1')\n",
        "\n",
        "# printing the dataframe\n",
        "print(gapminder_dataset_df)"
      ],
      "execution_count": 60,
      "outputs": [
        {
          "output_type": "stream",
          "text": [
            "   country continent  year  lifeExp       pop    gdpPercap\n",
            "0    Kenya    Africa  1952   42.270   6464046   853.540919\n",
            "1    Kenya    Africa  1957   44.686   7454779   944.438315\n",
            "2    Kenya    Africa  1962   47.949   8678557   896.966373\n",
            "3    Kenya    Africa  1967   50.654  10191512  1056.736457\n",
            "4    Kenya    Africa  1972   53.559  12044785  1222.359968\n",
            "5    Kenya    Africa  1977   56.155  14500404  1267.613204\n",
            "6    Kenya    Africa  1982   58.766  17661452  1348.225791\n",
            "7    Kenya    Africa  1987   59.339  21198082  1361.936856\n",
            "8    Kenya    Africa  1992   59.285  25020539  1341.921721\n",
            "9    Kenya    Africa  1997   54.407  28263827  1360.485021\n",
            "10   Kenya    Africa  2002   50.992  31386842  1287.514732\n",
            "11   Kenya    Africa  2007   54.110  35610177  1463.249282\n"
          ],
          "name": "stdout"
        }
      ]
    },
    {
      "cell_type": "code",
      "metadata": {
        "id": "Qk6CFqnP3VyD",
        "colab": {
          "base_uri": "https://localhost:8080/"
        },
        "outputId": "3d383987-f7f8-44c3-f9f1-4930f76ac630"
      },
      "source": [
        "# now performing a groupby operation so as to subset the data\n",
        "life_exp = gapminder_dataset_df.groupby(['year'])['lifeExp'].mean()\n",
        "print(life_exp)"
      ],
      "execution_count": 63,
      "outputs": [
        {
          "output_type": "stream",
          "text": [
            "year\n",
            "1952    42.270\n",
            "1957    44.686\n",
            "1962    47.949\n",
            "1967    50.654\n",
            "1972    53.559\n",
            "1977    56.155\n",
            "1982    58.766\n",
            "1987    59.339\n",
            "1992    59.285\n",
            "1997    54.407\n",
            "2002    50.992\n",
            "2007    54.110\n",
            "Name: lifeExp, dtype: float64\n"
          ],
          "name": "stdout"
        }
      ]
    },
    {
      "cell_type": "code",
      "metadata": {
        "id": "dreKsIPC33IN"
      },
      "source": [
        "# We then reindexing by slicing the data. We continue to chain the 'loc' from the code above\n",
        "#print(life_exp.loc[2000:2010])\n",
        "\n",
        "print(life_exp.loc[range(2000,2007)])\n"
      ],
      "execution_count": null,
      "outputs": []
    },
    {
      "cell_type": "markdown",
      "metadata": {
        "id": "z3D_BL4Y6Wc-"
      },
      "source": [
        "Now, it seems we have been provided a suggestion to use the reindex() method. We will do this below as we choose to subset the data separately and then use the reindex() method."
      ]
    },
    {
      "cell_type": "code",
      "metadata": {
        "id": "QHf1dxsB6Zgj",
        "colab": {
          "base_uri": "https://localhost:8080/"
        },
        "outputId": "a36fe3b3-e8f6-4382-a069-0c733ad2ccd0"
      },
      "source": [
        "# subsetting the dataframe\n",
        "y_2000_df = life_exp[life_exp.index > 2000] \n",
        "print(y_2000_df)"
      ],
      "execution_count": 86,
      "outputs": [
        {
          "output_type": "stream",
          "text": [
            "year\n",
            "2002    50.992\n",
            "2007    54.110\n",
            "Name: lifeExp, dtype: float64\n"
          ],
          "name": "stdout"
        }
      ]
    },
    {
      "cell_type": "code",
      "metadata": {
        "id": "zw134j3963KS",
        "colab": {
          "base_uri": "https://localhost:8080/"
        },
        "outputId": "4ffeb67a-713a-4227-dafa-5b8043fa173c"
      },
      "source": [
        "# then reindexing\n",
        "print(y_2000_df.reindex(range(2000, 2010)))"
      ],
      "execution_count": 87,
      "outputs": [
        {
          "output_type": "stream",
          "text": [
            "year\n",
            "2000       NaN\n",
            "2001       NaN\n",
            "2002    50.992\n",
            "2003       NaN\n",
            "2004       NaN\n",
            "2005       NaN\n",
            "2006       NaN\n",
            "2007    54.110\n",
            "2008       NaN\n",
            "2009       NaN\n",
            "Name: lifeExp, dtype: float64\n"
          ],
          "name": "stdout"
        }
      ]
    },
    {
      "cell_type": "code",
      "metadata": {
        "id": "cGkhGcDr9CHB",
        "colab": {
          "base_uri": "https://localhost:8080/",
          "height": 421
        },
        "outputId": "b8a332e6-478e-4f1a-8371-1b4aa526d837"
      },
      "source": [
        "# Challenge 7\n",
        "# We would want to look at only the years from 2000 to 2010 from the gapminder dataset below. \n",
        "# Perform grouped operations, subseting the data and then re-indexing it. \n",
        "# Show how this process might result to getting missing values.\n",
        "\n",
        "# Assinging data the url for our dataset\n",
        "data = 'http://bit.ly/GapMinderUgandaDataSet'\n",
        "\n",
        "dff = pd.read_csv(data, encoding= 'latin1')\n",
        "dff"
      ],
      "execution_count": 88,
      "outputs": [
        {
          "output_type": "execute_result",
          "data": {
            "text/html": [
              "<div>\n",
              "<style scoped>\n",
              "    .dataframe tbody tr th:only-of-type {\n",
              "        vertical-align: middle;\n",
              "    }\n",
              "\n",
              "    .dataframe tbody tr th {\n",
              "        vertical-align: top;\n",
              "    }\n",
              "\n",
              "    .dataframe thead th {\n",
              "        text-align: right;\n",
              "    }\n",
              "</style>\n",
              "<table border=\"1\" class=\"dataframe\">\n",
              "  <thead>\n",
              "    <tr style=\"text-align: right;\">\n",
              "      <th></th>\n",
              "      <th>country</th>\n",
              "      <th>continent</th>\n",
              "      <th>year</th>\n",
              "      <th>lifeExp</th>\n",
              "      <th>pop</th>\n",
              "      <th>gdpPercap</th>\n",
              "    </tr>\n",
              "  </thead>\n",
              "  <tbody>\n",
              "    <tr>\n",
              "      <th>0</th>\n",
              "      <td>Uganda</td>\n",
              "      <td>Africa</td>\n",
              "      <td>1952</td>\n",
              "      <td>39.978</td>\n",
              "      <td>5824797</td>\n",
              "      <td>734.753484</td>\n",
              "    </tr>\n",
              "    <tr>\n",
              "      <th>1</th>\n",
              "      <td>Uganda</td>\n",
              "      <td>Africa</td>\n",
              "      <td>1957</td>\n",
              "      <td>42.571</td>\n",
              "      <td>6675501</td>\n",
              "      <td>774.371069</td>\n",
              "    </tr>\n",
              "    <tr>\n",
              "      <th>2</th>\n",
              "      <td>Uganda</td>\n",
              "      <td>Africa</td>\n",
              "      <td>1962</td>\n",
              "      <td>45.344</td>\n",
              "      <td>7688797</td>\n",
              "      <td>767.271740</td>\n",
              "    </tr>\n",
              "    <tr>\n",
              "      <th>3</th>\n",
              "      <td>Uganda</td>\n",
              "      <td>Africa</td>\n",
              "      <td>1967</td>\n",
              "      <td>48.051</td>\n",
              "      <td>8900294</td>\n",
              "      <td>908.918522</td>\n",
              "    </tr>\n",
              "    <tr>\n",
              "      <th>4</th>\n",
              "      <td>Uganda</td>\n",
              "      <td>Africa</td>\n",
              "      <td>1972</td>\n",
              "      <td>51.016</td>\n",
              "      <td>10190285</td>\n",
              "      <td>950.735869</td>\n",
              "    </tr>\n",
              "    <tr>\n",
              "      <th>5</th>\n",
              "      <td>Uganda</td>\n",
              "      <td>Africa</td>\n",
              "      <td>1977</td>\n",
              "      <td>50.350</td>\n",
              "      <td>11457758</td>\n",
              "      <td>843.733137</td>\n",
              "    </tr>\n",
              "    <tr>\n",
              "      <th>6</th>\n",
              "      <td>Uganda</td>\n",
              "      <td>Africa</td>\n",
              "      <td>1982</td>\n",
              "      <td>49.849</td>\n",
              "      <td>12939400</td>\n",
              "      <td>682.266227</td>\n",
              "    </tr>\n",
              "    <tr>\n",
              "      <th>7</th>\n",
              "      <td>Uganda</td>\n",
              "      <td>Africa</td>\n",
              "      <td>1987</td>\n",
              "      <td>51.509</td>\n",
              "      <td>15283050</td>\n",
              "      <td>617.724406</td>\n",
              "    </tr>\n",
              "    <tr>\n",
              "      <th>8</th>\n",
              "      <td>Uganda</td>\n",
              "      <td>Africa</td>\n",
              "      <td>1992</td>\n",
              "      <td>48.825</td>\n",
              "      <td>18252190</td>\n",
              "      <td>644.170797</td>\n",
              "    </tr>\n",
              "    <tr>\n",
              "      <th>9</th>\n",
              "      <td>Uganda</td>\n",
              "      <td>Africa</td>\n",
              "      <td>1997</td>\n",
              "      <td>44.578</td>\n",
              "      <td>21210254</td>\n",
              "      <td>816.559081</td>\n",
              "    </tr>\n",
              "    <tr>\n",
              "      <th>10</th>\n",
              "      <td>Uganda</td>\n",
              "      <td>Africa</td>\n",
              "      <td>2002</td>\n",
              "      <td>47.813</td>\n",
              "      <td>24739869</td>\n",
              "      <td>927.721002</td>\n",
              "    </tr>\n",
              "    <tr>\n",
              "      <th>11</th>\n",
              "      <td>Uganda</td>\n",
              "      <td>Africa</td>\n",
              "      <td>2007</td>\n",
              "      <td>51.542</td>\n",
              "      <td>29170398</td>\n",
              "      <td>1056.380121</td>\n",
              "    </tr>\n",
              "  </tbody>\n",
              "</table>\n",
              "</div>"
            ],
            "text/plain": [
              "   country continent  year  lifeExp       pop    gdpPercap\n",
              "0   Uganda    Africa  1952   39.978   5824797   734.753484\n",
              "1   Uganda    Africa  1957   42.571   6675501   774.371069\n",
              "2   Uganda    Africa  1962   45.344   7688797   767.271740\n",
              "3   Uganda    Africa  1967   48.051   8900294   908.918522\n",
              "4   Uganda    Africa  1972   51.016  10190285   950.735869\n",
              "5   Uganda    Africa  1977   50.350  11457758   843.733137\n",
              "6   Uganda    Africa  1982   49.849  12939400   682.266227\n",
              "7   Uganda    Africa  1987   51.509  15283050   617.724406\n",
              "8   Uganda    Africa  1992   48.825  18252190   644.170797\n",
              "9   Uganda    Africa  1997   44.578  21210254   816.559081\n",
              "10  Uganda    Africa  2002   47.813  24739869   927.721002\n",
              "11  Uganda    Africa  2007   51.542  29170398  1056.380121"
            ]
          },
          "metadata": {
            "tags": []
          },
          "execution_count": 88
        }
      ]
    },
    {
      "cell_type": "code",
      "metadata": {
        "colab": {
          "base_uri": "https://localhost:8080/"
        },
        "id": "SU-8wrpMCFLe",
        "outputId": "201cfac4-6ce4-4979-f128-3fb4de3ca0d4"
      },
      "source": [
        "#grouping\n",
        "lifExp = dff.groupby(['year'])['lifeExp'].mean()\n",
        "print(lifExp)"
      ],
      "execution_count": 89,
      "outputs": [
        {
          "output_type": "stream",
          "text": [
            "year\n",
            "1952    39.978\n",
            "1957    42.571\n",
            "1962    45.344\n",
            "1967    48.051\n",
            "1972    51.016\n",
            "1977    50.350\n",
            "1982    49.849\n",
            "1987    51.509\n",
            "1992    48.825\n",
            "1997    44.578\n",
            "2002    47.813\n",
            "2007    51.542\n",
            "Name: lifeExp, dtype: float64\n"
          ],
          "name": "stdout"
        }
      ]
    },
    {
      "cell_type": "code",
      "metadata": {
        "colab": {
          "base_uri": "https://localhost:8080/"
        },
        "id": "Eul4VoLNBr-D",
        "outputId": "03739107-4f95-46c2-ce55-ab64bc03a779"
      },
      "source": [
        "#showing>2000\n",
        "\n",
        "dff2 = lifExp[lifExp.index > 2000 ]\n",
        "dff2"
      ],
      "execution_count": 91,
      "outputs": [
        {
          "output_type": "execute_result",
          "data": {
            "text/plain": [
              "year\n",
              "2002    47.813\n",
              "2007    51.542\n",
              "Name: lifeExp, dtype: float64"
            ]
          },
          "metadata": {
            "tags": []
          },
          "execution_count": 91
        }
      ]
    },
    {
      "cell_type": "code",
      "metadata": {
        "colab": {
          "base_uri": "https://localhost:8080/"
        },
        "id": "mbnEubtGCoqI",
        "outputId": "ee4a90a5-8f32-433d-c98d-3b6e56a2ae26"
      },
      "source": [
        "#reindexing\n",
        "dff2.reindex(range(2000, 2010))"
      ],
      "execution_count": 93,
      "outputs": [
        {
          "output_type": "execute_result",
          "data": {
            "text/plain": [
              "year\n",
              "2000       NaN\n",
              "2001       NaN\n",
              "2002    47.813\n",
              "2003       NaN\n",
              "2004       NaN\n",
              "2005       NaN\n",
              "2006       NaN\n",
              "2007    51.542\n",
              "2008       NaN\n",
              "2009       NaN\n",
              "Name: lifeExp, dtype: float64"
            ]
          },
          "metadata": {
            "tags": []
          },
          "execution_count": 93
        }
      ]
    },
    {
      "cell_type": "markdown",
      "metadata": {
        "id": "EkPq4SVvwIEh"
      },
      "source": [
        ""
      ]
    }
  ]
}